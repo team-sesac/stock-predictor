{
 "cells": [
  {
   "cell_type": "markdown",
   "execution_count": null,
   "metadata": {
    "id": "NS8nLC1gjjwu",
    "papermill": {
     "duration": 0.035643,
     "end_time": "2020-08-24T10:53:47.456893",
     "exception": false,
     "start_time": "2020-08-24T10:53:47.421250",
     "status": "completed"
    },
    "tags": []
   },
   "source": [
    "<h1> <div align=\"center\">Lending Club Loan Approval Prediction </div></h1>\n",
    "\n",
    "---\n",
    "---\n",
    "\n",
    "\n",
    "**Problem Statement**: \n",
    "1. To predict whether or not a borrower will pay back their loan, given historical data on loans given out with information on whether or not the borrower defaulted (charge-off)\n",
    "\n",
    "2. Assessing a new potential customer whether or not they are likely to pay back the loan in the future.\n",
    "\n",
    "\n",
    "\n",
    "&nbsp; \n",
    "\n",
    "\n",
    "\n",
    "**Data used**: [Click here to download](https://www.kaggle.com/hadiyad/lendingclub-data-sets/download)\n",
    "\n",
    "**Solution by**: Aditya Karanth.\n",
    "\n",
    "**GitHub Profile**: https://github.com/Aditya-Karanth\n",
    "\n",
    "**Kaggle Profile**: https://www.kaggle.com/adityakaranth\n",
    "\n",
    "\n",
    "\n",
    "\n"
   ]
  },
  {
   "cell_type": "markdown",
   "execution_count": null,
   "metadata": {
    "id": "ltc0XIoEG9J3",
    "papermill": {
     "duration": 0.031255,
     "end_time": "2020-08-24T10:53:47.520993",
     "exception": false,
     "start_time": "2020-08-24T10:53:47.489738",
     "status": "completed"
    },
    "tags": []
   },
   "source": [
    "<h2>Project Planning :</h2> \n",
    "\n",
    "---\n",
    "---\n",
    "&nbsp;\n",
    "\n",
    "\n",
    "### **Data Understanding**\n",
    "- **Imports -** \n",
    "  - Contains all the imports necessary for reading data, visualizations and model buiding and evaluating.\n",
    "- **Getting Data -** \n",
    "  - Understanding nature of the data *.info()*, *.describe()*\n",
    "  - Function to get information about a each feature.\n",
    "  - Checking numerical and categorical features.\n",
    "\n",
    "&nbsp;\n",
    "### **Data Preparation**\n",
    "- **Exploring Data**\n",
    "  - Checking missing data using heatmaps.\n",
    "  - Distribution of dependent variable\n",
    "  - Visualization of different features to understand relations and distributions.\n",
    "  - Understanding the correlation between features using heatmaps.\n",
    "\n",
    "- **Data Preprocessing**\n",
    "  - **Data Cleaning -**\n",
    "    - Handling missing data for each feature using defined *function* and *median*.\n",
    "    - Removing features with less information and unwanted features.\n",
    "\n",
    "  - **Feature Engineering -**\n",
    "    - Deriving numerical information from categorical features.\n",
    "    - Removing features with same information and high correlation.\n",
    "    - Converting all categorical features to numerical using *dummies* and dropping all original categorical features.\n",
    "\n",
    "  - **Data Tranformation -**\n",
    "    - Splitting data in to training and testing.\n",
    "\n",
    "  - **Normalization -**\n",
    "    - Scaling training and testing data using *MinMax Scaler*.\n",
    "\n",
    "&nbsp;\n",
    "### **Modeling**\n",
    "- Creating the Sequential *ANN* model.\n",
    "- Compiling and Fitting the created model with *Early Stopping* and *Tensor Board* and checking the model summary.\n",
    "\n",
    "&nbsp;\n",
    "### **Evaluation**\n",
    "- **Predictions and Losses** -\n",
    "  - Predictions on test set\n",
    "  - Evaluation of model with classification report and confusion matrix.\n",
    "  - Obtaining metrics like loss, accuracy, val_loss, val_accuracy from model\n",
    "  - Plotting train v/s validation metrics of model.\n",
    "\n",
    "- **Tensor Board**-\n",
    "  - visualizing metrics on tensor board in colab.\n",
    "\n",
    "- **New Customer Loan Repayment Prediction**\n",
    "  - Training a model on whole dataset (X and y) without splitting.\n",
    "  - Function \"assess_customer\" to assess new customers whether they payback loan or not.\n",
    "  - Check model predictions on new customer.\n",
    "\n"
   ]
  },
  {
   "cell_type": "markdown",
   "execution_count": null,
   "metadata": {
    "id": "2pc8Dn7CxpHC",
    "papermill": {
     "duration": 0.031814,
     "end_time": "2020-08-24T10:53:47.584962",
     "exception": false,
     "start_time": "2020-08-24T10:53:47.553148",
     "status": "completed"
    },
    "tags": []
   },
   "source": [
    "# **Data Understanding**\n",
    "---"
   ]
  },
  {
   "cell_type": "markdown",
   "execution_count": null,
   "metadata": {
    "id": "LgguGN9cEuXb",
    "papermill": {
     "duration": 0.031237,
     "end_time": "2020-08-24T10:53:47.647825",
     "exception": false,
     "start_time": "2020-08-24T10:53:47.616588",
     "status": "completed"
    },
    "tags": []
   },
   "source": [
    "## **Imports**\n"
   ]
  },
  {
   "cell_type": "code",
   "execution_count": 1,
   "metadata": {
    "execution": {
     "iopub.execute_input": "2020-08-24T10:53:47.726905Z",
     "iopub.status.busy": "2020-08-24T10:53:47.721425Z",
     "iopub.status.idle": "2020-08-24T10:53:54.616567Z",
     "shell.execute_reply": "2020-08-24T10:53:54.615820Z"
    },
    "id": "c5J6fPneEyw-",
    "papermill": {
     "duration": 6.937158,
     "end_time": "2020-08-24T10:53:54.616704",
     "exception": false,
     "start_time": "2020-08-24T10:53:47.679546",
     "status": "completed"
    },
    "tags": []
   },
   "outputs": [],
   "source": [
    "# Basic Imports\n",
    "import numpy as np\n",
    "import pandas as pd\n",
    "import os\n",
    "\n",
    "# Visualization \n",
    "import matplotlib\n",
    "import matplotlib.pyplot as plt\n",
    "import seaborn as sns\n",
    "%matplotlib inline\n",
    "sns.set_style('whitegrid')\n",
    "matplotlib.rcParams['figure.figsize'] = (12,8)  \n",
    "\n",
    "# Model\n",
    "from sklearn.model_selection import train_test_split\n",
    "from sklearn.preprocessing import MinMaxScaler\n",
    "from datetime import datetime\n",
    "\n",
    "import tensorflow as tf\n",
    "from tensorflow.keras.models import Sequential\n",
    "from tensorflow.keras.layers import Dense,Dropout\n",
    "from tensorflow.keras.constraints import max_norm\n",
    "from tensorflow.keras.callbacks import EarlyStopping, TensorBoard\n",
    "\n",
    "# Evaluation\n",
    "from sklearn.metrics import classification_report,confusion_matrix"
   ]
  },
  {
   "cell_type": "code",
   "execution_count": 2,
   "metadata": {
    "execution": {
     "iopub.execute_input": "2020-08-24T10:53:54.687986Z",
     "iopub.status.busy": "2020-08-24T10:53:54.686896Z",
     "iopub.status.idle": "2020-08-24T10:53:54.691273Z",
     "shell.execute_reply": "2020-08-24T10:53:54.691894Z"
    },
    "id": "jPO4nxDLSI5-",
    "outputId": "30dacc93-0706-43e8-da7c-5fc6ea404f75",
    "papermill": {
     "duration": 0.043687,
     "end_time": "2020-08-24T10:53:54.692083",
     "exception": false,
     "start_time": "2020-08-24T10:53:54.648396",
     "status": "completed"
    },
    "tags": []
   },
   "outputs": [
    {
     "data": {
      "text/plain": [
       "'2.3.0'"
      ]
     },
     "execution_count": 2,
     "metadata": {},
     "output_type": "execute_result"
    }
   ],
   "source": [
    "tf.__version__"
   ]
  },
  {
   "cell_type": "markdown",
   "execution_count": null,
   "metadata": {
    "id": "qF_bhfpT3E2_",
    "papermill": {
     "duration": 0.031158,
     "end_time": "2020-08-24T10:53:54.755078",
     "exception": false,
     "start_time": "2020-08-24T10:53:54.723920",
     "status": "completed"
    },
    "tags": []
   },
   "source": [
    "## **Getting Data**"
   ]
  },
  {
   "cell_type": "code",
   "execution_count": 3,
   "metadata": {
    "execution": {
     "iopub.execute_input": "2020-08-24T10:53:54.831142Z",
     "iopub.status.busy": "2020-08-24T10:53:54.829980Z",
     "iopub.status.idle": "2020-08-24T10:53:57.795426Z",
     "shell.execute_reply": "2020-08-24T10:53:57.794520Z"
    },
    "id": "dt2YpnxkkSV5",
    "papermill": {
     "duration": 3.009016,
     "end_time": "2020-08-24T10:53:57.795580",
     "exception": false,
     "start_time": "2020-08-24T10:53:54.786564",
     "status": "completed"
    },
    "tags": []
   },
   "outputs": [],
   "source": [
    "# Loading the dataset\n",
    "df_info = pd.read_csv('../input/lendingclub-data-sets/lending_club_info.csv', index_col='LoanStatNew')\n",
    "df = pd.read_csv('../input/lendingclub-data-sets/lending_club_loan_two.csv')"
   ]
  },
  {
   "cell_type": "code",
   "execution_count": 4,
   "metadata": {
    "execution": {
     "iopub.execute_input": "2020-08-24T10:53:57.871150Z",
     "iopub.status.busy": "2020-08-24T10:53:57.870353Z",
     "iopub.status.idle": "2020-08-24T10:53:57.878873Z",
     "shell.execute_reply": "2020-08-24T10:53:57.878070Z"
    },
    "id": "XjtS7uek3Lvx",
    "outputId": "92b31d95-16d0-472f-ae86-d718dcf42bf6",
    "papermill": {
     "duration": 0.051021,
     "end_time": "2020-08-24T10:53:57.879010",
     "exception": false,
     "start_time": "2020-08-24T10:53:57.827989",
     "status": "completed"
    },
    "tags": []
   },
   "outputs": [
    {
     "data": {
      "text/html": [
       "<div>\n",
       "<style scoped>\n",
       "    .dataframe tbody tr th:only-of-type {\n",
       "        vertical-align: middle;\n",
       "    }\n",
       "\n",
       "    .dataframe tbody tr th {\n",
       "        vertical-align: top;\n",
       "    }\n",
       "\n",
       "    .dataframe thead th {\n",
       "        text-align: right;\n",
       "    }\n",
       "</style>\n",
       "<table border=\"1\" class=\"dataframe\">\n",
       "  <thead>\n",
       "    <tr style=\"text-align: right;\">\n",
       "      <th></th>\n",
       "      <th>Description</th>\n",
       "    </tr>\n",
       "    <tr>\n",
       "      <th>LoanStatNew</th>\n",
       "      <th></th>\n",
       "    </tr>\n",
       "  </thead>\n",
       "  <tbody>\n",
       "    <tr>\n",
       "      <th>loan_amnt</th>\n",
       "      <td>The listed amount of the loan applied for by t...</td>\n",
       "    </tr>\n",
       "    <tr>\n",
       "      <th>term</th>\n",
       "      <td>The number of payments on the loan. Values are...</td>\n",
       "    </tr>\n",
       "    <tr>\n",
       "      <th>int_rate</th>\n",
       "      <td>Interest Rate on the loan</td>\n",
       "    </tr>\n",
       "    <tr>\n",
       "      <th>installment</th>\n",
       "      <td>The monthly payment owed by the borrower if th...</td>\n",
       "    </tr>\n",
       "    <tr>\n",
       "      <th>grade</th>\n",
       "      <td>LC assigned loan grade</td>\n",
       "    </tr>\n",
       "  </tbody>\n",
       "</table>\n",
       "</div>"
      ],
      "text/plain": [
       "                                                   Description\n",
       "LoanStatNew                                                   \n",
       "loan_amnt    The listed amount of the loan applied for by t...\n",
       "term         The number of payments on the loan. Values are...\n",
       "int_rate                             Interest Rate on the loan\n",
       "installment  The monthly payment owed by the borrower if th...\n",
       "grade                                   LC assigned loan grade"
      ]
     },
     "execution_count": 4,
     "metadata": {},
     "output_type": "execute_result"
    }
   ],
   "source": [
    "# df_info contains description about all the features present in dataset(df)\n",
    "# Target is loan_status\n",
    "df_info.head()"
   ]
  },
  {
   "cell_type": "code",
   "execution_count": 5,
   "metadata": {
    "execution": {
     "iopub.execute_input": "2020-08-24T10:53:57.982528Z",
     "iopub.status.busy": "2020-08-24T10:53:57.981381Z",
     "iopub.status.idle": "2020-08-24T10:53:57.986502Z",
     "shell.execute_reply": "2020-08-24T10:53:57.987034Z"
    },
    "id": "_B9OfohGry9E",
    "outputId": "989a3606-053c-463e-fcf9-a65eed5444b2",
    "papermill": {
     "duration": 0.075893,
     "end_time": "2020-08-24T10:53:57.987213",
     "exception": false,
     "start_time": "2020-08-24T10:53:57.911320",
     "status": "completed"
    },
    "tags": []
   },
   "outputs": [
    {
     "data": {
      "text/html": [
       "<div>\n",
       "<style scoped>\n",
       "    .dataframe tbody tr th:only-of-type {\n",
       "        vertical-align: middle;\n",
       "    }\n",
       "\n",
       "    .dataframe tbody tr th {\n",
       "        vertical-align: top;\n",
       "    }\n",
       "\n",
       "    .dataframe thead th {\n",
       "        text-align: right;\n",
       "    }\n",
       "</style>\n",
       "<table border=\"1\" class=\"dataframe\">\n",
       "  <thead>\n",
       "    <tr style=\"text-align: right;\">\n",
       "      <th></th>\n",
       "      <th>loan_amnt</th>\n",
       "      <th>term</th>\n",
       "      <th>int_rate</th>\n",
       "      <th>installment</th>\n",
       "      <th>grade</th>\n",
       "      <th>sub_grade</th>\n",
       "      <th>emp_title</th>\n",
       "      <th>emp_length</th>\n",
       "      <th>home_ownership</th>\n",
       "      <th>annual_inc</th>\n",
       "      <th>...</th>\n",
       "      <th>open_acc</th>\n",
       "      <th>pub_rec</th>\n",
       "      <th>revol_bal</th>\n",
       "      <th>revol_util</th>\n",
       "      <th>total_acc</th>\n",
       "      <th>initial_list_status</th>\n",
       "      <th>application_type</th>\n",
       "      <th>mort_acc</th>\n",
       "      <th>pub_rec_bankruptcies</th>\n",
       "      <th>address</th>\n",
       "    </tr>\n",
       "  </thead>\n",
       "  <tbody>\n",
       "    <tr>\n",
       "      <th>0</th>\n",
       "      <td>10000.0</td>\n",
       "      <td>36 months</td>\n",
       "      <td>11.44</td>\n",
       "      <td>329.48</td>\n",
       "      <td>B</td>\n",
       "      <td>B4</td>\n",
       "      <td>Marketing</td>\n",
       "      <td>10+ years</td>\n",
       "      <td>RENT</td>\n",
       "      <td>117000.0</td>\n",
       "      <td>...</td>\n",
       "      <td>16.0</td>\n",
       "      <td>0.0</td>\n",
       "      <td>36369.0</td>\n",
       "      <td>41.8</td>\n",
       "      <td>25.0</td>\n",
       "      <td>w</td>\n",
       "      <td>INDIVIDUAL</td>\n",
       "      <td>0.0</td>\n",
       "      <td>0.0</td>\n",
       "      <td>0174 Michelle Gateway\\nMendozaberg, OK 22690</td>\n",
       "    </tr>\n",
       "    <tr>\n",
       "      <th>1</th>\n",
       "      <td>8000.0</td>\n",
       "      <td>36 months</td>\n",
       "      <td>11.99</td>\n",
       "      <td>265.68</td>\n",
       "      <td>B</td>\n",
       "      <td>B5</td>\n",
       "      <td>Credit analyst</td>\n",
       "      <td>4 years</td>\n",
       "      <td>MORTGAGE</td>\n",
       "      <td>65000.0</td>\n",
       "      <td>...</td>\n",
       "      <td>17.0</td>\n",
       "      <td>0.0</td>\n",
       "      <td>20131.0</td>\n",
       "      <td>53.3</td>\n",
       "      <td>27.0</td>\n",
       "      <td>f</td>\n",
       "      <td>INDIVIDUAL</td>\n",
       "      <td>3.0</td>\n",
       "      <td>0.0</td>\n",
       "      <td>1076 Carney Fort Apt. 347\\nLoganmouth, SD 05113</td>\n",
       "    </tr>\n",
       "    <tr>\n",
       "      <th>2</th>\n",
       "      <td>15600.0</td>\n",
       "      <td>36 months</td>\n",
       "      <td>10.49</td>\n",
       "      <td>506.97</td>\n",
       "      <td>B</td>\n",
       "      <td>B3</td>\n",
       "      <td>Statistician</td>\n",
       "      <td>&lt; 1 year</td>\n",
       "      <td>RENT</td>\n",
       "      <td>43057.0</td>\n",
       "      <td>...</td>\n",
       "      <td>13.0</td>\n",
       "      <td>0.0</td>\n",
       "      <td>11987.0</td>\n",
       "      <td>92.2</td>\n",
       "      <td>26.0</td>\n",
       "      <td>f</td>\n",
       "      <td>INDIVIDUAL</td>\n",
       "      <td>0.0</td>\n",
       "      <td>0.0</td>\n",
       "      <td>87025 Mark Dale Apt. 269\\nNew Sabrina, WV 05113</td>\n",
       "    </tr>\n",
       "    <tr>\n",
       "      <th>3</th>\n",
       "      <td>7200.0</td>\n",
       "      <td>36 months</td>\n",
       "      <td>6.49</td>\n",
       "      <td>220.65</td>\n",
       "      <td>A</td>\n",
       "      <td>A2</td>\n",
       "      <td>Client Advocate</td>\n",
       "      <td>6 years</td>\n",
       "      <td>RENT</td>\n",
       "      <td>54000.0</td>\n",
       "      <td>...</td>\n",
       "      <td>6.0</td>\n",
       "      <td>0.0</td>\n",
       "      <td>5472.0</td>\n",
       "      <td>21.5</td>\n",
       "      <td>13.0</td>\n",
       "      <td>f</td>\n",
       "      <td>INDIVIDUAL</td>\n",
       "      <td>0.0</td>\n",
       "      <td>0.0</td>\n",
       "      <td>823 Reid Ford\\nDelacruzside, MA 00813</td>\n",
       "    </tr>\n",
       "    <tr>\n",
       "      <th>4</th>\n",
       "      <td>24375.0</td>\n",
       "      <td>60 months</td>\n",
       "      <td>17.27</td>\n",
       "      <td>609.33</td>\n",
       "      <td>C</td>\n",
       "      <td>C5</td>\n",
       "      <td>Destiny Management Inc.</td>\n",
       "      <td>9 years</td>\n",
       "      <td>MORTGAGE</td>\n",
       "      <td>55000.0</td>\n",
       "      <td>...</td>\n",
       "      <td>13.0</td>\n",
       "      <td>0.0</td>\n",
       "      <td>24584.0</td>\n",
       "      <td>69.8</td>\n",
       "      <td>43.0</td>\n",
       "      <td>f</td>\n",
       "      <td>INDIVIDUAL</td>\n",
       "      <td>1.0</td>\n",
       "      <td>0.0</td>\n",
       "      <td>679 Luna Roads\\nGreggshire, VA 11650</td>\n",
       "    </tr>\n",
       "  </tbody>\n",
       "</table>\n",
       "<p>5 rows × 27 columns</p>\n",
       "</div>"
      ],
      "text/plain": [
       "   loan_amnt        term  int_rate  installment grade sub_grade  \\\n",
       "0    10000.0   36 months     11.44       329.48     B        B4   \n",
       "1     8000.0   36 months     11.99       265.68     B        B5   \n",
       "2    15600.0   36 months     10.49       506.97     B        B3   \n",
       "3     7200.0   36 months      6.49       220.65     A        A2   \n",
       "4    24375.0   60 months     17.27       609.33     C        C5   \n",
       "\n",
       "                 emp_title emp_length home_ownership  annual_inc  ...  \\\n",
       "0                Marketing  10+ years           RENT    117000.0  ...   \n",
       "1          Credit analyst     4 years       MORTGAGE     65000.0  ...   \n",
       "2             Statistician   < 1 year           RENT     43057.0  ...   \n",
       "3          Client Advocate    6 years           RENT     54000.0  ...   \n",
       "4  Destiny Management Inc.    9 years       MORTGAGE     55000.0  ...   \n",
       "\n",
       "  open_acc pub_rec revol_bal revol_util total_acc  initial_list_status  \\\n",
       "0     16.0     0.0   36369.0       41.8      25.0                    w   \n",
       "1     17.0     0.0   20131.0       53.3      27.0                    f   \n",
       "2     13.0     0.0   11987.0       92.2      26.0                    f   \n",
       "3      6.0     0.0    5472.0       21.5      13.0                    f   \n",
       "4     13.0     0.0   24584.0       69.8      43.0                    f   \n",
       "\n",
       "  application_type  mort_acc  pub_rec_bankruptcies  \\\n",
       "0       INDIVIDUAL       0.0                   0.0   \n",
       "1       INDIVIDUAL       3.0                   0.0   \n",
       "2       INDIVIDUAL       0.0                   0.0   \n",
       "3       INDIVIDUAL       0.0                   0.0   \n",
       "4       INDIVIDUAL       1.0                   0.0   \n",
       "\n",
       "                                           address  \n",
       "0     0174 Michelle Gateway\\nMendozaberg, OK 22690  \n",
       "1  1076 Carney Fort Apt. 347\\nLoganmouth, SD 05113  \n",
       "2  87025 Mark Dale Apt. 269\\nNew Sabrina, WV 05113  \n",
       "3            823 Reid Ford\\nDelacruzside, MA 00813  \n",
       "4             679 Luna Roads\\nGreggshire, VA 11650  \n",
       "\n",
       "[5 rows x 27 columns]"
      ]
     },
     "execution_count": 5,
     "metadata": {},
     "output_type": "execute_result"
    }
   ],
   "source": [
    "df.head()"
   ]
  },
  {
   "cell_type": "code",
   "execution_count": 6,
   "metadata": {
    "execution": {
     "iopub.execute_input": "2020-08-24T10:53:58.059760Z",
     "iopub.status.busy": "2020-08-24T10:53:58.058910Z",
     "iopub.status.idle": "2020-08-24T10:53:58.759310Z",
     "shell.execute_reply": "2020-08-24T10:53:58.758508Z"
    },
    "id": "g4pNU8-usTTG",
    "outputId": "f60cc539-3411-48e9-d8bd-934e85d71edd",
    "papermill": {
     "duration": 0.738639,
     "end_time": "2020-08-24T10:53:58.759469",
     "exception": false,
     "start_time": "2020-08-24T10:53:58.020830",
     "status": "completed"
    },
    "tags": []
   },
   "outputs": [
    {
     "name": "stdout",
     "output_type": "stream",
     "text": [
      "<class 'pandas.core.frame.DataFrame'>\n",
      "RangeIndex: 396030 entries, 0 to 396029\n",
      "Data columns (total 27 columns):\n",
      " #   Column                Non-Null Count   Dtype  \n",
      "---  ------                --------------   -----  \n",
      " 0   loan_amnt             396030 non-null  float64\n",
      " 1   term                  396030 non-null  object \n",
      " 2   int_rate              396030 non-null  float64\n",
      " 3   installment           396030 non-null  float64\n",
      " 4   grade                 396030 non-null  object \n",
      " 5   sub_grade             396030 non-null  object \n",
      " 6   emp_title             373103 non-null  object \n",
      " 7   emp_length            377729 non-null  object \n",
      " 8   home_ownership        396030 non-null  object \n",
      " 9   annual_inc            396030 non-null  float64\n",
      " 10  verification_status   396030 non-null  object \n",
      " 11  issue_d               396030 non-null  object \n",
      " 12  loan_status           396030 non-null  object \n",
      " 13  purpose               396030 non-null  object \n",
      " 14  title                 394275 non-null  object \n",
      " 15  dti                   396030 non-null  float64\n",
      " 16  earliest_cr_line      396030 non-null  object \n",
      " 17  open_acc              396030 non-null  float64\n",
      " 18  pub_rec               396030 non-null  float64\n",
      " 19  revol_bal             396030 non-null  float64\n",
      " 20  revol_util            395754 non-null  float64\n",
      " 21  total_acc             396030 non-null  float64\n",
      " 22  initial_list_status   396030 non-null  object \n",
      " 23  application_type      396030 non-null  object \n",
      " 24  mort_acc              358235 non-null  float64\n",
      " 25  pub_rec_bankruptcies  395495 non-null  float64\n",
      " 26  address               396030 non-null  object \n",
      "dtypes: float64(12), object(15)\n",
      "memory usage: 81.6+ MB\n"
     ]
    }
   ],
   "source": [
    "df.info()"
   ]
  },
  {
   "cell_type": "code",
   "execution_count": 7,
   "metadata": {
    "execution": {
     "iopub.execute_input": "2020-08-24T10:53:58.833784Z",
     "iopub.status.busy": "2020-08-24T10:53:58.832779Z",
     "iopub.status.idle": "2020-08-24T10:53:58.837867Z",
     "shell.execute_reply": "2020-08-24T10:53:58.837075Z"
    },
    "id": "SDyH0VePs6Az",
    "outputId": "923cbb7a-ea7a-4788-deb6-73d27e2aaebb",
    "papermill": {
     "duration": 0.04571,
     "end_time": "2020-08-24T10:53:58.838002",
     "exception": false,
     "start_time": "2020-08-24T10:53:58.792292",
     "status": "completed"
    },
    "tags": []
   },
   "outputs": [
    {
     "data": {
      "text/plain": [
       "'loan_status : Current status of the loan'"
      ]
     },
     "execution_count": 7,
     "metadata": {},
     "output_type": "execute_result"
    }
   ],
   "source": [
    "# Function to get information about a feature\n",
    "def feature_info(col_name):\n",
    "    return '{} : {}'.format(col_name,df_info.loc[col_name]['Description'])\n",
    "\n",
    "# Info about Target ('loan_status')\n",
    "feature_info('loan_status')"
   ]
  },
  {
   "cell_type": "code",
   "execution_count": 8,
   "metadata": {
    "execution": {
     "iopub.execute_input": "2020-08-24T10:53:58.945784Z",
     "iopub.status.busy": "2020-08-24T10:53:58.944986Z",
     "iopub.status.idle": "2020-08-24T10:53:59.169192Z",
     "shell.execute_reply": "2020-08-24T10:53:59.169959Z"
    },
    "id": "sl_6kyHgsZDO",
    "outputId": "49464391-8f4b-48a4-da70-20ca68618015",
    "papermill": {
     "duration": 0.298834,
     "end_time": "2020-08-24T10:53:59.170147",
     "exception": false,
     "start_time": "2020-08-24T10:53:58.871313",
     "status": "completed"
    },
    "tags": []
   },
   "outputs": [
    {
     "data": {
      "text/html": [
       "<div>\n",
       "<style scoped>\n",
       "    .dataframe tbody tr th:only-of-type {\n",
       "        vertical-align: middle;\n",
       "    }\n",
       "\n",
       "    .dataframe tbody tr th {\n",
       "        vertical-align: top;\n",
       "    }\n",
       "\n",
       "    .dataframe thead th {\n",
       "        text-align: right;\n",
       "    }\n",
       "</style>\n",
       "<table border=\"1\" class=\"dataframe\">\n",
       "  <thead>\n",
       "    <tr style=\"text-align: right;\">\n",
       "      <th></th>\n",
       "      <th>count</th>\n",
       "      <th>mean</th>\n",
       "      <th>std</th>\n",
       "      <th>min</th>\n",
       "      <th>25%</th>\n",
       "      <th>50%</th>\n",
       "      <th>75%</th>\n",
       "      <th>max</th>\n",
       "    </tr>\n",
       "  </thead>\n",
       "  <tbody>\n",
       "    <tr>\n",
       "      <th>loan_amnt</th>\n",
       "      <td>396030.0</td>\n",
       "      <td>14113.888089</td>\n",
       "      <td>8357.441341</td>\n",
       "      <td>500.00</td>\n",
       "      <td>8000.00</td>\n",
       "      <td>12000.00</td>\n",
       "      <td>20000.00</td>\n",
       "      <td>40000.00</td>\n",
       "    </tr>\n",
       "    <tr>\n",
       "      <th>int_rate</th>\n",
       "      <td>396030.0</td>\n",
       "      <td>13.639400</td>\n",
       "      <td>4.472157</td>\n",
       "      <td>5.32</td>\n",
       "      <td>10.49</td>\n",
       "      <td>13.33</td>\n",
       "      <td>16.49</td>\n",
       "      <td>30.99</td>\n",
       "    </tr>\n",
       "    <tr>\n",
       "      <th>installment</th>\n",
       "      <td>396030.0</td>\n",
       "      <td>431.849698</td>\n",
       "      <td>250.727790</td>\n",
       "      <td>16.08</td>\n",
       "      <td>250.33</td>\n",
       "      <td>375.43</td>\n",
       "      <td>567.30</td>\n",
       "      <td>1533.81</td>\n",
       "    </tr>\n",
       "    <tr>\n",
       "      <th>annual_inc</th>\n",
       "      <td>396030.0</td>\n",
       "      <td>74203.175798</td>\n",
       "      <td>61637.621158</td>\n",
       "      <td>0.00</td>\n",
       "      <td>45000.00</td>\n",
       "      <td>64000.00</td>\n",
       "      <td>90000.00</td>\n",
       "      <td>8706582.00</td>\n",
       "    </tr>\n",
       "    <tr>\n",
       "      <th>dti</th>\n",
       "      <td>396030.0</td>\n",
       "      <td>17.379514</td>\n",
       "      <td>18.019092</td>\n",
       "      <td>0.00</td>\n",
       "      <td>11.28</td>\n",
       "      <td>16.91</td>\n",
       "      <td>22.98</td>\n",
       "      <td>9999.00</td>\n",
       "    </tr>\n",
       "    <tr>\n",
       "      <th>open_acc</th>\n",
       "      <td>396030.0</td>\n",
       "      <td>11.311153</td>\n",
       "      <td>5.137649</td>\n",
       "      <td>0.00</td>\n",
       "      <td>8.00</td>\n",
       "      <td>10.00</td>\n",
       "      <td>14.00</td>\n",
       "      <td>90.00</td>\n",
       "    </tr>\n",
       "    <tr>\n",
       "      <th>pub_rec</th>\n",
       "      <td>396030.0</td>\n",
       "      <td>0.178191</td>\n",
       "      <td>0.530671</td>\n",
       "      <td>0.00</td>\n",
       "      <td>0.00</td>\n",
       "      <td>0.00</td>\n",
       "      <td>0.00</td>\n",
       "      <td>86.00</td>\n",
       "    </tr>\n",
       "    <tr>\n",
       "      <th>revol_bal</th>\n",
       "      <td>396030.0</td>\n",
       "      <td>15844.539853</td>\n",
       "      <td>20591.836109</td>\n",
       "      <td>0.00</td>\n",
       "      <td>6025.00</td>\n",
       "      <td>11181.00</td>\n",
       "      <td>19620.00</td>\n",
       "      <td>1743266.00</td>\n",
       "    </tr>\n",
       "    <tr>\n",
       "      <th>revol_util</th>\n",
       "      <td>395754.0</td>\n",
       "      <td>53.791749</td>\n",
       "      <td>24.452193</td>\n",
       "      <td>0.00</td>\n",
       "      <td>35.80</td>\n",
       "      <td>54.80</td>\n",
       "      <td>72.90</td>\n",
       "      <td>892.30</td>\n",
       "    </tr>\n",
       "    <tr>\n",
       "      <th>total_acc</th>\n",
       "      <td>396030.0</td>\n",
       "      <td>25.414744</td>\n",
       "      <td>11.886991</td>\n",
       "      <td>2.00</td>\n",
       "      <td>17.00</td>\n",
       "      <td>24.00</td>\n",
       "      <td>32.00</td>\n",
       "      <td>151.00</td>\n",
       "    </tr>\n",
       "    <tr>\n",
       "      <th>mort_acc</th>\n",
       "      <td>358235.0</td>\n",
       "      <td>1.813991</td>\n",
       "      <td>2.147930</td>\n",
       "      <td>0.00</td>\n",
       "      <td>0.00</td>\n",
       "      <td>1.00</td>\n",
       "      <td>3.00</td>\n",
       "      <td>34.00</td>\n",
       "    </tr>\n",
       "    <tr>\n",
       "      <th>pub_rec_bankruptcies</th>\n",
       "      <td>395495.0</td>\n",
       "      <td>0.121648</td>\n",
       "      <td>0.356174</td>\n",
       "      <td>0.00</td>\n",
       "      <td>0.00</td>\n",
       "      <td>0.00</td>\n",
       "      <td>0.00</td>\n",
       "      <td>8.00</td>\n",
       "    </tr>\n",
       "  </tbody>\n",
       "</table>\n",
       "</div>"
      ],
      "text/plain": [
       "                         count          mean           std     min       25%  \\\n",
       "loan_amnt             396030.0  14113.888089   8357.441341  500.00   8000.00   \n",
       "int_rate              396030.0     13.639400      4.472157    5.32     10.49   \n",
       "installment           396030.0    431.849698    250.727790   16.08    250.33   \n",
       "annual_inc            396030.0  74203.175798  61637.621158    0.00  45000.00   \n",
       "dti                   396030.0     17.379514     18.019092    0.00     11.28   \n",
       "open_acc              396030.0     11.311153      5.137649    0.00      8.00   \n",
       "pub_rec               396030.0      0.178191      0.530671    0.00      0.00   \n",
       "revol_bal             396030.0  15844.539853  20591.836109    0.00   6025.00   \n",
       "revol_util            395754.0     53.791749     24.452193    0.00     35.80   \n",
       "total_acc             396030.0     25.414744     11.886991    2.00     17.00   \n",
       "mort_acc              358235.0      1.813991      2.147930    0.00      0.00   \n",
       "pub_rec_bankruptcies  395495.0      0.121648      0.356174    0.00      0.00   \n",
       "\n",
       "                           50%       75%         max  \n",
       "loan_amnt             12000.00  20000.00    40000.00  \n",
       "int_rate                 13.33     16.49       30.99  \n",
       "installment             375.43    567.30     1533.81  \n",
       "annual_inc            64000.00  90000.00  8706582.00  \n",
       "dti                      16.91     22.98     9999.00  \n",
       "open_acc                 10.00     14.00       90.00  \n",
       "pub_rec                   0.00      0.00       86.00  \n",
       "revol_bal             11181.00  19620.00  1743266.00  \n",
       "revol_util               54.80     72.90      892.30  \n",
       "total_acc                24.00     32.00      151.00  \n",
       "mort_acc                  1.00      3.00       34.00  \n",
       "pub_rec_bankruptcies      0.00      0.00        8.00  "
      ]
     },
     "execution_count": 8,
     "metadata": {},
     "output_type": "execute_result"
    }
   ],
   "source": [
    "df.describe().T"
   ]
  },
  {
   "cell_type": "code",
   "execution_count": 9,
   "metadata": {
    "execution": {
     "iopub.execute_input": "2020-08-24T10:53:59.262412Z",
     "iopub.status.busy": "2020-08-24T10:53:59.261353Z",
     "iopub.status.idle": "2020-08-24T10:53:59.265405Z",
     "shell.execute_reply": "2020-08-24T10:53:59.266195Z"
    },
    "id": "ionE0mW28UC2",
    "outputId": "72ae8050-3c78-43de-8863-fd339961b711",
    "papermill": {
     "duration": 0.062424,
     "end_time": "2020-08-24T10:53:59.266437",
     "exception": false,
     "start_time": "2020-08-24T10:53:59.204013",
     "status": "completed"
    },
    "tags": []
   },
   "outputs": [
    {
     "name": "stdout",
     "output_type": "stream",
     "text": [
      "Numeric cols : ['loan_amnt' 'int_rate' 'installment' 'annual_inc' 'dti' 'open_acc'\n",
      " 'pub_rec' 'revol_bal' 'revol_util' 'total_acc' 'mort_acc'\n",
      " 'pub_rec_bankruptcies']\n"
     ]
    }
   ],
   "source": [
    "# Get numeric columns\n",
    "num_cols = df.select_dtypes(include=[np.number]).columns.values\n",
    "print('Numeric cols :',num_cols)"
   ]
  },
  {
   "cell_type": "code",
   "execution_count": 10,
   "metadata": {
    "execution": {
     "iopub.execute_input": "2020-08-24T10:53:59.374597Z",
     "iopub.status.busy": "2020-08-24T10:53:59.346005Z",
     "iopub.status.idle": "2020-08-24T10:53:59.443422Z",
     "shell.execute_reply": "2020-08-24T10:53:59.442616Z"
    },
    "id": "mrwybUQ8SgET",
    "outputId": "0d266962-7397-4cf9-f72f-8432eeb56ec6",
    "papermill": {
     "duration": 0.140715,
     "end_time": "2020-08-24T10:53:59.443557",
     "exception": false,
     "start_time": "2020-08-24T10:53:59.302842",
     "status": "completed"
    },
    "tags": []
   },
   "outputs": [
    {
     "name": "stdout",
     "output_type": "stream",
     "text": [
      "Categorical cols : ['term' 'grade' 'sub_grade' 'emp_title' 'emp_length' 'home_ownership'\n",
      " 'verification_status' 'issue_d' 'loan_status' 'purpose' 'title'\n",
      " 'earliest_cr_line' 'initial_list_status' 'application_type' 'address']\n"
     ]
    }
   ],
   "source": [
    "# Get Non-numeric/categorical columns\n",
    "cat_cols = df.select_dtypes(exclude=[np.number]).columns.values\n",
    "print('Categorical cols :',cat_cols)"
   ]
  },
  {
   "cell_type": "markdown",
   "execution_count": null,
   "metadata": {
    "id": "yZaqzAkCw8bX",
    "papermill": {
     "duration": 0.0335,
     "end_time": "2020-08-24T10:53:59.510922",
     "exception": false,
     "start_time": "2020-08-24T10:53:59.477422",
     "status": "completed"
    },
    "tags": []
   },
   "source": [
    "# **Data Preparation**\n",
    "---\n",
    "- Exploring Data\n",
    "- Data Preprocessing\n"
   ]
  },
  {
   "cell_type": "markdown",
   "execution_count": null,
   "metadata": {
    "id": "k13mVLqEt-oQ",
    "papermill": {
     "duration": 0.03366,
     "end_time": "2020-08-24T10:53:59.578942",
     "exception": false,
     "start_time": "2020-08-24T10:53:59.545282",
     "status": "completed"
    },
    "tags": []
   },
   "source": [
    "## **Exploring Data**"
   ]
  },
  {
   "cell_type": "code",
   "execution_count": 11,
   "metadata": {
    "execution": {
     "iopub.execute_input": "2020-08-24T10:53:59.708089Z",
     "iopub.status.busy": "2020-08-24T10:53:59.707221Z",
     "iopub.status.idle": "2020-08-24T10:54:11.253771Z",
     "shell.execute_reply": "2020-08-24T10:54:11.254758Z"
    },
    "id": "VwOolmahNBNu",
    "outputId": "f0f23fea-b4cc-461f-febb-1f4bd056abcc",
    "papermill": {
     "duration": 11.642083,
     "end_time": "2020-08-24T10:54:11.255018",
     "exception": false,
     "start_time": "2020-08-24T10:53:59.612935",
     "status": "completed"
    },
    "tags": []
   },
   "outputs": [
    {
     "data": {
      "image/png": "[encoded data removed]",
      "text/plain": [
       "<Figure size 864x576 with 1 Axes>"
      ]
     },
     "metadata": {},
     "output_type": "display_data"
    }
   ],
   "source": [
    "# Check for missing data\n",
    "sns.heatmap(df.isnull(), yticklabels=False, cbar=False, cmap='viridis')\n",
    "plt.tight_layout()"
   ]
  },
  {
   "cell_type": "code",
   "execution_count": 12,
   "metadata": {
    "execution": {
     "iopub.execute_input": "2020-08-24T10:54:11.349995Z",
     "iopub.status.busy": "2020-08-24T10:54:11.348568Z",
     "iopub.status.idle": "2020-08-24T10:54:12.043680Z",
     "shell.execute_reply": "2020-08-24T10:54:12.045055Z"
    },
    "id": "0Qh2D3LEUYaY",
    "outputId": "87610ee3-85ac-4061-8a93-91ed04859c83",
    "papermill": {
     "duration": 0.741175,
     "end_time": "2020-08-24T10:54:12.045614",
     "exception": false,
     "start_time": "2020-08-24T10:54:11.304439",
     "status": "completed"
    },
    "tags": []
   },
   "outputs": [
    {
     "name": "stdout",
     "output_type": "stream",
     "text": [
      "mort_acc                37795\n",
      "emp_title               22927\n",
      "emp_length              18301\n",
      "title                    1755\n",
      "pub_rec_bankruptcies      535\n",
      "revol_util                276\n",
      "address                     0\n",
      "verification_status         0\n",
      "term                        0\n",
      "int_rate                    0\n",
      "installment                 0\n",
      "grade                       0\n",
      "sub_grade                   0\n",
      "home_ownership              0\n",
      "annual_inc                  0\n",
      "purpose                     0\n",
      "issue_d                     0\n",
      "loan_status                 0\n",
      "dti                         0\n",
      "earliest_cr_line            0\n",
      "open_acc                    0\n",
      "pub_rec                     0\n",
      "revol_bal                   0\n",
      "total_acc                   0\n",
      "initial_list_status         0\n",
      "application_type            0\n",
      "loan_amnt                   0\n",
      "dtype: int64\n"
     ]
    }
   ],
   "source": [
    "# Number of missing values\n",
    "print(df.isnull().sum().sort_values(ascending=False))"
   ]
  },
  {
   "cell_type": "code",
   "execution_count": 13,
   "metadata": {
    "execution": {
     "iopub.execute_input": "2020-08-24T10:54:12.128395Z",
     "iopub.status.busy": "2020-08-24T10:54:12.127520Z",
     "iopub.status.idle": "2020-08-24T10:54:12.850881Z",
     "shell.execute_reply": "2020-08-24T10:54:12.850142Z"
    },
    "id": "J1SjEQzFOAWw",
    "outputId": "9882f347-0b06-40e7-8f0f-1a4c1c231ee0",
    "papermill": {
     "duration": 0.7681,
     "end_time": "2020-08-24T10:54:12.851027",
     "exception": false,
     "start_time": "2020-08-24T10:54:12.082927",
     "status": "completed"
    },
    "tags": []
   },
   "outputs": [
    {
     "name": "stdout",
     "output_type": "stream",
     "text": [
      "mort_acc                9.54\n",
      "emp_title               5.79\n",
      "emp_length              4.62\n",
      "title                   0.44\n",
      "pub_rec_bankruptcies    0.14\n",
      "revol_util              0.07\n",
      "address                 0.00\n",
      "verification_status     0.00\n",
      "term                    0.00\n",
      "int_rate                0.00\n",
      "installment             0.00\n",
      "grade                   0.00\n",
      "sub_grade               0.00\n",
      "home_ownership          0.00\n",
      "annual_inc              0.00\n",
      "purpose                 0.00\n",
      "issue_d                 0.00\n",
      "loan_status             0.00\n",
      "dti                     0.00\n",
      "earliest_cr_line        0.00\n",
      "open_acc                0.00\n",
      "pub_rec                 0.00\n",
      "revol_bal               0.00\n",
      "total_acc               0.00\n",
      "initial_list_status     0.00\n",
      "application_type        0.00\n",
      "loan_amnt               0.00\n",
      "dtype: float64\n"
     ]
    }
   ],
   "source": [
    "# Number of missing %\n",
    "print(round((df.isnull().mean()*100).sort_values(ascending=False),2))"
   ]
  },
  {
   "cell_type": "code",
   "execution_count": 14,
   "metadata": {
    "execution": {
     "iopub.execute_input": "2020-08-24T10:54:12.965809Z",
     "iopub.status.busy": "2020-08-24T10:54:12.964815Z",
     "iopub.status.idle": "2020-08-24T10:54:13.289015Z",
     "shell.execute_reply": "2020-08-24T10:54:13.288258Z"
    },
    "id": "86JJWwaOPsRf",
    "outputId": "d2aabd66-c351-407b-c8ec-551a5db6ba82",
    "papermill": {
     "duration": 0.400348,
     "end_time": "2020-08-24T10:54:13.289159",
     "exception": false,
     "start_time": "2020-08-24T10:54:12.888811",
     "status": "completed"
    },
    "tags": []
   },
   "outputs": [
    {
     "data": {
      "text/plain": [
       "<matplotlib.axes._subplots.AxesSubplot at 0x7f93cf506cd0>"
      ]
     },
     "execution_count": 14,
     "metadata": {},
     "output_type": "execute_result"
    },
    {
     "data": {
      "image/png": "[encoded data removed]",
      "text/plain": [
       "<Figure size 864x576 with 1 Axes>"
      ]
     },
     "metadata": {},
     "output_type": "display_data"
    }
   ],
   "source": [
    "# Countplot of Target (loan_status)\n",
    "sns.countplot(df['loan_status'])"
   ]
  },
  {
   "cell_type": "code",
   "execution_count": 15,
   "metadata": {
    "execution": {
     "iopub.execute_input": "2020-08-24T10:54:13.506835Z",
     "iopub.status.busy": "2020-08-24T10:54:13.442828Z",
     "iopub.status.idle": "2020-08-24T10:54:13.568072Z",
     "shell.execute_reply": "2020-08-24T10:54:13.567142Z"
    },
    "id": "CJp3iGkEILyi",
    "outputId": "35c1e6a3-70ae-432c-e366-842b892805b2",
    "papermill": {
     "duration": 0.241769,
     "end_time": "2020-08-24T10:54:13.568270",
     "exception": false,
     "start_time": "2020-08-24T10:54:13.326501",
     "status": "completed"
    },
    "tags": []
   },
   "outputs": [
    {
     "data": {
      "text/plain": [
       "Fully Paid     80.387092\n",
       "Charged Off    19.612908\n",
       "Name: loan_status, dtype: float64"
      ]
     },
     "execution_count": 15,
     "metadata": {},
     "output_type": "execute_result"
    }
   ],
   "source": [
    "# From above graph we have imbalanced data, where 80% of data points are Fully Paid and 20% charged off\n",
    "100*df['loan_status'].value_counts()/(df['loan_status'].count())"
   ]
  },
  {
   "cell_type": "code",
   "execution_count": 16,
   "metadata": {
    "execution": {
     "iopub.execute_input": "2020-08-24T10:54:13.729593Z",
     "iopub.status.busy": "2020-08-24T10:54:13.728471Z",
     "iopub.status.idle": "2020-08-24T10:54:14.308113Z",
     "shell.execute_reply": "2020-08-24T10:54:14.307092Z"
    },
    "id": "bx5O5sxVc3Wl",
    "outputId": "4f058d25-5aff-4ed7-f3b2-2a1691cfb557",
    "papermill": {
     "duration": 0.651764,
     "end_time": "2020-08-24T10:54:14.308291",
     "exception": false,
     "start_time": "2020-08-24T10:54:13.656527",
     "status": "completed"
    },
    "tags": []
   },
   "outputs": [
    {
     "data": {
      "text/plain": [
       "<matplotlib.axes._subplots.AxesSubplot at 0x7f93cf4366d0>"
      ]
     },
     "execution_count": 16,
     "metadata": {},
     "output_type": "execute_result"
    },
    {
     "data": {
      "image/png": "[encoded data removed]",
      "text/plain": [
       "<Figure size 864x576 with 1 Axes>"
      ]
     },
     "metadata": {},
     "output_type": "display_data"
    }
   ],
   "source": [
    "# Histogram of loan_amnt\n",
    "sns.distplot(df['loan_amnt'], kde=False)"
   ]
  },
  {
   "cell_type": "code",
   "execution_count": 17,
   "metadata": {
    "execution": {
     "iopub.execute_input": "2020-08-24T10:54:14.424842Z",
     "iopub.status.busy": "2020-08-24T10:54:14.423006Z",
     "iopub.status.idle": "2020-08-24T10:54:16.542725Z",
     "shell.execute_reply": "2020-08-24T10:54:16.542078Z"
    },
    "id": "nswA-26nw56D",
    "outputId": "18b93887-84df-49b3-a81d-9d85aa33ae90",
    "papermill": {
     "duration": 2.183321,
     "end_time": "2020-08-24T10:54:16.542876",
     "exception": false,
     "start_time": "2020-08-24T10:54:14.359555",
     "status": "completed"
    },
    "tags": []
   },
   "outputs": [
    {
     "data": {
      "text/plain": [
       "<matplotlib.axes._subplots.AxesSubplot at 0x7f93cf2cf510>"
      ]
     },
     "execution_count": 17,
     "metadata": {},
     "output_type": "execute_result"
    },
    {
     "data": {
      "image/png": "[encoded data removed]",
      "text/plain": [
       "<Figure size 864x576 with 2 Axes>"
      ]
     },
     "metadata": {},
     "output_type": "display_data"
    }
   ],
   "source": [
    "# Correlation plot\n",
    "sns.heatmap(df.dropna().corr(), annot=True, cmap='viridis')"
   ]
  },
  {
   "cell_type": "code",
   "execution_count": 18,
   "metadata": {
    "execution": {
     "iopub.execute_input": "2020-08-24T10:54:16.629041Z",
     "iopub.status.busy": "2020-08-24T10:54:16.627978Z",
     "iopub.status.idle": "2020-08-24T10:54:16.632916Z",
     "shell.execute_reply": "2020-08-24T10:54:16.633536Z"
    },
    "id": "YDhPHIzH-FMw",
    "outputId": "0f189dfd-e2f8-437e-e9dc-d68f4f8eab12",
    "papermill": {
     "duration": 0.051403,
     "end_time": "2020-08-24T10:54:16.633713",
     "exception": false,
     "start_time": "2020-08-24T10:54:16.582310",
     "status": "completed"
    },
    "tags": []
   },
   "outputs": [
    {
     "name": "stdout",
     "output_type": "stream",
     "text": [
      "installment : The monthly payment owed by the borrower if the loan originates. \n",
      " loan_amnt : The listed amount of the loan applied for by the borrower. If at some point in time, the credit department reduces the loan amount, then it will be reflected in this value.\n"
     ]
    }
   ],
   "source": [
    "# \"installment\" almost perfect correlation with the \"loan_amount\" feature\n",
    "print(feature_info('installment'),'\\n', feature_info('loan_amnt'))"
   ]
  },
  {
   "cell_type": "code",
   "execution_count": 19,
   "metadata": {
    "execution": {
     "iopub.execute_input": "2020-08-24T10:54:16.714851Z",
     "iopub.status.busy": "2020-08-24T10:54:16.713998Z",
     "iopub.status.idle": "2020-08-24T10:54:18.019098Z",
     "shell.execute_reply": "2020-08-24T10:54:18.019701Z"
    },
    "id": "GYuIqM87-JOc",
    "outputId": "1837e875-54b7-4dd8-99ad-9ef1ecc5ced4",
    "papermill": {
     "duration": 1.349128,
     "end_time": "2020-08-24T10:54:18.019877",
     "exception": false,
     "start_time": "2020-08-24T10:54:16.670749",
     "status": "completed"
    },
    "tags": []
   },
   "outputs": [
    {
     "data": {
      "text/plain": [
       "<matplotlib.axes._subplots.AxesSubplot at 0x7f93cceb19d0>"
      ]
     },
     "execution_count": 19,
     "metadata": {},
     "output_type": "execute_result"
    },
    {
     "data": {
      "image/png": "[encoded data removed]",
      "text/plain": [
       "<Figure size 864x576 with 1 Axes>"
      ]
     },
     "metadata": {},
     "output_type": "display_data"
    }
   ],
   "source": [
    "# As loan_amnt amount increases installments increases\n",
    "sns.scatterplot('installment', 'loan_amnt', data=df)"
   ]
  },
  {
   "cell_type": "code",
   "execution_count": 20,
   "metadata": {
    "execution": {
     "iopub.execute_input": "2020-08-24T10:54:18.108077Z",
     "iopub.status.busy": "2020-08-24T10:54:18.107229Z",
     "iopub.status.idle": "2020-08-24T10:54:20.126208Z",
     "shell.execute_reply": "2020-08-24T10:54:20.126803Z"
    },
    "id": "XMCvxQPm-Nn7",
    "outputId": "099080fe-8827-4a90-95af-394e7b41d990",
    "papermill": {
     "duration": 2.066336,
     "end_time": "2020-08-24T10:54:20.126976",
     "exception": false,
     "start_time": "2020-08-24T10:54:18.060640",
     "status": "completed"
    },
    "tags": []
   },
   "outputs": [
    {
     "name": "stdout",
     "output_type": "stream",
     "text": [
      "total_acc : The total number of credit lines currently in the borrower's credit file \n",
      " open_acc : The number of open credit lines in the borrower's credit file. \n",
      "\n"
     ]
    },
    {
     "data": {
      "image/png": "[encoded data removed]",
      "text/plain": [
       "<Figure size 864x576 with 1 Axes>"
      ]
     },
     "metadata": {},
     "output_type": "display_data"
    }
   ],
   "source": [
    "# open credit lines v/s total number of credit lines in the borrower's credit file.\n",
    "print(feature_info('total_acc'), '\\n',feature_info('open_acc'),'\\n')\n",
    "sns.scatterplot('open_acc', 'total_acc', data=df.dropna())\n",
    "plt.tight_layout()"
   ]
  },
  {
   "cell_type": "code",
   "execution_count": 21,
   "metadata": {
    "execution": {
     "iopub.execute_input": "2020-08-24T10:54:20.238585Z",
     "iopub.status.busy": "2020-08-24T10:54:20.237781Z",
     "iopub.status.idle": "2020-08-24T10:54:20.516172Z",
     "shell.execute_reply": "2020-08-24T10:54:20.515369Z"
    },
    "id": "GluTPhmlDfYT",
    "outputId": "b2e1e39a-2706-4898-a590-647cf575ed8f",
    "papermill": {
     "duration": 0.348323,
     "end_time": "2020-08-24T10:54:20.516305",
     "exception": false,
     "start_time": "2020-08-24T10:54:20.167982",
     "status": "completed"
    },
    "tags": []
   },
   "outputs": [
    {
     "data": {
      "text/plain": [
       "<matplotlib.axes._subplots.AxesSubplot at 0x7f93ccda9290>"
      ]
     },
     "execution_count": 21,
     "metadata": {},
     "output_type": "execute_result"
    },
    {
     "data": {
      "image/png": "[encoded data removed]",
      "text/plain": [
       "<Figure size 864x576 with 1 Axes>"
      ]
     },
     "metadata": {},
     "output_type": "display_data"
    }
   ],
   "source": [
    "# Boxplot showing the relationship between the loan_status and the loan_amnt\n",
    "sns.boxplot('loan_status','loan_amnt',data=df)"
   ]
  },
  {
   "cell_type": "code",
   "execution_count": 22,
   "metadata": {
    "execution": {
     "iopub.execute_input": "2020-08-24T10:54:20.609606Z",
     "iopub.status.busy": "2020-08-24T10:54:20.608780Z",
     "iopub.status.idle": "2020-08-24T10:54:20.693117Z",
     "shell.execute_reply": "2020-08-24T10:54:20.692512Z"
    },
    "id": "PX402tLkpyu1",
    "outputId": "ff9b01ec-f715-477b-ff38-49aabbdf195c",
    "papermill": {
     "duration": 0.137019,
     "end_time": "2020-08-24T10:54:20.693266",
     "exception": false,
     "start_time": "2020-08-24T10:54:20.556247",
     "status": "completed"
    },
    "tags": []
   },
   "outputs": [
    {
     "data": {
      "text/html": [
       "<div>\n",
       "<style scoped>\n",
       "    .dataframe tbody tr th:only-of-type {\n",
       "        vertical-align: middle;\n",
       "    }\n",
       "\n",
       "    .dataframe tbody tr th {\n",
       "        vertical-align: top;\n",
       "    }\n",
       "\n",
       "    .dataframe thead th {\n",
       "        text-align: right;\n",
       "    }\n",
       "</style>\n",
       "<table border=\"1\" class=\"dataframe\">\n",
       "  <thead>\n",
       "    <tr style=\"text-align: right;\">\n",
       "      <th></th>\n",
       "      <th>count</th>\n",
       "      <th>mean</th>\n",
       "      <th>std</th>\n",
       "      <th>min</th>\n",
       "      <th>25%</th>\n",
       "      <th>50%</th>\n",
       "      <th>75%</th>\n",
       "      <th>max</th>\n",
       "    </tr>\n",
       "    <tr>\n",
       "      <th>loan_status</th>\n",
       "      <th></th>\n",
       "      <th></th>\n",
       "      <th></th>\n",
       "      <th></th>\n",
       "      <th></th>\n",
       "      <th></th>\n",
       "      <th></th>\n",
       "      <th></th>\n",
       "    </tr>\n",
       "  </thead>\n",
       "  <tbody>\n",
       "    <tr>\n",
       "      <th>Charged Off</th>\n",
       "      <td>77673.0</td>\n",
       "      <td>15126.300967</td>\n",
       "      <td>8505.090557</td>\n",
       "      <td>1000.0</td>\n",
       "      <td>8525.0</td>\n",
       "      <td>14000.0</td>\n",
       "      <td>20000.0</td>\n",
       "      <td>40000.0</td>\n",
       "    </tr>\n",
       "    <tr>\n",
       "      <th>Fully Paid</th>\n",
       "      <td>318357.0</td>\n",
       "      <td>13866.878771</td>\n",
       "      <td>8302.319699</td>\n",
       "      <td>500.0</td>\n",
       "      <td>7500.0</td>\n",
       "      <td>12000.0</td>\n",
       "      <td>19225.0</td>\n",
       "      <td>40000.0</td>\n",
       "    </tr>\n",
       "  </tbody>\n",
       "</table>\n",
       "</div>"
      ],
      "text/plain": [
       "                count          mean          std     min     25%      50%  \\\n",
       "loan_status                                                                 \n",
       "Charged Off   77673.0  15126.300967  8505.090557  1000.0  8525.0  14000.0   \n",
       "Fully Paid   318357.0  13866.878771  8302.319699   500.0  7500.0  12000.0   \n",
       "\n",
       "                 75%      max  \n",
       "loan_status                    \n",
       "Charged Off  20000.0  40000.0  \n",
       "Fully Paid   19225.0  40000.0  "
      ]
     },
     "execution_count": 22,
     "metadata": {},
     "output_type": "execute_result"
    }
   ],
   "source": [
    "# summary statistics for the loan amount, grouped by the loan_status.\n",
    "df.groupby('loan_status')['loan_amnt'].describe()\n",
    "# Charged Off loans \"loan amount\" is a bit higher than Fully Paid loans"
   ]
  },
  {
   "cell_type": "code",
   "execution_count": 23,
   "metadata": {
    "execution": {
     "iopub.execute_input": "2020-08-24T10:54:20.809219Z",
     "iopub.status.busy": "2020-08-24T10:54:20.808406Z",
     "iopub.status.idle": "2020-08-24T10:54:20.817420Z",
     "shell.execute_reply": "2020-08-24T10:54:20.816611Z"
    },
    "id": "A75ACKl5H9Ee",
    "outputId": "20522259-7536-4d05-deee-54c47dc0875c",
    "papermill": {
     "duration": 0.083987,
     "end_time": "2020-08-24T10:54:20.817555",
     "exception": false,
     "start_time": "2020-08-24T10:54:20.733568",
     "status": "completed"
    },
    "tags": []
   },
   "outputs": [
    {
     "name": "stdout",
     "output_type": "stream",
     "text": [
      "['A' 'B' 'C' 'D' 'E' 'F' 'G']\n"
     ]
    }
   ],
   "source": [
    "# Explore the \"grade\" column that LendingClub attributes to the loans.\n",
    "print(np.sort(df['grade'].unique()))"
   ]
  },
  {
   "cell_type": "code",
   "execution_count": 24,
   "metadata": {
    "execution": {
     "iopub.execute_input": "2020-08-24T10:54:20.933276Z",
     "iopub.status.busy": "2020-08-24T10:54:20.932480Z",
     "iopub.status.idle": "2020-08-24T10:54:20.943167Z",
     "shell.execute_reply": "2020-08-24T10:54:20.943737Z"
    },
    "id": "zBwsNurVrNaC",
    "outputId": "fe086859-8b2a-4597-e97d-6b4d4301ff36",
    "papermill": {
     "duration": 0.086064,
     "end_time": "2020-08-24T10:54:20.943917",
     "exception": false,
     "start_time": "2020-08-24T10:54:20.857853",
     "status": "completed"
    },
    "tags": []
   },
   "outputs": [
    {
     "name": "stdout",
     "output_type": "stream",
     "text": [
      "['A1' 'A2' 'A3' 'A4' 'A5' 'B1' 'B2' 'B3' 'B4' 'B5' 'C1' 'C2' 'C3' 'C4'\n",
      " 'C5' 'D1' 'D2' 'D3' 'D4' 'D5' 'E1' 'E2' 'E3' 'E4' 'E5' 'F1' 'F2' 'F3'\n",
      " 'F4' 'F5' 'G1' 'G2' 'G3' 'G4' 'G5']\n"
     ]
    }
   ],
   "source": [
    "# Explore the \"sub_grade\" column that LendingClub attributes to the loans.\n",
    "print(np.sort(df['sub_grade'].unique()))"
   ]
  },
  {
   "cell_type": "code",
   "execution_count": 25,
   "metadata": {
    "execution": {
     "iopub.execute_input": "2020-08-24T10:54:21.075844Z",
     "iopub.status.busy": "2020-08-24T10:54:21.074536Z",
     "iopub.status.idle": "2020-08-24T10:54:22.285925Z",
     "shell.execute_reply": "2020-08-24T10:54:22.285132Z"
    },
    "id": "KRyWsjhTrU4C",
    "outputId": "6d2a1298-9c55-4899-9d7e-2b3ca7a67b0b",
    "papermill": {
     "duration": 1.301212,
     "end_time": "2020-08-24T10:54:22.286056",
     "exception": false,
     "start_time": "2020-08-24T10:54:20.984844",
     "status": "completed"
    },
    "tags": []
   },
   "outputs": [
    {
     "data": {
      "text/plain": [
       "<matplotlib.axes._subplots.AxesSubplot at 0x7f93ccda1050>"
      ]
     },
     "execution_count": 25,
     "metadata": {},
     "output_type": "execute_result"
    },
    {
     "data": {
      "image/png": "[encoded data removed]",
      "text/plain": [
       "<Figure size 864x576 with 1 Axes>"
      ]
     },
     "metadata": {},
     "output_type": "display_data"
    }
   ],
   "source": [
    "# Countplot of grade per loan_status. \n",
    "sns.countplot(df['grade'].sort_values(), hue=df['loan_status'])"
   ]
  },
  {
   "cell_type": "code",
   "execution_count": 26,
   "metadata": {
    "execution": {
     "iopub.execute_input": "2020-08-24T10:54:22.419855Z",
     "iopub.status.busy": "2020-08-24T10:54:22.419006Z",
     "iopub.status.idle": "2020-08-24T10:54:24.335640Z",
     "shell.execute_reply": "2020-08-24T10:54:24.336258Z"
    },
    "id": "8gsRgPwirrBx",
    "outputId": "32d50ee0-1687-46b5-ca62-7f6e463d2b5c",
    "papermill": {
     "duration": 2.008532,
     "end_time": "2020-08-24T10:54:24.336464",
     "exception": false,
     "start_time": "2020-08-24T10:54:22.327932",
     "status": "completed"
    },
    "tags": []
   },
   "outputs": [
    {
     "data": {
      "text/plain": [
       "<matplotlib.axes._subplots.AxesSubplot at 0x7f93cccc5810>"
      ]
     },
     "execution_count": 26,
     "metadata": {},
     "output_type": "execute_result"
    },
    {
     "data": {
      "image/png": "[encoded data removed]",
      "text/plain": [
       "<Figure size 1080x432 with 1 Axes>"
      ]
     },
     "metadata": {},
     "output_type": "display_data"
    }
   ],
   "source": [
    "# Countplot of sub_grade per loan_status. \n",
    "plt.figure(figsize=(15,6))\n",
    "sns.countplot(df['sub_grade'].sort_values(), palette='rainbow',hue=df['loan_status'])"
   ]
  },
  {
   "cell_type": "code",
   "execution_count": 27,
   "metadata": {
    "execution": {
     "iopub.execute_input": "2020-08-24T10:54:24.466566Z",
     "iopub.status.busy": "2020-08-24T10:54:24.465165Z",
     "iopub.status.idle": "2020-08-24T10:54:24.909564Z",
     "shell.execute_reply": "2020-08-24T10:54:24.910141Z"
    },
    "id": "56Dtt1ycuAQd",
    "outputId": "f6c4d75a-aeff-4061-96e0-1af67adc4d5b",
    "papermill": {
     "duration": 0.532156,
     "end_time": "2020-08-24T10:54:24.910325",
     "exception": false,
     "start_time": "2020-08-24T10:54:24.378169",
     "status": "completed"
    },
    "tags": []
   },
   "outputs": [
    {
     "data": {
      "text/plain": [
       "<matplotlib.axes._subplots.AxesSubplot at 0x7f93ccb369d0>"
      ]
     },
     "execution_count": 27,
     "metadata": {},
     "output_type": "execute_result"
    },
    {
     "data": {
      "image/png": "[encoded data removed]",
      "text/plain": [
       "<Figure size 864x576 with 1 Axes>"
      ]
     },
     "metadata": {},
     "output_type": "display_data"
    }
   ],
   "source": [
    "# Isolating F and G and countplot just for those subgrades\n",
    "f_g = df[df['sub_grade'].isin(np.sort(df['sub_grade'].unique())[-10:])]\n",
    "sns.countplot(f_g['sub_grade'].sort_values(), palette='rainbow', hue=f_g['loan_status'])\n",
    "\n",
    "# F and G sub grades often doesn't payback their loans"
   ]
  },
  {
   "cell_type": "markdown",
   "execution_count": null,
   "metadata": {
    "id": "sRgJLKHP3ezK",
    "papermill": {
     "duration": 0.042625,
     "end_time": "2020-08-24T10:54:24.995190",
     "exception": false,
     "start_time": "2020-08-24T10:54:24.952565",
     "status": "completed"
    },
    "tags": []
   },
   "source": [
    "## **Data Preprocessing**\n",
    "\n",
    "In this section, the focus is on making data suitable for model building.\n",
    "- Data Cleaning\n",
    "- Feature Engineering\n",
    "- Data Transformation\n",
    "  - Train Test Split\n",
    "  - Normalization"
   ]
  },
  {
   "cell_type": "markdown",
   "execution_count": null,
   "metadata": {
    "id": "fWSvXXUi7IVn",
    "papermill": {
     "duration": 0.042084,
     "end_time": "2020-08-24T10:54:25.081103",
     "exception": false,
     "start_time": "2020-08-24T10:54:25.039019",
     "status": "completed"
    },
    "tags": []
   },
   "source": [
    "### Data Cleaning"
   ]
  },
  {
   "cell_type": "markdown",
   "execution_count": null,
   "metadata": {
    "id": "pu4Ubf6j6vWZ",
    "papermill": {
     "duration": 0.043157,
     "end_time": "2020-08-24T10:54:25.166535",
     "exception": false,
     "start_time": "2020-08-24T10:54:25.123378",
     "status": "completed"
    },
    "tags": []
   },
   "source": [
    "<h3>Handling Missing data</h3>"
   ]
  },
  {
   "cell_type": "code",
   "execution_count": 28,
   "metadata": {
    "execution": {
     "iopub.execute_input": "2020-08-24T10:54:25.258146Z",
     "iopub.status.busy": "2020-08-24T10:54:25.257280Z",
     "iopub.status.idle": "2020-08-24T10:54:25.414046Z",
     "shell.execute_reply": "2020-08-24T10:54:25.412904Z"
    },
    "id": "G4Amf9zHJkGj",
    "papermill": {
     "duration": 0.204722,
     "end_time": "2020-08-24T10:54:25.414235",
     "exception": false,
     "start_time": "2020-08-24T10:54:25.209513",
     "status": "completed"
    },
    "tags": []
   },
   "outputs": [],
   "source": [
    "# Copy of df\n",
    "df1 = df.copy()"
   ]
  },
  {
   "cell_type": "code",
   "execution_count": 29,
   "metadata": {
    "execution": {
     "iopub.execute_input": "2020-08-24T10:54:25.509298Z",
     "iopub.status.busy": "2020-08-24T10:54:25.508509Z",
     "iopub.status.idle": "2020-08-24T10:54:25.511463Z",
     "shell.execute_reply": "2020-08-24T10:54:25.512063Z"
    },
    "id": "ihYzO1qV9r5U",
    "papermill": {
     "duration": 0.05246,
     "end_time": "2020-08-24T10:54:25.512258",
     "exception": false,
     "start_time": "2020-08-24T10:54:25.459798",
     "status": "completed"
    },
    "tags": []
   },
   "outputs": [],
   "source": [
    "# Function to check missing data after handling missing data\n",
    "def check_null():\n",
    "  return round(df1.isna().mean()*100,2).sort_values(ascending = False)"
   ]
  },
  {
   "cell_type": "markdown",
   "execution_count": null,
   "metadata": {
    "id": "AML5KCh4JSQZ",
    "papermill": {
     "duration": 0.041942,
     "end_time": "2020-08-24T10:54:25.596941",
     "exception": false,
     "start_time": "2020-08-24T10:54:25.554999",
     "status": "completed"
    },
    "tags": []
   },
   "source": [
    "**mort_acc**\n",
    "\n"
   ]
  },
  {
   "cell_type": "code",
   "execution_count": 30,
   "metadata": {
    "execution": {
     "iopub.execute_input": "2020-08-24T10:54:25.689130Z",
     "iopub.status.busy": "2020-08-24T10:54:25.688085Z",
     "iopub.status.idle": "2020-08-24T10:54:25.693206Z",
     "shell.execute_reply": "2020-08-24T10:54:25.692619Z"
    },
    "id": "W1500eGv-s2P",
    "outputId": "6bd85b13-8efc-4a82-ca40-ad01196116da",
    "papermill": {
     "duration": 0.053888,
     "end_time": "2020-08-24T10:54:25.693359",
     "exception": false,
     "start_time": "2020-08-24T10:54:25.639471",
     "status": "completed"
    },
    "tags": []
   },
   "outputs": [
    {
     "data": {
      "text/plain": [
       "'mort_acc : Number of mortgage accounts.'"
      ]
     },
     "execution_count": 30,
     "metadata": {},
     "output_type": "execute_result"
    }
   ],
   "source": [
    "# Around 10% of mort_acc is missing\n",
    "feature_info('mort_acc')"
   ]
  },
  {
   "cell_type": "code",
   "execution_count": 31,
   "metadata": {
    "execution": {
     "iopub.execute_input": "2020-08-24T10:54:25.784691Z",
     "iopub.status.busy": "2020-08-24T10:54:25.783873Z",
     "iopub.status.idle": "2020-08-24T10:54:25.800467Z",
     "shell.execute_reply": "2020-08-24T10:54:25.799748Z"
    },
    "id": "MaW739k5AItR",
    "outputId": "535cda92-6a90-4f4e-a770-dff3e90ad178",
    "papermill": {
     "duration": 0.064949,
     "end_time": "2020-08-24T10:54:25.800604",
     "exception": false,
     "start_time": "2020-08-24T10:54:25.735655",
     "status": "completed"
    },
    "tags": []
   },
   "outputs": [
    {
     "data": {
      "text/plain": [
       "0.0     139777\n",
       "1.0      60416\n",
       "2.0      49948\n",
       "3.0      38049\n",
       "4.0      27887\n",
       "5.0      18194\n",
       "6.0      11069\n",
       "7.0       6052\n",
       "8.0       3121\n",
       "9.0       1656\n",
       "10.0       865\n",
       "11.0       479\n",
       "12.0       264\n",
       "13.0       146\n",
       "14.0       107\n",
       "15.0        61\n",
       "16.0        37\n",
       "17.0        22\n",
       "18.0        18\n",
       "19.0        15\n",
       "20.0        13\n",
       "24.0        10\n",
       "22.0         7\n",
       "21.0         4\n",
       "25.0         4\n",
       "27.0         3\n",
       "23.0         2\n",
       "32.0         2\n",
       "26.0         2\n",
       "31.0         2\n",
       "30.0         1\n",
       "28.0         1\n",
       "34.0         1\n",
       "Name: mort_acc, dtype: int64"
      ]
     },
     "execution_count": 31,
     "metadata": {},
     "output_type": "execute_result"
    }
   ],
   "source": [
    "df1['mort_acc'].value_counts()"
   ]
  },
  {
   "cell_type": "code",
   "execution_count": 32,
   "metadata": {
    "execution": {
     "iopub.execute_input": "2020-08-24T10:54:25.892733Z",
     "iopub.status.busy": "2020-08-24T10:54:25.891508Z",
     "iopub.status.idle": "2020-08-24T10:54:26.097462Z",
     "shell.execute_reply": "2020-08-24T10:54:26.096583Z"
    },
    "id": "kcpoepfyA3ZR",
    "outputId": "ef7b308f-9e80-4396-e6d4-30f5723a2fe8",
    "papermill": {
     "duration": 0.254504,
     "end_time": "2020-08-24T10:54:26.097600",
     "exception": false,
     "start_time": "2020-08-24T10:54:25.843096",
     "status": "completed"
    },
    "tags": []
   },
   "outputs": [
    {
     "data": {
      "text/plain": [
       "mort_acc                1.000000\n",
       "total_acc               0.381072\n",
       "annual_inc              0.236320\n",
       "loan_amnt               0.222315\n",
       "revol_bal               0.194925\n",
       "installment             0.193694\n",
       "open_acc                0.109205\n",
       "pub_rec_bankruptcies    0.027239\n",
       "pub_rec                 0.011552\n",
       "revol_util              0.007514\n",
       "dti                    -0.025439\n",
       "int_rate               -0.082583\n",
       "Name: mort_acc, dtype: float64"
      ]
     },
     "execution_count": 32,
     "metadata": {},
     "output_type": "execute_result"
    }
   ],
   "source": [
    "# Features that correlates with 'mort_acc'\n",
    "df1.corr()['mort_acc'].sort_values(ascending=False)"
   ]
  },
  {
   "cell_type": "code",
   "execution_count": 33,
   "metadata": {
    "execution": {
     "iopub.execute_input": "2020-08-24T10:54:26.192102Z",
     "iopub.status.busy": "2020-08-24T10:54:26.191152Z",
     "iopub.status.idle": "2020-08-24T10:54:26.214516Z",
     "shell.execute_reply": "2020-08-24T10:54:26.213726Z"
    },
    "id": "L7WWR-BGBAOP",
    "outputId": "db896cbd-1c57-46df-c1ca-9a1523bb973d",
    "papermill": {
     "duration": 0.074074,
     "end_time": "2020-08-24T10:54:26.214651",
     "exception": false,
     "start_time": "2020-08-24T10:54:26.140577",
     "status": "completed"
    },
    "tags": []
   },
   "outputs": [
    {
     "data": {
      "text/plain": [
       "total_acc\n",
       "2.0      0.000000\n",
       "3.0      0.052023\n",
       "4.0      0.066743\n",
       "5.0      0.103289\n",
       "6.0      0.151293\n",
       "           ...   \n",
       "124.0    1.000000\n",
       "129.0    1.000000\n",
       "135.0    3.000000\n",
       "150.0    2.000000\n",
       "151.0    0.000000\n",
       "Name: mort_acc, Length: 118, dtype: float64"
      ]
     },
     "execution_count": 33,
     "metadata": {},
     "output_type": "execute_result"
    }
   ],
   "source": [
    "# 'total_acc' have high correlation with 'mort_acc'\n",
    "# Lookup table for mort_acc values according to total_acc\n",
    "mort_acc_avg = df1.groupby('total_acc')['mort_acc'].mean()\n",
    "mort_acc_avg"
   ]
  },
  {
   "cell_type": "code",
   "execution_count": 34,
   "metadata": {
    "execution": {
     "iopub.execute_input": "2020-08-24T10:54:26.309806Z",
     "iopub.status.busy": "2020-08-24T10:54:26.308936Z",
     "iopub.status.idle": "2020-08-24T10:54:26.312261Z",
     "shell.execute_reply": "2020-08-24T10:54:26.311491Z"
    },
    "id": "QUxucydi_3ej",
    "papermill": {
     "duration": 0.05467,
     "end_time": "2020-08-24T10:54:26.312415",
     "exception": false,
     "start_time": "2020-08-24T10:54:26.257745",
     "status": "completed"
    },
    "tags": []
   },
   "outputs": [],
   "source": [
    "# Function \"fill\" \n",
    "def fill(x):\n",
    "  '''\n",
    "  Take a row and if mort_acc value is missing fill it with w.r.t total_acc,\n",
    "  with help of look up table above\n",
    "  if mort_acc not null, no change.\n",
    "  '''\n",
    "  mort_account = x[0]\n",
    "  total_account = x[1]\n",
    "  if pd.isnull(mort_account):\n",
    "    return mort_acc_avg[total_account]\n",
    "  else:\n",
    "    return mort_account"
   ]
  },
  {
   "cell_type": "code",
   "execution_count": 35,
   "metadata": {
    "execution": {
     "iopub.execute_input": "2020-08-24T10:54:26.408530Z",
     "iopub.status.busy": "2020-08-24T10:54:26.407367Z",
     "iopub.status.idle": "2020-08-24T10:54:33.923145Z",
     "shell.execute_reply": "2020-08-24T10:54:33.922297Z"
    },
    "id": "AFPQoKy-EMQ8",
    "papermill": {
     "duration": 7.5673,
     "end_time": "2020-08-24T10:54:33.923295",
     "exception": false,
     "start_time": "2020-08-24T10:54:26.355995",
     "status": "completed"
    },
    "tags": []
   },
   "outputs": [],
   "source": [
    "# Fill missing values using 'fill' function\n",
    "df1['mort_acc'] = df1[['mort_acc', 'total_acc']].apply(fill, axis=1)"
   ]
  },
  {
   "cell_type": "code",
   "execution_count": 36,
   "metadata": {
    "execution": {
     "iopub.execute_input": "2020-08-24T10:54:34.018743Z",
     "iopub.status.busy": "2020-08-24T10:54:34.017615Z",
     "iopub.status.idle": "2020-08-24T10:54:34.025598Z",
     "shell.execute_reply": "2020-08-24T10:54:34.024848Z"
    },
    "id": "y_yJWNxDIT84",
    "outputId": "b5c4177d-5db4-484d-f28f-351d24a42e00",
    "papermill": {
     "duration": 0.058671,
     "end_time": "2020-08-24T10:54:34.025740",
     "exception": false,
     "start_time": "2020-08-24T10:54:33.967069",
     "status": "completed"
    },
    "tags": []
   },
   "outputs": [
    {
     "data": {
      "text/plain": [
       "0"
      ]
     },
     "execution_count": 36,
     "metadata": {},
     "output_type": "execute_result"
    }
   ],
   "source": [
    "# Verify changes \n",
    "df1['mort_acc'].isnull().sum()"
   ]
  },
  {
   "cell_type": "code",
   "execution_count": 37,
   "metadata": {
    "execution": {
     "iopub.execute_input": "2020-08-24T10:54:34.117881Z",
     "iopub.status.busy": "2020-08-24T10:54:34.117048Z",
     "iopub.status.idle": "2020-08-24T10:54:34.770077Z",
     "shell.execute_reply": "2020-08-24T10:54:34.769256Z"
    },
    "id": "L7DmR-xuEMRR",
    "outputId": "709cea55-9d29-4762-cc55-945dbae66985",
    "papermill": {
     "duration": 0.70107,
     "end_time": "2020-08-24T10:54:34.770220",
     "exception": false,
     "start_time": "2020-08-24T10:54:34.069150",
     "status": "completed"
    },
    "tags": []
   },
   "outputs": [
    {
     "data": {
      "text/plain": [
       "emp_title               5.79\n",
       "emp_length              4.62\n",
       "title                   0.44\n",
       "pub_rec_bankruptcies    0.14\n",
       "revol_util              0.07\n",
       "address                 0.00\n",
       "issue_d                 0.00\n",
       "term                    0.00\n",
       "int_rate                0.00\n",
       "installment             0.00\n",
       "grade                   0.00\n",
       "sub_grade               0.00\n",
       "home_ownership          0.00\n",
       "annual_inc              0.00\n",
       "verification_status     0.00\n",
       "purpose                 0.00\n",
       "loan_status             0.00\n",
       "dti                     0.00\n",
       "earliest_cr_line        0.00\n",
       "open_acc                0.00\n",
       "pub_rec                 0.00\n",
       "revol_bal               0.00\n",
       "total_acc               0.00\n",
       "initial_list_status     0.00\n",
       "application_type        0.00\n",
       "mort_acc                0.00\n",
       "loan_amnt               0.00\n",
       "dtype: float64"
      ]
     },
     "execution_count": 37,
     "metadata": {},
     "output_type": "execute_result"
    }
   ],
   "source": [
    "check_null()"
   ]
  },
  {
   "cell_type": "markdown",
   "execution_count": null,
   "metadata": {
    "id": "T3hktMNjJ9Sg",
    "papermill": {
     "duration": 0.043422,
     "end_time": "2020-08-24T10:54:34.857276",
     "exception": false,
     "start_time": "2020-08-24T10:54:34.813854",
     "status": "completed"
    },
    "tags": []
   },
   "source": [
    "**emp_title**"
   ]
  },
  {
   "cell_type": "code",
   "execution_count": 38,
   "metadata": {
    "execution": {
     "iopub.execute_input": "2020-08-24T10:54:35.077933Z",
     "iopub.status.busy": "2020-08-24T10:54:35.075578Z",
     "iopub.status.idle": "2020-08-24T10:54:35.082810Z",
     "shell.execute_reply": "2020-08-24T10:54:35.082031Z"
    },
    "id": "16Z0H50iH7KS",
    "outputId": "79ab8d65-cd3e-4dad-c0a5-c696a6d185f7",
    "papermill": {
     "duration": 0.181096,
     "end_time": "2020-08-24T10:54:35.082944",
     "exception": false,
     "start_time": "2020-08-24T10:54:34.901848",
     "status": "completed"
    },
    "tags": []
   },
   "outputs": [
    {
     "name": "stdout",
     "output_type": "stream",
     "text": [
      "emp_title : The job title supplied by the Borrower when applying for the loan.* \n",
      "\n",
      "No. of unique job titles :  173105\n"
     ]
    }
   ],
   "source": [
    "print(feature_info('emp_title'),'\\n')\n",
    "print('No. of unique job titles : ', df1['emp_title'].nunique())"
   ]
  },
  {
   "cell_type": "code",
   "execution_count": 39,
   "metadata": {
    "execution": {
     "iopub.execute_input": "2020-08-24T10:54:35.281355Z",
     "iopub.status.busy": "2020-08-24T10:54:35.255371Z",
     "iopub.status.idle": "2020-08-24T10:54:35.284462Z",
     "shell.execute_reply": "2020-08-24T10:54:35.284996Z"
    },
    "id": "kDFOvPFbIurg",
    "papermill": {
     "duration": 0.157963,
     "end_time": "2020-08-24T10:54:35.285178",
     "exception": false,
     "start_time": "2020-08-24T10:54:35.127215",
     "status": "completed"
    },
    "tags": []
   },
   "outputs": [],
   "source": [
    "# Too many unique job titles to convert in to a dummy variable feature. \n",
    "# Dropping \"emp_title\"\n",
    "df1.drop('emp_title',axis=1, inplace=True)"
   ]
  },
  {
   "cell_type": "code",
   "execution_count": 40,
   "metadata": {
    "execution": {
     "iopub.execute_input": "2020-08-24T10:54:35.378135Z",
     "iopub.status.busy": "2020-08-24T10:54:35.377268Z",
     "iopub.status.idle": "2020-08-24T10:54:36.011663Z",
     "shell.execute_reply": "2020-08-24T10:54:36.010782Z"
    },
    "id": "cw4w_dIcKKMf",
    "outputId": "ba4b7843-b8c7-464f-c3a8-d0c721289bb7",
    "papermill": {
     "duration": 0.682666,
     "end_time": "2020-08-24T10:54:36.011818",
     "exception": false,
     "start_time": "2020-08-24T10:54:35.329152",
     "status": "completed"
    },
    "tags": []
   },
   "outputs": [
    {
     "data": {
      "text/plain": [
       "emp_length              4.62\n",
       "title                   0.44\n",
       "pub_rec_bankruptcies    0.14\n",
       "revol_util              0.07\n",
       "address                 0.00\n",
       "issue_d                 0.00\n",
       "term                    0.00\n",
       "int_rate                0.00\n",
       "installment             0.00\n",
       "grade                   0.00\n",
       "sub_grade               0.00\n",
       "home_ownership          0.00\n",
       "annual_inc              0.00\n",
       "verification_status     0.00\n",
       "purpose                 0.00\n",
       "loan_status             0.00\n",
       "dti                     0.00\n",
       "earliest_cr_line        0.00\n",
       "open_acc                0.00\n",
       "pub_rec                 0.00\n",
       "revol_bal               0.00\n",
       "total_acc               0.00\n",
       "initial_list_status     0.00\n",
       "application_type        0.00\n",
       "mort_acc                0.00\n",
       "loan_amnt               0.00\n",
       "dtype: float64"
      ]
     },
     "execution_count": 40,
     "metadata": {},
     "output_type": "execute_result"
    }
   ],
   "source": [
    "check_null()"
   ]
  },
  {
   "cell_type": "markdown",
   "execution_count": null,
   "metadata": {
    "id": "5hepWQDXKREO",
    "papermill": {
     "duration": 0.044142,
     "end_time": "2020-08-24T10:54:36.101015",
     "exception": false,
     "start_time": "2020-08-24T10:54:36.056873",
     "status": "completed"
    },
    "tags": []
   },
   "source": [
    "**emp_length**"
   ]
  },
  {
   "cell_type": "code",
   "execution_count": 41,
   "metadata": {
    "execution": {
     "iopub.execute_input": "2020-08-24T10:54:36.239624Z",
     "iopub.status.busy": "2020-08-24T10:54:36.238798Z",
     "iopub.status.idle": "2020-08-24T10:54:36.288290Z",
     "shell.execute_reply": "2020-08-24T10:54:36.287653Z"
    },
    "id": "9yg37SC6KU_V",
    "outputId": "9517204c-e2cd-4a6c-df8a-eb3bd419add9",
    "papermill": {
     "duration": 0.143245,
     "end_time": "2020-08-24T10:54:36.288458",
     "exception": false,
     "start_time": "2020-08-24T10:54:36.145213",
     "status": "completed"
    },
    "tags": []
   },
   "outputs": [
    {
     "name": "stdout",
     "output_type": "stream",
     "text": [
      "emp_length : Employment length in years. Possible values are between 0 and 10 where 0 means less than one year and 10 means ten or more years.  \n",
      "\n",
      "Different Employment lengths: \n",
      " ['1 year', '10+ years', '2 years', '3 years', '4 years', '5 years', '6 years', '7 years', '8 years', '9 years', '< 1 year']\n"
     ]
    }
   ],
   "source": [
    "print(feature_info('emp_length'),'\\n')\n",
    "print('Different Employment lengths: \\n', sorted(df1['emp_length'].dropna().unique()))"
   ]
  },
  {
   "cell_type": "code",
   "execution_count": 42,
   "metadata": {
    "execution": {
     "iopub.execute_input": "2020-08-24T10:54:36.448363Z",
     "iopub.status.busy": "2020-08-24T10:54:36.447523Z",
     "iopub.status.idle": "2020-08-24T10:54:37.124267Z",
     "shell.execute_reply": "2020-08-24T10:54:37.123562Z"
    },
    "id": "SLuIULF4Ldrj",
    "outputId": "f28530a1-04bc-4266-aa5c-2655d4373580",
    "papermill": {
     "duration": 0.79024,
     "end_time": "2020-08-24T10:54:37.124460",
     "exception": false,
     "start_time": "2020-08-24T10:54:36.334220",
     "status": "completed"
    },
    "tags": []
   },
   "outputs": [
    {
     "data": {
      "text/plain": [
       "<matplotlib.axes._subplots.AxesSubplot at 0x7f93d09bd0d0>"
      ]
     },
     "execution_count": 42,
     "metadata": {},
     "output_type": "execute_result"
    },
    {
     "data": {
      "image/png": "[encoded data removed]",
      "text/plain": [
       "<Figure size 864x576 with 1 Axes>"
      ]
     },
     "metadata": {},
     "output_type": "display_data"
    }
   ],
   "source": [
    "# Countplot of 'emp_lenth' with given order \"emp_length_order\"\n",
    "emp_length_order = [ '< 1 year','1 year', '2 years', '3 years', '4 years', '5 years', '6 years', '7 years', '8 years', '9 years', '10+ years']\n",
    "sns.countplot(df1['emp_length'], order=emp_length_order, hue=df1['loan_status'])\n",
    "\n",
    "# The fully paid and Charged Off ratio looks same all emp_lengths"
   ]
  },
  {
   "cell_type": "code",
   "execution_count": 43,
   "metadata": {
    "execution": {
     "iopub.execute_input": "2020-08-24T10:54:37.287064Z",
     "iopub.status.busy": "2020-08-24T10:54:37.286237Z",
     "iopub.status.idle": "2020-08-24T10:54:37.474857Z",
     "shell.execute_reply": "2020-08-24T10:54:37.475703Z"
    },
    "id": "Nter7bJWs6Ee",
    "outputId": "0b24c6e4-1680-40ff-a868-c74fa9b7d77c",
    "papermill": {
     "duration": 0.305389,
     "end_time": "2020-08-24T10:54:37.475949",
     "exception": false,
     "start_time": "2020-08-24T10:54:37.170560",
     "status": "completed"
    },
    "tags": []
   },
   "outputs": [
    {
     "name": "stdout",
     "output_type": "stream",
     "text": [
      "emp_length\n",
      "1 year        5154\n",
      "10+ years    23215\n",
      "2 years       6924\n",
      "3 years       6182\n",
      "4 years       4608\n",
      "5 years       5092\n",
      "6 years       3943\n",
      "7 years       4055\n",
      "8 years       3829\n",
      "9 years       3070\n",
      "< 1 year      6563\n",
      "Name: loan_status, dtype: int64\n"
     ]
    }
   ],
   "source": [
    "# Charged Off emp loan_status w.r.t emp_length \n",
    "emp_co = df1[df1['loan_status']==\"Charged Off\"].groupby(\"emp_length\").count()['loan_status']\n",
    "print(emp_co)"
   ]
  },
  {
   "cell_type": "code",
   "execution_count": 44,
   "metadata": {
    "execution": {
     "iopub.execute_input": "2020-08-24T10:54:37.644816Z",
     "iopub.status.busy": "2020-08-24T10:54:37.643426Z",
     "iopub.status.idle": "2020-08-24T10:54:38.354177Z",
     "shell.execute_reply": "2020-08-24T10:54:38.353148Z"
    },
    "id": "Sq7a5k1j33hu",
    "outputId": "e4b662c2-6983-48da-d863-feea4b80af21",
    "papermill": {
     "duration": 0.831478,
     "end_time": "2020-08-24T10:54:38.354318",
     "exception": false,
     "start_time": "2020-08-24T10:54:37.522840",
     "status": "completed"
    },
    "tags": []
   },
   "outputs": [
    {
     "name": "stdout",
     "output_type": "stream",
     "text": [
      "emp_length\n",
      "1 year        20728\n",
      "10+ years    102826\n",
      "2 years       28903\n",
      "3 years       25483\n",
      "4 years       19344\n",
      "5 years       21403\n",
      "6 years       16898\n",
      "7 years       16764\n",
      "8 years       15339\n",
      "9 years       12244\n",
      "< 1 year      25162\n",
      "Name: loan_status, dtype: int64\n"
     ]
    }
   ],
   "source": [
    "# Fully Paid emp loan_status w.r.t emp_length \n",
    "emp_fp = df1[df1['loan_status']==\"Fully Paid\"].groupby(\"emp_length\").count()['loan_status']\n",
    "print(emp_fp)"
   ]
  },
  {
   "cell_type": "code",
   "execution_count": 45,
   "metadata": {
    "execution": {
     "iopub.execute_input": "2020-08-24T10:54:38.455099Z",
     "iopub.status.busy": "2020-08-24T10:54:38.454037Z",
     "iopub.status.idle": "2020-08-24T10:54:38.458688Z",
     "shell.execute_reply": "2020-08-24T10:54:38.457921Z"
    },
    "id": "mJGpkhTr3-kc",
    "outputId": "5c14fa89-15aa-4caa-eaae-a1646d28f594",
    "papermill": {
     "duration": 0.058488,
     "end_time": "2020-08-24T10:54:38.458838",
     "exception": false,
     "start_time": "2020-08-24T10:54:38.400350",
     "status": "completed"
    },
    "tags": []
   },
   "outputs": [
    {
     "name": "stdout",
     "output_type": "stream",
     "text": [
      "emp_length\n",
      "1 year       0.199135\n",
      "10+ years    0.184186\n",
      "2 years      0.193262\n",
      "3 years      0.195231\n",
      "4 years      0.192385\n",
      "5 years      0.192187\n",
      "6 years      0.189194\n",
      "7 years      0.194774\n",
      "8 years      0.199760\n",
      "9 years      0.200470\n",
      "< 1 year     0.206872\n",
      "Name: loan_status, dtype: float64\n"
     ]
    }
   ],
   "source": [
    "# Charged off loan_status Ratio w.r.t emp_length \n",
    "emp_len = emp_co/(emp_fp+emp_co)\n",
    "print(emp_len)"
   ]
  },
  {
   "cell_type": "code",
   "execution_count": 46,
   "metadata": {
    "execution": {
     "iopub.execute_input": "2020-08-24T10:54:38.556758Z",
     "iopub.status.busy": "2020-08-24T10:54:38.555862Z",
     "iopub.status.idle": "2020-08-24T10:54:38.863795Z",
     "shell.execute_reply": "2020-08-24T10:54:38.862975Z"
    },
    "id": "_Z2o6AJ_s6Eo",
    "outputId": "63d96dfc-1486-425e-9dc8-d92ba2949599",
    "papermill": {
     "duration": 0.359268,
     "end_time": "2020-08-24T10:54:38.863933",
     "exception": false,
     "start_time": "2020-08-24T10:54:38.504665",
     "status": "completed"
    },
    "tags": []
   },
   "outputs": [
    {
     "data": {
      "text/plain": [
       "<matplotlib.axes._subplots.AxesSubplot at 0x7f93cf57a5d0>"
      ]
     },
     "execution_count": 46,
     "metadata": {},
     "output_type": "execute_result"
    },
    {
     "data": {
      "image/png": "[encoded data removed]",
      "text/plain": [
       "<Figure size 864x576 with 1 Axes>"
      ]
     },
     "metadata": {},
     "output_type": "display_data"
    }
   ],
   "source": [
    "# Charge off rates are similar across all employment lengths\n",
    "emp_len.plot(kind='bar')"
   ]
  },
  {
   "cell_type": "code",
   "execution_count": 47,
   "metadata": {
    "execution": {
     "iopub.execute_input": "2020-08-24T10:54:39.027247Z",
     "iopub.status.busy": "2020-08-24T10:54:38.969866Z",
     "iopub.status.idle": "2020-08-24T10:54:39.054812Z",
     "shell.execute_reply": "2020-08-24T10:54:39.054075Z"
    },
    "id": "j-rP-3hm01mC",
    "papermill": {
     "duration": 0.144804,
     "end_time": "2020-08-24T10:54:39.054968",
     "exception": false,
     "start_time": "2020-08-24T10:54:38.910164",
     "status": "completed"
    },
    "tags": []
   },
   "outputs": [],
   "source": [
    "# Dropping the emp_length column as it doen't contain much information\n",
    "df1.drop('emp_length',axis=1, inplace=True)"
   ]
  },
  {
   "cell_type": "code",
   "execution_count": 48,
   "metadata": {
    "execution": {
     "iopub.execute_input": "2020-08-24T10:54:39.172225Z",
     "iopub.status.busy": "2020-08-24T10:54:39.171458Z",
     "iopub.status.idle": "2020-08-24T10:54:39.753823Z",
     "shell.execute_reply": "2020-08-24T10:54:39.754397Z"
    },
    "id": "a75IQkMd4xdF",
    "outputId": "2bca5035-03af-490e-f463-1111b1129309",
    "papermill": {
     "duration": 0.652878,
     "end_time": "2020-08-24T10:54:39.754578",
     "exception": false,
     "start_time": "2020-08-24T10:54:39.101700",
     "status": "completed"
    },
    "tags": []
   },
   "outputs": [
    {
     "data": {
      "text/plain": [
       "title                   0.44\n",
       "pub_rec_bankruptcies    0.14\n",
       "revol_util              0.07\n",
       "loan_status             0.00\n",
       "term                    0.00\n",
       "int_rate                0.00\n",
       "installment             0.00\n",
       "grade                   0.00\n",
       "sub_grade               0.00\n",
       "home_ownership          0.00\n",
       "annual_inc              0.00\n",
       "verification_status     0.00\n",
       "issue_d                 0.00\n",
       "address                 0.00\n",
       "purpose                 0.00\n",
       "dti                     0.00\n",
       "earliest_cr_line        0.00\n",
       "open_acc                0.00\n",
       "pub_rec                 0.00\n",
       "revol_bal               0.00\n",
       "total_acc               0.00\n",
       "initial_list_status     0.00\n",
       "application_type        0.00\n",
       "mort_acc                0.00\n",
       "loan_amnt               0.00\n",
       "dtype: float64"
      ]
     },
     "execution_count": 48,
     "metadata": {},
     "output_type": "execute_result"
    }
   ],
   "source": [
    "check_null()"
   ]
  },
  {
   "cell_type": "markdown",
   "execution_count": null,
   "metadata": {
    "id": "yUpfoqKK7Tks",
    "papermill": {
     "duration": 0.046091,
     "end_time": "2020-08-24T10:54:39.847054",
     "exception": false,
     "start_time": "2020-08-24T10:54:39.800963",
     "status": "completed"
    },
    "tags": []
   },
   "source": [
    "**title**"
   ]
  },
  {
   "cell_type": "code",
   "execution_count": 49,
   "metadata": {
    "execution": {
     "iopub.execute_input": "2020-08-24T10:54:39.991427Z",
     "iopub.status.busy": "2020-08-24T10:54:39.990015Z",
     "iopub.status.idle": "2020-08-24T10:54:40.263239Z",
     "shell.execute_reply": "2020-08-24T10:54:40.262137Z"
    },
    "id": "Fuafrfzn5GYk",
    "outputId": "e4a3e850-340b-4354-9f2c-73d5c30abbc9",
    "papermill": {
     "duration": 0.369851,
     "end_time": "2020-08-24T10:54:40.263409",
     "exception": false,
     "start_time": "2020-08-24T10:54:39.893558",
     "status": "completed"
    },
    "tags": []
   },
   "outputs": [
    {
     "name": "stdout",
     "output_type": "stream",
     "text": [
      "title : The loan title provided by the borrower \n",
      "\n",
      "No. of different titles:  48817\n",
      "\n",
      "Different titles:\n",
      " Debt consolidation                       152472\n",
      "Credit card refinancing                   51487\n",
      "Home improvement                          15264\n",
      "Other                                     12930\n",
      "Debt Consolidation                        11608\n",
      "                                          ...  \n",
      "marketing and expansion                       1\n",
      "Starting Business for Youth                   1\n",
      "Low interest loan                             1\n",
      "Credit cards to refinance, thanks LC!         1\n",
      "High Interest Rate Payoff                     1\n",
      "Name: title, Length: 48817, dtype: int64\n"
     ]
    }
   ],
   "source": [
    "print(feature_info('title'),'\\n')\n",
    "\n",
    "print('No. of different titles: ', df1['title'].dropna().nunique())\n",
    "print('\\nDifferent titles:\\n',df1['title'].dropna().value_counts())"
   ]
  },
  {
   "cell_type": "code",
   "execution_count": 50,
   "metadata": {
    "execution": {
     "iopub.execute_input": "2020-08-24T10:54:40.434184Z",
     "iopub.status.busy": "2020-08-24T10:54:40.404293Z",
     "iopub.status.idle": "2020-08-24T10:54:40.460488Z",
     "shell.execute_reply": "2020-08-24T10:54:40.459609Z"
    },
    "id": "TK9Uy9MP7DJV",
    "papermill": {
     "duration": 0.148045,
     "end_time": "2020-08-24T10:54:40.460636",
     "exception": false,
     "start_time": "2020-08-24T10:54:40.312591",
     "status": "completed"
    },
    "tags": []
   },
   "outputs": [],
   "source": [
    "# 48817 different titles to convert in to dummies\n",
    "# Dropping title feature\n",
    "df1.drop('title',axis=1, inplace=True) "
   ]
  },
  {
   "cell_type": "code",
   "execution_count": 51,
   "metadata": {
    "execution": {
     "iopub.execute_input": "2020-08-24T10:54:40.561383Z",
     "iopub.status.busy": "2020-08-24T10:54:40.559913Z",
     "iopub.status.idle": "2020-08-24T10:54:41.085440Z",
     "shell.execute_reply": "2020-08-24T10:54:41.085989Z"
    },
    "id": "JDPKGpGC8QvG",
    "outputId": "86c8260d-01d4-4e8f-d9f7-f560db292104",
    "papermill": {
     "duration": 0.578893,
     "end_time": "2020-08-24T10:54:41.086175",
     "exception": false,
     "start_time": "2020-08-24T10:54:40.507282",
     "status": "completed"
    },
    "tags": []
   },
   "outputs": [
    {
     "data": {
      "text/plain": [
       "pub_rec_bankruptcies    0.14\n",
       "revol_util              0.07\n",
       "address                 0.00\n",
       "loan_status             0.00\n",
       "term                    0.00\n",
       "int_rate                0.00\n",
       "installment             0.00\n",
       "grade                   0.00\n",
       "sub_grade               0.00\n",
       "home_ownership          0.00\n",
       "annual_inc              0.00\n",
       "verification_status     0.00\n",
       "issue_d                 0.00\n",
       "purpose                 0.00\n",
       "dti                     0.00\n",
       "earliest_cr_line        0.00\n",
       "open_acc                0.00\n",
       "pub_rec                 0.00\n",
       "revol_bal               0.00\n",
       "total_acc               0.00\n",
       "initial_list_status     0.00\n",
       "application_type        0.00\n",
       "mort_acc                0.00\n",
       "loan_amnt               0.00\n",
       "dtype: float64"
      ]
     },
     "execution_count": 51,
     "metadata": {},
     "output_type": "execute_result"
    }
   ],
   "source": [
    "check_null()"
   ]
  },
  {
   "cell_type": "markdown",
   "execution_count": null,
   "metadata": {
    "id": "0wwoaFVhBTNN",
    "papermill": {
     "duration": 0.047154,
     "end_time": "2020-08-24T10:54:41.180194",
     "exception": false,
     "start_time": "2020-08-24T10:54:41.133040",
     "status": "completed"
    },
    "tags": []
   },
   "source": [
    "**Other Features**"
   ]
  },
  {
   "cell_type": "code",
   "execution_count": 52,
   "metadata": {
    "execution": {
     "iopub.execute_input": "2020-08-24T10:54:41.284673Z",
     "iopub.status.busy": "2020-08-24T10:54:41.283167Z",
     "iopub.status.idle": "2020-08-24T10:54:41.303732Z",
     "shell.execute_reply": "2020-08-24T10:54:41.304355Z"
    },
    "id": "ZDUqdhiN89HR",
    "outputId": "76811b5b-7e79-44b7-8a06-4af8d006a68d",
    "papermill": {
     "duration": 0.076084,
     "end_time": "2020-08-24T10:54:41.304555",
     "exception": false,
     "start_time": "2020-08-24T10:54:41.228471",
     "status": "completed"
    },
    "tags": []
   },
   "outputs": [
    {
     "name": "stdout",
     "output_type": "stream",
     "text": [
      "pub_rec_bankruptcies : Number of public record bankruptcies \n",
      "\n",
      "Different values of pub_rec_bankruptcies:  [0. 1. 2. 3. 4. 5. 6. 7. 8.]\n",
      "\n",
      "pub_rec_bankruptcies counts:\n",
      " 0.0    350380\n",
      "1.0     42790\n",
      "2.0      1847\n",
      "3.0       351\n",
      "4.0        82\n",
      "5.0        32\n",
      "6.0         7\n",
      "7.0         4\n",
      "8.0         2\n",
      "Name: pub_rec_bankruptcies, dtype: int64\n"
     ]
    }
   ],
   "source": [
    "# pub_rec_bankruptcies and revol_util have only 0.14% and 0.07 % of missing values respectively\n",
    "\n",
    "print(feature_info('pub_rec_bankruptcies'),'\\n')\n",
    "print('Different values of pub_rec_bankruptcies: ', df1['pub_rec_bankruptcies'].dropna().unique())\n",
    "print('\\npub_rec_bankruptcies counts:\\n',df1['pub_rec_bankruptcies'].dropna().value_counts())"
   ]
  },
  {
   "cell_type": "code",
   "execution_count": 53,
   "metadata": {
    "execution": {
     "iopub.execute_input": "2020-08-24T10:54:41.405767Z",
     "iopub.status.busy": "2020-08-24T10:54:41.404916Z",
     "iopub.status.idle": "2020-08-24T10:54:41.441954Z",
     "shell.execute_reply": "2020-08-24T10:54:41.442586Z"
    },
    "id": "jA-skxbVH9BV",
    "outputId": "907da35f-ea5a-428c-e021-8e7d03ea38c5",
    "papermill": {
     "duration": 0.091165,
     "end_time": "2020-08-24T10:54:41.442782",
     "exception": false,
     "start_time": "2020-08-24T10:54:41.351617",
     "status": "completed"
    },
    "tags": []
   },
   "outputs": [
    {
     "name": "stdout",
     "output_type": "stream",
     "text": [
      "pub_rec_bankruptcies:\n",
      " count    395495.000000\n",
      "mean          0.121648\n",
      "std           0.356174\n",
      "min           0.000000\n",
      "25%           0.000000\n",
      "50%           0.000000\n",
      "75%           0.000000\n",
      "max           8.000000\n",
      "Name: pub_rec_bankruptcies, dtype: float64\n",
      "\n",
      "\n",
      "revol_util:\n",
      " count    395754.000000\n",
      "mean         53.791749\n",
      "std          24.452193\n",
      "min           0.000000\n",
      "25%          35.800000\n",
      "50%          54.800000\n",
      "75%          72.900000\n",
      "max         892.300000\n",
      "Name: revol_util, dtype: float64\n"
     ]
    }
   ],
   "source": [
    "# Mean and Median values of pub_rec_bankruptcies and revol_util\n",
    "\n",
    "print('pub_rec_bankruptcies:\\n',df['pub_rec_bankruptcies'].describe())\n",
    "print('\\n\\nrevol_util:\\n',df['revol_util'].describe())"
   ]
  },
  {
   "cell_type": "code",
   "execution_count": 54,
   "metadata": {
    "execution": {
     "iopub.execute_input": "2020-08-24T10:54:41.545456Z",
     "iopub.status.busy": "2020-08-24T10:54:41.544299Z",
     "iopub.status.idle": "2020-08-24T10:54:42.414400Z",
     "shell.execute_reply": "2020-08-24T10:54:42.415018Z"
    },
    "id": "XoAIzIC__n5B",
    "papermill": {
     "duration": 0.924195,
     "end_time": "2020-08-24T10:54:42.415224",
     "exception": false,
     "start_time": "2020-08-24T10:54:41.491029",
     "status": "completed"
    },
    "tags": []
   },
   "outputs": [],
   "source": [
    "# Fill the missing values with median\n",
    "df1 = df1.fillna(df.median())"
   ]
  },
  {
   "cell_type": "code",
   "execution_count": 55,
   "metadata": {
    "execution": {
     "iopub.execute_input": "2020-08-24T10:54:42.516856Z",
     "iopub.status.busy": "2020-08-24T10:54:42.515490Z",
     "iopub.status.idle": "2020-08-24T10:54:43.048483Z",
     "shell.execute_reply": "2020-08-24T10:54:43.047769Z"
    },
    "id": "5iNIPBTUBbh6",
    "outputId": "557eeb95-7fcc-4afb-ace3-2df86d99e341",
    "papermill": {
     "duration": 0.585656,
     "end_time": "2020-08-24T10:54:43.048616",
     "exception": false,
     "start_time": "2020-08-24T10:54:42.462960",
     "status": "completed"
    },
    "tags": []
   },
   "outputs": [
    {
     "data": {
      "text/plain": [
       "address                 0.0\n",
       "pub_rec_bankruptcies    0.0\n",
       "term                    0.0\n",
       "int_rate                0.0\n",
       "installment             0.0\n",
       "grade                   0.0\n",
       "sub_grade               0.0\n",
       "home_ownership          0.0\n",
       "annual_inc              0.0\n",
       "verification_status     0.0\n",
       "issue_d                 0.0\n",
       "loan_status             0.0\n",
       "purpose                 0.0\n",
       "dti                     0.0\n",
       "earliest_cr_line        0.0\n",
       "open_acc                0.0\n",
       "pub_rec                 0.0\n",
       "revol_bal               0.0\n",
       "revol_util              0.0\n",
       "total_acc               0.0\n",
       "initial_list_status     0.0\n",
       "application_type        0.0\n",
       "mort_acc                0.0\n",
       "loan_amnt               0.0\n",
       "dtype: float64"
      ]
     },
     "execution_count": 55,
     "metadata": {},
     "output_type": "execute_result"
    }
   ],
   "source": [
    "check_null()"
   ]
  },
  {
   "cell_type": "markdown",
   "execution_count": null,
   "metadata": {
    "id": "mj7_Naf1Jey7",
    "papermill": {
     "duration": 0.048908,
     "end_time": "2020-08-24T10:54:43.145177",
     "exception": false,
     "start_time": "2020-08-24T10:54:43.096269",
     "status": "completed"
    },
    "tags": []
   },
   "source": [
    "### Feature Engineering"
   ]
  },
  {
   "cell_type": "code",
   "execution_count": 56,
   "metadata": {
    "execution": {
     "iopub.execute_input": "2020-08-24T10:54:43.302085Z",
     "iopub.status.busy": "2020-08-24T10:54:43.272055Z",
     "iopub.status.idle": "2020-08-24T10:54:43.327298Z",
     "shell.execute_reply": "2020-08-24T10:54:43.328282Z"
    },
    "id": "bu51YKzjJpoi",
    "outputId": "aede7cbf-e1a2-4ef7-cd28-bf49ec3a0714",
    "papermill": {
     "duration": 0.135202,
     "end_time": "2020-08-24T10:54:43.328485",
     "exception": false,
     "start_time": "2020-08-24T10:54:43.193283",
     "status": "completed"
    },
    "tags": []
   },
   "outputs": [
    {
     "name": "stdout",
     "output_type": "stream",
     "text": [
      "Categorical cols of df1: ['term' 'grade' 'sub_grade' 'home_ownership' 'verification_status'\n",
      " 'issue_d' 'loan_status' 'purpose' 'earliest_cr_line'\n",
      " 'initial_list_status' 'application_type' 'address']\n"
     ]
    }
   ],
   "source": [
    "# Get all Categorical cols of df1\n",
    "cat_cols1 = df1.select_dtypes(exclude=[np.number]).columns.values\n",
    "print('Categorical cols of df1:',cat_cols1)"
   ]
  },
  {
   "cell_type": "markdown",
   "execution_count": null,
   "metadata": {
    "id": "6Xw7qmAPKsfq",
    "papermill": {
     "duration": 0.047026,
     "end_time": "2020-08-24T10:54:43.423203",
     "exception": false,
     "start_time": "2020-08-24T10:54:43.376177",
     "status": "completed"
    },
    "tags": []
   },
   "source": [
    "**term**"
   ]
  },
  {
   "cell_type": "code",
   "execution_count": 57,
   "metadata": {
    "execution": {
     "iopub.execute_input": "2020-08-24T10:54:43.554231Z",
     "iopub.status.busy": "2020-08-24T10:54:43.553355Z",
     "iopub.status.idle": "2020-08-24T10:54:43.569992Z",
     "shell.execute_reply": "2020-08-24T10:54:43.569229Z"
    },
    "id": "d2oY7rBCKQXO",
    "outputId": "6675954b-3a59-4ef8-f80b-2f624c7a4fc8",
    "papermill": {
     "duration": 0.099357,
     "end_time": "2020-08-24T10:54:43.570126",
     "exception": false,
     "start_time": "2020-08-24T10:54:43.470769",
     "status": "completed"
    },
    "tags": []
   },
   "outputs": [
    {
     "name": "stdout",
     "output_type": "stream",
     "text": [
      "term : The number of payments on the loan. Values are in months and can be either 36 or 60. \n",
      "\n"
     ]
    },
    {
     "data": {
      "text/plain": [
       "array([' 36 months', ' 60 months'], dtype=object)"
      ]
     },
     "execution_count": 57,
     "metadata": {},
     "output_type": "execute_result"
    }
   ],
   "source": [
    "print(feature_info('term'),'\\n')\n",
    "df1['term'].unique()"
   ]
  },
  {
   "cell_type": "code",
   "execution_count": 58,
   "metadata": {
    "execution": {
     "iopub.execute_input": "2020-08-24T10:54:43.724056Z",
     "iopub.status.busy": "2020-08-24T10:54:43.686025Z",
     "iopub.status.idle": "2020-08-24T10:54:43.812041Z",
     "shell.execute_reply": "2020-08-24T10:54:43.811317Z"
    },
    "id": "IBzSDJqoLEEA",
    "outputId": "2f0f84ac-38ba-4474-cbe8-97b12bf98b15",
    "papermill": {
     "duration": 0.194445,
     "end_time": "2020-08-24T10:54:43.812189",
     "exception": false,
     "start_time": "2020-08-24T10:54:43.617744",
     "status": "completed"
    },
    "tags": []
   },
   "outputs": [
    {
     "data": {
      "text/plain": [
       "array([36, 60])"
      ]
     },
     "execution_count": 58,
     "metadata": {},
     "output_type": "execute_result"
    }
   ],
   "source": [
    "# Converting ' 36 months' to 36, ' 60 months' to 60\n",
    "df1['term'] = df1['term'].map({' 36 months':36, ' 60 months':60})\n",
    "df1['term'].unique()"
   ]
  },
  {
   "cell_type": "markdown",
   "execution_count": null,
   "metadata": {
    "id": "keFhzX_tLnoY",
    "papermill": {
     "duration": 0.048828,
     "end_time": "2020-08-24T10:54:43.909611",
     "exception": false,
     "start_time": "2020-08-24T10:54:43.860783",
     "status": "completed"
    },
    "tags": []
   },
   "source": [
    "**grade** and **sub_grade**"
   ]
  },
  {
   "cell_type": "code",
   "execution_count": 59,
   "metadata": {
    "execution": {
     "iopub.execute_input": "2020-08-24T10:54:44.045863Z",
     "iopub.status.busy": "2020-08-24T10:54:44.044724Z",
     "iopub.status.idle": "2020-08-24T10:54:44.090824Z",
     "shell.execute_reply": "2020-08-24T10:54:44.091951Z"
    },
    "id": "OWkYJhpELzEV",
    "outputId": "852dd66b-6d80-4451-ed80-89158bfdbd03",
    "papermill": {
     "duration": 0.133579,
     "end_time": "2020-08-24T10:54:44.092220",
     "exception": false,
     "start_time": "2020-08-24T10:54:43.958641",
     "status": "completed"
    },
    "tags": []
   },
   "outputs": [
    {
     "name": "stdout",
     "output_type": "stream",
     "text": [
      "grade : LC assigned loan grade\n",
      "['B' 'A' 'C' 'E' 'D' 'F' 'G'] \n",
      "\n",
      "sub_grade : LC assigned loan subgrade\n",
      "['B4' 'B5' 'B3' 'A2' 'C5' 'C3' 'A1' 'B2' 'C1' 'A5' 'E4' 'A4' 'A3' 'D1'\n",
      " 'C2' 'B1' 'D3' 'D5' 'D2' 'E1' 'E2' 'E5' 'F4' 'E3' 'D4' 'G1' 'F5' 'G2'\n",
      " 'C4' 'F1' 'F3' 'G5' 'G4' 'F2' 'G3']\n"
     ]
    }
   ],
   "source": [
    "print(feature_info('grade'))\n",
    "print(df1['grade'].unique(),'\\n')\n",
    "print(feature_info('sub_grade'))\n",
    "print(df1['sub_grade'].unique())"
   ]
  },
  {
   "cell_type": "code",
   "execution_count": 60,
   "metadata": {
    "execution": {
     "iopub.execute_input": "2020-08-24T10:54:44.326794Z",
     "iopub.status.busy": "2020-08-24T10:54:44.324951Z",
     "iopub.status.idle": "2020-08-24T10:54:44.385241Z",
     "shell.execute_reply": "2020-08-24T10:54:44.384405Z"
    },
    "id": "LUv7XgFtMO-X",
    "papermill": {
     "duration": 0.243261,
     "end_time": "2020-08-24T10:54:44.385404",
     "exception": false,
     "start_time": "2020-08-24T10:54:44.142143",
     "status": "completed"
    },
    "tags": []
   },
   "outputs": [],
   "source": [
    "# As subgrade itself cointains grades,\n",
    "# dropping 'grade' feature\n",
    "df1.drop('grade', axis=1, inplace=True)"
   ]
  },
  {
   "cell_type": "markdown",
   "execution_count": null,
   "metadata": {
    "id": "3iDImRMVMfa4",
    "papermill": {
     "duration": 0.048263,
     "end_time": "2020-08-24T10:54:44.482276",
     "exception": false,
     "start_time": "2020-08-24T10:54:44.434013",
     "status": "completed"
    },
    "tags": []
   },
   "source": [
    "**home_ownership**"
   ]
  },
  {
   "cell_type": "code",
   "execution_count": 61,
   "metadata": {
    "execution": {
     "iopub.execute_input": "2020-08-24T10:54:44.616947Z",
     "iopub.status.busy": "2020-08-24T10:54:44.615907Z",
     "iopub.status.idle": "2020-08-24T10:54:44.741202Z",
     "shell.execute_reply": "2020-08-24T10:54:44.741785Z"
    },
    "id": "nSk319rHMhTk",
    "outputId": "47ccd645-7e83-4d3d-e739-90d78f6af7dc",
    "papermill": {
     "duration": 0.210962,
     "end_time": "2020-08-24T10:54:44.741970",
     "exception": false,
     "start_time": "2020-08-24T10:54:44.531008",
     "status": "completed"
    },
    "tags": []
   },
   "outputs": [
    {
     "name": "stdout",
     "output_type": "stream",
     "text": [
      "home_ownership : The home ownership status provided by the borrower during registration or obtained from the credit report. Our values are: RENT, OWN, MORTGAGE, OTHER \n",
      "\n",
      "Unique home_ownership : ['RENT' 'MORTGAGE' 'OWN' 'OTHER' 'NONE' 'ANY'] \n",
      "\n",
      "Value counts of home_ownership :\n",
      " MORTGAGE    198348\n",
      "RENT        159790\n",
      "OWN          37746\n",
      "OTHER          112\n",
      "NONE            31\n",
      "ANY              3\n",
      "Name: home_ownership, dtype: int64\n"
     ]
    }
   ],
   "source": [
    "print(feature_info('home_ownership'),'\\n')\n",
    "print('Unique home_ownership :',df1['home_ownership'].unique(),'\\n')\n",
    "print('Value counts of home_ownership :\\n',df1['home_ownership'].value_counts())"
   ]
  },
  {
   "cell_type": "code",
   "execution_count": 62,
   "metadata": {
    "execution": {
     "iopub.execute_input": "2020-08-24T10:54:44.887227Z",
     "iopub.status.busy": "2020-08-24T10:54:44.886014Z",
     "iopub.status.idle": "2020-08-24T10:54:45.047912Z",
     "shell.execute_reply": "2020-08-24T10:54:45.048865Z"
    },
    "id": "cKyXBdIBNENm",
    "outputId": "1b7a4e4d-3d3b-4211-b194-921e650fbcae",
    "papermill": {
     "duration": 0.258543,
     "end_time": "2020-08-24T10:54:45.049145",
     "exception": false,
     "start_time": "2020-08-24T10:54:44.790602",
     "status": "completed"
    },
    "tags": []
   },
   "outputs": [
    {
     "name": "stdout",
     "output_type": "stream",
     "text": [
      "Unique home_ownership : ['RENT' 'MORTGAGE' 'OWN' 'OTHER'] \n",
      "\n",
      "Value counts of home_ownership :\n",
      " MORTGAGE    198348\n",
      "RENT        159790\n",
      "OWN          37746\n",
      "OTHER          146\n",
      "Name: home_ownership, dtype: int64\n"
     ]
    }
   ],
   "source": [
    "# Merging \"NONE\" and \"ANY\" to 'OTHERS'\n",
    "df1['home_ownership'] = df1['home_ownership'].replace(['NONE','ANY'],'OTHER')\n",
    "print('Unique home_ownership :',df1['home_ownership'].unique(),'\\n')\n",
    "print('Value counts of home_ownership :\\n',df1['home_ownership'].value_counts())"
   ]
  },
  {
   "cell_type": "markdown",
   "execution_count": null,
   "metadata": {
    "id": "CefhBB62N6Dk",
    "papermill": {
     "duration": 0.048979,
     "end_time": "2020-08-24T10:54:45.148407",
     "exception": false,
     "start_time": "2020-08-24T10:54:45.099428",
     "status": "completed"
    },
    "tags": []
   },
   "source": [
    "**verification_status**"
   ]
  },
  {
   "cell_type": "code",
   "execution_count": 63,
   "metadata": {
    "execution": {
     "iopub.execute_input": "2020-08-24T10:54:45.284741Z",
     "iopub.status.busy": "2020-08-24T10:54:45.283671Z",
     "iopub.status.idle": "2020-08-24T10:54:45.409841Z",
     "shell.execute_reply": "2020-08-24T10:54:45.410450Z"
    },
    "id": "SMMS6rh9N9MH",
    "outputId": "b79d8b82-365e-48d9-92e6-d64cd7616d88",
    "papermill": {
     "duration": 0.212987,
     "end_time": "2020-08-24T10:54:45.410626",
     "exception": false,
     "start_time": "2020-08-24T10:54:45.197639",
     "status": "completed"
    },
    "tags": []
   },
   "outputs": [
    {
     "name": "stdout",
     "output_type": "stream",
     "text": [
      "verification_status : Indicates if income was verified by LC, not verified, or if the income source was verified \n",
      "\n",
      "Unique verification_status : ['Not Verified' 'Source Verified' 'Verified'] \n",
      "\n",
      "Value counts of verification_status :\n",
      " Verified           139563\n",
      "Source Verified    131385\n",
      "Not Verified       125082\n",
      "Name: verification_status, dtype: int64\n"
     ]
    }
   ],
   "source": [
    "print(feature_info('verification_status'),'\\n')\n",
    "print('Unique verification_status :',df1['verification_status'].unique(),'\\n')\n",
    "print('Value counts of verification_status :\\n',df1['verification_status'].value_counts())"
   ]
  },
  {
   "cell_type": "code",
   "execution_count": 64,
   "metadata": {
    "execution": {
     "iopub.execute_input": "2020-08-24T10:54:45.543979Z",
     "iopub.status.busy": "2020-08-24T10:54:45.526028Z",
     "iopub.status.idle": "2020-08-24T10:54:46.129073Z",
     "shell.execute_reply": "2020-08-24T10:54:46.128243Z"
    },
    "id": "jV-9xaJyOiAS",
    "outputId": "72c7e722-a462-49cd-8539-e8c8b81a72dd",
    "papermill": {
     "duration": 0.666384,
     "end_time": "2020-08-24T10:54:46.129212",
     "exception": false,
     "start_time": "2020-08-24T10:54:45.462828",
     "status": "completed"
    },
    "tags": []
   },
   "outputs": [
    {
     "data": {
      "text/plain": [
       "<matplotlib.axes._subplots.AxesSubplot at 0x7f93cca36ad0>"
      ]
     },
     "execution_count": 64,
     "metadata": {},
     "output_type": "execute_result"
    },
    {
     "data": {
      "image/png": "[encoded data removed]",
      "text/plain": [
       "<Figure size 864x576 with 1 Axes>"
      ]
     },
     "metadata": {},
     "output_type": "display_data"
    }
   ],
   "source": [
    "sns.countplot(df1['verification_status'], hue=df['loan_status'])"
   ]
  },
  {
   "cell_type": "markdown",
   "execution_count": null,
   "metadata": {
    "id": "FzYgkpA9QlUy",
    "papermill": {
     "duration": 0.049715,
     "end_time": "2020-08-24T10:54:46.229228",
     "exception": false,
     "start_time": "2020-08-24T10:54:46.179513",
     "status": "completed"
    },
    "tags": []
   },
   "source": [
    "**issue_d**"
   ]
  },
  {
   "cell_type": "code",
   "execution_count": 65,
   "metadata": {
    "execution": {
     "iopub.execute_input": "2020-08-24T10:54:46.402966Z",
     "iopub.status.busy": "2020-08-24T10:54:46.346804Z",
     "iopub.status.idle": "2020-08-24T10:54:46.408483Z",
     "shell.execute_reply": "2020-08-24T10:54:46.407445Z"
    },
    "id": "kisJxobPQtGP",
    "outputId": "2deb421b-12c1-4cd3-9388-17299e4e7683",
    "papermill": {
     "duration": 0.129234,
     "end_time": "2020-08-24T10:54:46.408671",
     "exception": false,
     "start_time": "2020-08-24T10:54:46.279437",
     "status": "completed"
    },
    "tags": []
   },
   "outputs": [
    {
     "name": "stdout",
     "output_type": "stream",
     "text": [
      "issue_d : The month which the loan was funded \n",
      "\n"
     ]
    }
   ],
   "source": [
    "# As we are predicting whether or not a loan would be issued when using our model\n",
    "# We wouldn't know beforehand whether or not a loan would be issued. \n",
    "# dropping this feature\n",
    "\n",
    "print(feature_info('issue_d'),'\\n')\n",
    "df1.drop('issue_d', axis=1, inplace=True)"
   ]
  },
  {
   "cell_type": "markdown",
   "execution_count": null,
   "metadata": {
    "id": "vy_9m_HURQz-",
    "papermill": {
     "duration": 0.066794,
     "end_time": "2020-08-24T10:54:46.531830",
     "exception": false,
     "start_time": "2020-08-24T10:54:46.465036",
     "status": "completed"
    },
    "tags": []
   },
   "source": [
    "**loan_status**"
   ]
  },
  {
   "cell_type": "code",
   "execution_count": 66,
   "metadata": {
    "execution": {
     "iopub.execute_input": "2020-08-24T10:54:46.687075Z",
     "iopub.status.busy": "2020-08-24T10:54:46.686033Z",
     "iopub.status.idle": "2020-08-24T10:54:46.810161Z",
     "shell.execute_reply": "2020-08-24T10:54:46.810792Z"
    },
    "id": "ANlnEKtrRXkx",
    "outputId": "63c295c5-d422-4af6-c099-3f38efd8444c",
    "papermill": {
     "duration": 0.211085,
     "end_time": "2020-08-24T10:54:46.810968",
     "exception": false,
     "start_time": "2020-08-24T10:54:46.599883",
     "status": "completed"
    },
    "tags": []
   },
   "outputs": [
    {
     "name": "stdout",
     "output_type": "stream",
     "text": [
      "loan_status : Current status of the loan \n",
      "\n",
      "Unique loan_status : ['Fully Paid' 'Charged Off'] \n",
      "\n",
      "Value counts of loan_status :\n",
      " Fully Paid     318357\n",
      "Charged Off     77673\n",
      "Name: loan_status, dtype: int64\n"
     ]
    }
   ],
   "source": [
    "# Target Feature\n",
    "\n",
    "print(feature_info('loan_status'),'\\n')\n",
    "print('Unique loan_status :',df1['loan_status'].unique(),'\\n')\n",
    "print('Value counts of loan_status :\\n',df1['loan_status'].value_counts())"
   ]
  },
  {
   "cell_type": "code",
   "execution_count": 67,
   "metadata": {
    "execution": {
     "iopub.execute_input": "2020-08-24T10:54:46.920186Z",
     "iopub.status.busy": "2020-08-24T10:54:46.918791Z",
     "iopub.status.idle": "2020-08-24T10:54:47.293660Z",
     "shell.execute_reply": "2020-08-24T10:54:47.294293Z"
    },
    "id": "hHyM97ZMRem1",
    "outputId": "7d1b1138-4c54-44b3-e538-5aa72458aa80",
    "papermill": {
     "duration": 0.433643,
     "end_time": "2020-08-24T10:54:47.294489",
     "exception": false,
     "start_time": "2020-08-24T10:54:46.860846",
     "status": "completed"
    },
    "tags": []
   },
   "outputs": [
    {
     "name": "stdout",
     "output_type": "stream",
     "text": [
      "Unique loan_repaid : [1 0] \n",
      "\n",
      "Value counts of loan_repaid :\n",
      " 1    318357\n",
      "0     77673\n",
      "Name: loan_repaid, dtype: int64\n"
     ]
    }
   ],
   "source": [
    "# New 'load_repaid' column with 1 if the loan status was \"Fully Paid\" and a 0 if it was \"Charged Off\".\n",
    "df1['loan_repaid'] = df1['loan_status'].apply(lambda x:1 if x=='Fully Paid' else 0)\n",
    "\n",
    "#Dropping the original loan_status column\n",
    "df1.drop(['loan_status'], axis=1, inplace=True)\n",
    "print('Unique loan_repaid :',df1['loan_repaid'].unique(),'\\n')\n",
    "print('Value counts of loan_repaid :\\n',df1['loan_repaid'].value_counts())"
   ]
  },
  {
   "cell_type": "code",
   "execution_count": 68,
   "metadata": {
    "execution": {
     "iopub.execute_input": "2020-08-24T10:54:47.403867Z",
     "iopub.status.busy": "2020-08-24T10:54:47.402922Z",
     "iopub.status.idle": "2020-08-24T10:54:47.922367Z",
     "shell.execute_reply": "2020-08-24T10:54:47.921558Z"
    },
    "id": "5msozHUDTpBy",
    "outputId": "c20368e9-1f30-4c30-8332-880cc6bcfc8c",
    "papermill": {
     "duration": 0.576441,
     "end_time": "2020-08-24T10:54:47.922515",
     "exception": false,
     "start_time": "2020-08-24T10:54:47.346074",
     "status": "completed"
    },
    "tags": []
   },
   "outputs": [
    {
     "data": {
      "text/plain": [
       "<matplotlib.axes._subplots.AxesSubplot at 0x7f93cca2be90>"
      ]
     },
     "execution_count": 68,
     "metadata": {},
     "output_type": "execute_result"
    },
    {
     "data": {
      "image/png": "[encoded data removed]",
      "text/plain": [
       "<Figure size 864x576 with 1 Axes>"
      ]
     },
     "metadata": {},
     "output_type": "display_data"
    }
   ],
   "source": [
    "# Correlation of the numeric features to the new loan_repaid column\n",
    "df1.corr()['loan_repaid'].sort_values()[:-1].plot.bar()"
   ]
  },
  {
   "cell_type": "markdown",
   "execution_count": null,
   "metadata": {
    "id": "4Lbuo9HwSyqM",
    "papermill": {
     "duration": 0.051511,
     "end_time": "2020-08-24T10:54:48.025829",
     "exception": false,
     "start_time": "2020-08-24T10:54:47.974318",
     "status": "completed"
    },
    "tags": []
   },
   "source": [
    "**purpose**"
   ]
  },
  {
   "cell_type": "code",
   "execution_count": 69,
   "metadata": {
    "execution": {
     "iopub.execute_input": "2020-08-24T10:54:48.165613Z",
     "iopub.status.busy": "2020-08-24T10:54:48.164573Z",
     "iopub.status.idle": "2020-08-24T10:54:48.297800Z",
     "shell.execute_reply": "2020-08-24T10:54:48.296936Z"
    },
    "id": "hdbDQmDCSx_-",
    "outputId": "a9986fed-fc58-4382-c8cf-d543c124f4fd",
    "papermill": {
     "duration": 0.220867,
     "end_time": "2020-08-24T10:54:48.297965",
     "exception": false,
     "start_time": "2020-08-24T10:54:48.077098",
     "status": "completed"
    },
    "tags": []
   },
   "outputs": [
    {
     "name": "stdout",
     "output_type": "stream",
     "text": [
      "purpose : A category provided by the borrower for the loan request.  \n",
      "\n",
      "Unique purpose : ['vacation' 'debt_consolidation' 'credit_card' 'home_improvement'\n",
      " 'small_business' 'major_purchase' 'other' 'medical' 'wedding' 'car'\n",
      " 'moving' 'house' 'educational' 'renewable_energy'] \n",
      "\n",
      "Value counts of purpose :\n",
      " debt_consolidation    234507\n",
      "credit_card            83019\n",
      "home_improvement       24030\n",
      "other                  21185\n",
      "major_purchase          8790\n",
      "small_business          5701\n",
      "car                     4697\n",
      "medical                 4196\n",
      "moving                  2854\n",
      "vacation                2452\n",
      "house                   2201\n",
      "wedding                 1812\n",
      "renewable_energy         329\n",
      "educational              257\n",
      "Name: purpose, dtype: int64\n"
     ]
    }
   ],
   "source": [
    "print(feature_info('purpose'),'\\n')\n",
    "print('Unique purpose :',df1['purpose'].unique(),'\\n')\n",
    "print('Value counts of purpose :\\n',df1['purpose'].value_counts())"
   ]
  },
  {
   "cell_type": "markdown",
   "execution_count": null,
   "metadata": {
    "id": "2GPRxyvrU_1F",
    "papermill": {
     "duration": 0.050139,
     "end_time": "2020-08-24T10:54:48.399006",
     "exception": false,
     "start_time": "2020-08-24T10:54:48.348867",
     "status": "completed"
    },
    "tags": []
   },
   "source": [
    "**earliest_cr_line**"
   ]
  },
  {
   "cell_type": "code",
   "execution_count": 70,
   "metadata": {
    "execution": {
     "iopub.execute_input": "2020-08-24T10:54:48.536692Z",
     "iopub.status.busy": "2020-08-24T10:54:48.514298Z",
     "iopub.status.idle": "2020-08-24T10:54:48.663834Z",
     "shell.execute_reply": "2020-08-24T10:54:48.662643Z"
    },
    "id": "Ji8h67PmU_1G",
    "outputId": "88bca2c2-2c4e-44c2-be42-e82e259f36cd",
    "papermill": {
     "duration": 0.214144,
     "end_time": "2020-08-24T10:54:48.664037",
     "exception": false,
     "start_time": "2020-08-24T10:54:48.449893",
     "status": "completed"
    },
    "tags": []
   },
   "outputs": [
    {
     "name": "stdout",
     "output_type": "stream",
     "text": [
      "earliest_cr_line : The month the borrower's earliest reported credit line was opened \n",
      "\n",
      "Unique earliest_cr_line count : 684 \n",
      "\n",
      "Value counts of earliest_cr_line :\n",
      " Oct-2000    3017\n",
      "Aug-2000    2935\n",
      "Oct-2001    2896\n",
      "Aug-2001    2884\n",
      "Nov-2000    2736\n",
      "            ... \n",
      "Aug-1962       1\n",
      "Dec-1950       1\n",
      "Nov-1961       1\n",
      "Oct-1961       1\n",
      "Oct-1950       1\n",
      "Name: earliest_cr_line, Length: 684, dtype: int64\n"
     ]
    }
   ],
   "source": [
    "print(feature_info('earliest_cr_line'),'\\n')\n",
    "print('Unique earliest_cr_line count :',df1['earliest_cr_line'].nunique(),'\\n')\n",
    "print('Value counts of earliest_cr_line :\\n',df1['earliest_cr_line'].value_counts())"
   ]
  },
  {
   "cell_type": "code",
   "execution_count": 71,
   "metadata": {
    "execution": {
     "iopub.execute_input": "2020-08-24T10:54:48.773325Z",
     "iopub.status.busy": "2020-08-24T10:54:48.772516Z",
     "iopub.status.idle": "2020-08-24T10:54:49.243866Z",
     "shell.execute_reply": "2020-08-24T10:54:49.243111Z"
    },
    "id": "-v3Bo0acVWYq",
    "papermill": {
     "duration": 0.528848,
     "end_time": "2020-08-24T10:54:49.244032",
     "exception": false,
     "start_time": "2020-08-24T10:54:48.715184",
     "status": "completed"
    },
    "tags": []
   },
   "outputs": [],
   "source": [
    "# Extracting the year from the \"earliest_cr_line\" feature.\n",
    "# New numeric feature 'earliest_cr_year'\n",
    "# dropping the original earliest_cr_line feature.\n",
    "\n",
    "df1['earliest_cr_year'] = df1['earliest_cr_line'].apply(lambda date:int(date[-4:]))\n",
    "df1.drop('earliest_cr_line', axis=1, inplace=True)"
   ]
  },
  {
   "cell_type": "markdown",
   "execution_count": null,
   "metadata": {
    "id": "ymRlw4rbZAP0",
    "papermill": {
     "duration": 0.09376,
     "end_time": "2020-08-24T10:54:49.390018",
     "exception": false,
     "start_time": "2020-08-24T10:54:49.296258",
     "status": "completed"
    },
    "tags": []
   },
   "source": [
    "**initial_list_status**"
   ]
  },
  {
   "cell_type": "code",
   "execution_count": 72,
   "metadata": {
    "execution": {
     "iopub.execute_input": "2020-08-24T10:54:49.533572Z",
     "iopub.status.busy": "2020-08-24T10:54:49.532582Z",
     "iopub.status.idle": "2020-08-24T10:54:49.638451Z",
     "shell.execute_reply": "2020-08-24T10:54:49.637445Z"
    },
    "id": "hk41KYjrZELU",
    "outputId": "76909d13-48b1-45fb-ed37-f89850b5f6fc",
    "papermill": {
     "duration": 0.19578,
     "end_time": "2020-08-24T10:54:49.638615",
     "exception": false,
     "start_time": "2020-08-24T10:54:49.442835",
     "status": "completed"
    },
    "tags": []
   },
   "outputs": [
    {
     "name": "stdout",
     "output_type": "stream",
     "text": [
      "initial_list_status : The initial listing status of the loan. Possible values are – W, F \n",
      "\n",
      "Unique initial_list_status count : ['w' 'f'] \n",
      "\n",
      "Value counts of initial_list_status :\n",
      " f    238066\n",
      "w    157964\n",
      "Name: initial_list_status, dtype: int64\n"
     ]
    }
   ],
   "source": [
    "print(feature_info('initial_list_status'),'\\n')\n",
    "print('Unique initial_list_status count :',df1['initial_list_status'].unique(),'\\n')\n",
    "print('Value counts of initial_list_status :\\n',df1['initial_list_status'].value_counts())"
   ]
  },
  {
   "cell_type": "markdown",
   "execution_count": null,
   "metadata": {
    "id": "MGd611JkZafx",
    "papermill": {
     "duration": 0.051812,
     "end_time": "2020-08-24T10:54:49.743501",
     "exception": false,
     "start_time": "2020-08-24T10:54:49.691689",
     "status": "completed"
    },
    "tags": []
   },
   "source": [
    "**application_type**"
   ]
  },
  {
   "cell_type": "code",
   "execution_count": 73,
   "metadata": {
    "execution": {
     "iopub.execute_input": "2020-08-24T10:54:49.855666Z",
     "iopub.status.busy": "2020-08-24T10:54:49.854589Z",
     "iopub.status.idle": "2020-08-24T10:54:50.010984Z",
     "shell.execute_reply": "2020-08-24T10:54:50.011779Z"
    },
    "id": "yTfNI4-IZc6v",
    "outputId": "f1e75b94-9c13-47fd-8665-6a6bbb54faaf",
    "papermill": {
     "duration": 0.216515,
     "end_time": "2020-08-24T10:54:50.011980",
     "exception": false,
     "start_time": "2020-08-24T10:54:49.795465",
     "status": "completed"
    },
    "tags": []
   },
   "outputs": [
    {
     "name": "stdout",
     "output_type": "stream",
     "text": [
      "application_type : Indicates whether the loan is an individual application or a joint application with two co-borrowers \n",
      "\n",
      "Unique application_type count : ['INDIVIDUAL' 'JOINT' 'DIRECT_PAY'] \n",
      "\n",
      "Value counts of application_type :\n",
      " INDIVIDUAL    395319\n",
      "JOINT            425\n",
      "DIRECT_PAY       286\n",
      "Name: application_type, dtype: int64\n"
     ]
    }
   ],
   "source": [
    "print(feature_info('application_type'),'\\n')\n",
    "print('Unique application_type count :',df1['application_type'].unique(),'\\n')\n",
    "print('Value counts of application_type :\\n',df1['application_type'].value_counts())"
   ]
  },
  {
   "cell_type": "markdown",
   "execution_count": null,
   "metadata": {
    "id": "qwVMP9JPZ6qu",
    "papermill": {
     "duration": 0.056209,
     "end_time": "2020-08-24T10:54:50.120072",
     "exception": false,
     "start_time": "2020-08-24T10:54:50.063863",
     "status": "completed"
    },
    "tags": []
   },
   "source": [
    "**address**"
   ]
  },
  {
   "cell_type": "code",
   "execution_count": 74,
   "metadata": {
    "execution": {
     "iopub.execute_input": "2020-08-24T10:54:50.233795Z",
     "iopub.status.busy": "2020-08-24T10:54:50.232776Z",
     "iopub.status.idle": "2020-08-24T10:54:50.238699Z",
     "shell.execute_reply": "2020-08-24T10:54:50.238088Z"
    },
    "id": "TD5d-BVoQr9o",
    "outputId": "d8693d1a-3357-414b-a396-97dcc646b340",
    "papermill": {
     "duration": 0.066713,
     "end_time": "2020-08-24T10:54:50.238840",
     "exception": false,
     "start_time": "2020-08-24T10:54:50.172127",
     "status": "completed"
    },
    "tags": []
   },
   "outputs": [
    {
     "data": {
      "text/plain": [
       "0              0174 Michelle Gateway\\nMendozaberg, OK 22690\n",
       "1           1076 Carney Fort Apt. 347\\nLoganmouth, SD 05113\n",
       "2           87025 Mark Dale Apt. 269\\nNew Sabrina, WV 05113\n",
       "3                     823 Reid Ford\\nDelacruzside, MA 00813\n",
       "4                      679 Luna Roads\\nGreggshire, VA 11650\n",
       "                                ...                        \n",
       "396025       12951 Williams Crossing\\nJohnnyville, DC 30723\n",
       "396026    0114 Fowler Field Suite 028\\nRachelborough, LA...\n",
       "396027     953 Matthew Points Suite 414\\nReedfort, NY 70466\n",
       "396028    7843 Blake Freeway Apt. 229\\nNew Michael, FL 2...\n",
       "396029          787 Michelle Causeway\\nBriannaton, AR 48052\n",
       "Name: address, Length: 396030, dtype: object"
      ]
     },
     "execution_count": 74,
     "metadata": {},
     "output_type": "execute_result"
    }
   ],
   "source": [
    "df1['address']"
   ]
  },
  {
   "cell_type": "code",
   "execution_count": 75,
   "metadata": {
    "execution": {
     "iopub.execute_input": "2020-08-24T10:54:50.352705Z",
     "iopub.status.busy": "2020-08-24T10:54:50.351148Z",
     "iopub.status.idle": "2020-08-24T10:54:50.716805Z",
     "shell.execute_reply": "2020-08-24T10:54:50.716037Z"
    },
    "id": "EmBwzWt7aNBU",
    "papermill": {
     "duration": 0.426421,
     "end_time": "2020-08-24T10:54:50.716964",
     "exception": false,
     "start_time": "2020-08-24T10:54:50.290543",
     "status": "completed"
    },
    "tags": []
   },
   "outputs": [],
   "source": [
    "# Exctracting only zipcode from address into a new \"zip_code\" column\n",
    "\n",
    "df1['zip_code'] = df1['address'].apply(lambda x: x[-5:])\n",
    "df1.drop('address', axis=1, inplace=True)"
   ]
  },
  {
   "cell_type": "code",
   "execution_count": 76,
   "metadata": {
    "execution": {
     "iopub.execute_input": "2020-08-24T10:54:50.948238Z",
     "iopub.status.busy": "2020-08-24T10:54:50.945313Z",
     "iopub.status.idle": "2020-08-24T10:54:50.955654Z",
     "shell.execute_reply": "2020-08-24T10:54:50.954743Z"
    },
    "id": "GTi__rfBdN88",
    "outputId": "d4ef4d17-f893-467d-eb99-bfaedda1a1b7",
    "papermill": {
     "duration": 0.186554,
     "end_time": "2020-08-24T10:54:50.955858",
     "exception": false,
     "start_time": "2020-08-24T10:54:50.769304",
     "status": "completed"
    },
    "tags": []
   },
   "outputs": [
    {
     "name": "stdout",
     "output_type": "stream",
     "text": [
      "Value counts of zip_code :\n",
      " 70466    56985\n",
      "30723    56546\n",
      "22690    56527\n",
      "48052    55917\n",
      "00813    45824\n",
      "29597    45471\n",
      "05113    45402\n",
      "11650    11226\n",
      "93700    11151\n",
      "86630    10981\n",
      "Name: zip_code, dtype: int64\n"
     ]
    }
   ],
   "source": [
    "print('Value counts of zip_code :\\n',df1['zip_code'].value_counts())"
   ]
  },
  {
   "cell_type": "markdown",
   "execution_count": null,
   "metadata": {
    "id": "0W2uTuPoPAM8",
    "papermill": {
     "duration": 0.05177,
     "end_time": "2020-08-24T10:54:51.059980",
     "exception": false,
     "start_time": "2020-08-24T10:54:51.008210",
     "status": "completed"
    },
    "tags": []
   },
   "source": [
    "**installment**"
   ]
  },
  {
   "cell_type": "code",
   "execution_count": 77,
   "metadata": {
    "execution": {
     "iopub.execute_input": "2020-08-24T10:54:51.174491Z",
     "iopub.status.busy": "2020-08-24T10:54:51.172749Z",
     "iopub.status.idle": "2020-08-24T10:54:51.407620Z",
     "shell.execute_reply": "2020-08-24T10:54:51.406826Z"
    },
    "id": "GXFPrNo1PMdn",
    "outputId": "cad6b0da-c7db-4ba0-f861-6e5ac78e3940",
    "papermill": {
     "duration": 0.295749,
     "end_time": "2020-08-24T10:54:51.407757",
     "exception": false,
     "start_time": "2020-08-24T10:54:51.112008",
     "status": "completed"
    },
    "tags": []
   },
   "outputs": [
    {
     "data": {
      "text/plain": [
       "installment             1.000000\n",
       "loan_amnt               0.953929\n",
       "annual_inc              0.330381\n",
       "revol_bal               0.316455\n",
       "total_acc               0.202430\n",
       "mort_acc                0.196706\n",
       "open_acc                0.188973\n",
       "int_rate                0.162758\n",
       "term                    0.153378\n",
       "revol_util              0.123841\n",
       "dti                     0.015786\n",
       "loan_repaid            -0.041082\n",
       "pub_rec                -0.067892\n",
       "pub_rec_bankruptcies   -0.098344\n",
       "earliest_cr_year       -0.131848\n",
       "Name: installment, dtype: float64"
      ]
     },
     "execution_count": 77,
     "metadata": {},
     "output_type": "execute_result"
    }
   ],
   "source": [
    "df1.corr()['installment'].sort_values(ascending=False)"
   ]
  },
  {
   "cell_type": "code",
   "execution_count": 78,
   "metadata": {
    "execution": {
     "iopub.execute_input": "2020-08-24T10:54:51.533914Z",
     "iopub.status.busy": "2020-08-24T10:54:51.533030Z",
     "iopub.status.idle": "2020-08-24T10:54:51.570647Z",
     "shell.execute_reply": "2020-08-24T10:54:51.569940Z"
    },
    "id": "kXgNt8tIPbcf",
    "papermill": {
     "duration": 0.11098,
     "end_time": "2020-08-24T10:54:51.570794",
     "exception": false,
     "start_time": "2020-08-24T10:54:51.459814",
     "status": "completed"
    },
    "tags": []
   },
   "outputs": [],
   "source": [
    "# Dropping \"installment\" as it correlates above 90% with \"loan_amnt\"\n",
    "df1.drop('installment', axis=1, inplace=True)"
   ]
  },
  {
   "cell_type": "markdown",
   "execution_count": null,
   "metadata": {
    "id": "wHG-SjR7bbMF",
    "papermill": {
     "duration": 0.05189,
     "end_time": "2020-08-24T10:54:51.674742",
     "exception": false,
     "start_time": "2020-08-24T10:54:51.622852",
     "status": "completed"
    },
    "tags": []
   },
   "source": [
    "One hot encoding"
   ]
  },
  {
   "cell_type": "code",
   "execution_count": 79,
   "metadata": {
    "execution": {
     "iopub.execute_input": "2020-08-24T10:54:51.787892Z",
     "iopub.status.busy": "2020-08-24T10:54:51.786179Z",
     "iopub.status.idle": "2020-08-24T10:54:51.818315Z",
     "shell.execute_reply": "2020-08-24T10:54:51.817652Z"
    },
    "id": "Bv46i_iBcTHb",
    "papermill": {
     "duration": 0.090746,
     "end_time": "2020-08-24T10:54:51.818472",
     "exception": false,
     "start_time": "2020-08-24T10:54:51.727726",
     "status": "completed"
    },
    "tags": []
   },
   "outputs": [],
   "source": [
    "# df2 as copy of df1\n",
    "df2 = df1.copy()"
   ]
  },
  {
   "cell_type": "code",
   "execution_count": 80,
   "metadata": {
    "execution": {
     "iopub.execute_input": "2020-08-24T10:54:51.959803Z",
     "iopub.status.busy": "2020-08-24T10:54:51.936049Z",
     "iopub.status.idle": "2020-08-24T10:54:52.259480Z",
     "shell.execute_reply": "2020-08-24T10:54:52.258834Z"
    },
    "id": "fGidwmmtfzgw",
    "outputId": "379f5245-0a6a-44b3-be4e-15ad7f7e272c",
    "papermill": {
     "duration": 0.389028,
     "end_time": "2020-08-24T10:54:52.259635",
     "exception": false,
     "start_time": "2020-08-24T10:54:51.870607",
     "status": "completed"
    },
    "tags": []
   },
   "outputs": [
    {
     "data": {
      "text/html": [
       "<div>\n",
       "<style scoped>\n",
       "    .dataframe tbody tr th:only-of-type {\n",
       "        vertical-align: middle;\n",
       "    }\n",
       "\n",
       "    .dataframe tbody tr th {\n",
       "        vertical-align: top;\n",
       "    }\n",
       "\n",
       "    .dataframe thead th {\n",
       "        text-align: right;\n",
       "    }\n",
       "</style>\n",
       "<table border=\"1\" class=\"dataframe\">\n",
       "  <thead>\n",
       "    <tr style=\"text-align: right;\">\n",
       "      <th></th>\n",
       "      <th>loan_amnt</th>\n",
       "      <th>term</th>\n",
       "      <th>int_rate</th>\n",
       "      <th>sub_grade</th>\n",
       "      <th>home_ownership</th>\n",
       "      <th>annual_inc</th>\n",
       "      <th>verification_status</th>\n",
       "      <th>purpose</th>\n",
       "      <th>dti</th>\n",
       "      <th>open_acc</th>\n",
       "      <th>...</th>\n",
       "      <th>revol_bal</th>\n",
       "      <th>revol_util</th>\n",
       "      <th>total_acc</th>\n",
       "      <th>initial_list_status</th>\n",
       "      <th>application_type</th>\n",
       "      <th>mort_acc</th>\n",
       "      <th>pub_rec_bankruptcies</th>\n",
       "      <th>loan_repaid</th>\n",
       "      <th>earliest_cr_year</th>\n",
       "      <th>zip_code</th>\n",
       "    </tr>\n",
       "  </thead>\n",
       "  <tbody>\n",
       "    <tr>\n",
       "      <th>0</th>\n",
       "      <td>10000.0</td>\n",
       "      <td>36</td>\n",
       "      <td>11.44</td>\n",
       "      <td>B4</td>\n",
       "      <td>RENT</td>\n",
       "      <td>117000.0</td>\n",
       "      <td>Not Verified</td>\n",
       "      <td>vacation</td>\n",
       "      <td>26.24</td>\n",
       "      <td>16.0</td>\n",
       "      <td>...</td>\n",
       "      <td>36369.0</td>\n",
       "      <td>41.8</td>\n",
       "      <td>25.0</td>\n",
       "      <td>w</td>\n",
       "      <td>INDIVIDUAL</td>\n",
       "      <td>0.000000</td>\n",
       "      <td>0.0</td>\n",
       "      <td>1</td>\n",
       "      <td>1990</td>\n",
       "      <td>22690</td>\n",
       "    </tr>\n",
       "    <tr>\n",
       "      <th>1</th>\n",
       "      <td>8000.0</td>\n",
       "      <td>36</td>\n",
       "      <td>11.99</td>\n",
       "      <td>B5</td>\n",
       "      <td>MORTGAGE</td>\n",
       "      <td>65000.0</td>\n",
       "      <td>Not Verified</td>\n",
       "      <td>debt_consolidation</td>\n",
       "      <td>22.05</td>\n",
       "      <td>17.0</td>\n",
       "      <td>...</td>\n",
       "      <td>20131.0</td>\n",
       "      <td>53.3</td>\n",
       "      <td>27.0</td>\n",
       "      <td>f</td>\n",
       "      <td>INDIVIDUAL</td>\n",
       "      <td>3.000000</td>\n",
       "      <td>0.0</td>\n",
       "      <td>1</td>\n",
       "      <td>2004</td>\n",
       "      <td>05113</td>\n",
       "    </tr>\n",
       "    <tr>\n",
       "      <th>2</th>\n",
       "      <td>15600.0</td>\n",
       "      <td>36</td>\n",
       "      <td>10.49</td>\n",
       "      <td>B3</td>\n",
       "      <td>RENT</td>\n",
       "      <td>43057.0</td>\n",
       "      <td>Source Verified</td>\n",
       "      <td>credit_card</td>\n",
       "      <td>12.79</td>\n",
       "      <td>13.0</td>\n",
       "      <td>...</td>\n",
       "      <td>11987.0</td>\n",
       "      <td>92.2</td>\n",
       "      <td>26.0</td>\n",
       "      <td>f</td>\n",
       "      <td>INDIVIDUAL</td>\n",
       "      <td>0.000000</td>\n",
       "      <td>0.0</td>\n",
       "      <td>1</td>\n",
       "      <td>2007</td>\n",
       "      <td>05113</td>\n",
       "    </tr>\n",
       "    <tr>\n",
       "      <th>3</th>\n",
       "      <td>7200.0</td>\n",
       "      <td>36</td>\n",
       "      <td>6.49</td>\n",
       "      <td>A2</td>\n",
       "      <td>RENT</td>\n",
       "      <td>54000.0</td>\n",
       "      <td>Not Verified</td>\n",
       "      <td>credit_card</td>\n",
       "      <td>2.60</td>\n",
       "      <td>6.0</td>\n",
       "      <td>...</td>\n",
       "      <td>5472.0</td>\n",
       "      <td>21.5</td>\n",
       "      <td>13.0</td>\n",
       "      <td>f</td>\n",
       "      <td>INDIVIDUAL</td>\n",
       "      <td>0.000000</td>\n",
       "      <td>0.0</td>\n",
       "      <td>1</td>\n",
       "      <td>2006</td>\n",
       "      <td>00813</td>\n",
       "    </tr>\n",
       "    <tr>\n",
       "      <th>4</th>\n",
       "      <td>24375.0</td>\n",
       "      <td>60</td>\n",
       "      <td>17.27</td>\n",
       "      <td>C5</td>\n",
       "      <td>MORTGAGE</td>\n",
       "      <td>55000.0</td>\n",
       "      <td>Verified</td>\n",
       "      <td>credit_card</td>\n",
       "      <td>33.95</td>\n",
       "      <td>13.0</td>\n",
       "      <td>...</td>\n",
       "      <td>24584.0</td>\n",
       "      <td>69.8</td>\n",
       "      <td>43.0</td>\n",
       "      <td>f</td>\n",
       "      <td>INDIVIDUAL</td>\n",
       "      <td>1.000000</td>\n",
       "      <td>0.0</td>\n",
       "      <td>0</td>\n",
       "      <td>1999</td>\n",
       "      <td>11650</td>\n",
       "    </tr>\n",
       "    <tr>\n",
       "      <th>...</th>\n",
       "      <td>...</td>\n",
       "      <td>...</td>\n",
       "      <td>...</td>\n",
       "      <td>...</td>\n",
       "      <td>...</td>\n",
       "      <td>...</td>\n",
       "      <td>...</td>\n",
       "      <td>...</td>\n",
       "      <td>...</td>\n",
       "      <td>...</td>\n",
       "      <td>...</td>\n",
       "      <td>...</td>\n",
       "      <td>...</td>\n",
       "      <td>...</td>\n",
       "      <td>...</td>\n",
       "      <td>...</td>\n",
       "      <td>...</td>\n",
       "      <td>...</td>\n",
       "      <td>...</td>\n",
       "      <td>...</td>\n",
       "      <td>...</td>\n",
       "    </tr>\n",
       "    <tr>\n",
       "      <th>396025</th>\n",
       "      <td>10000.0</td>\n",
       "      <td>60</td>\n",
       "      <td>10.99</td>\n",
       "      <td>B4</td>\n",
       "      <td>RENT</td>\n",
       "      <td>40000.0</td>\n",
       "      <td>Source Verified</td>\n",
       "      <td>debt_consolidation</td>\n",
       "      <td>15.63</td>\n",
       "      <td>6.0</td>\n",
       "      <td>...</td>\n",
       "      <td>1990.0</td>\n",
       "      <td>34.3</td>\n",
       "      <td>23.0</td>\n",
       "      <td>w</td>\n",
       "      <td>INDIVIDUAL</td>\n",
       "      <td>0.000000</td>\n",
       "      <td>0.0</td>\n",
       "      <td>1</td>\n",
       "      <td>2004</td>\n",
       "      <td>30723</td>\n",
       "    </tr>\n",
       "    <tr>\n",
       "      <th>396026</th>\n",
       "      <td>21000.0</td>\n",
       "      <td>36</td>\n",
       "      <td>12.29</td>\n",
       "      <td>C1</td>\n",
       "      <td>MORTGAGE</td>\n",
       "      <td>110000.0</td>\n",
       "      <td>Source Verified</td>\n",
       "      <td>debt_consolidation</td>\n",
       "      <td>21.45</td>\n",
       "      <td>6.0</td>\n",
       "      <td>...</td>\n",
       "      <td>43263.0</td>\n",
       "      <td>95.7</td>\n",
       "      <td>8.0</td>\n",
       "      <td>f</td>\n",
       "      <td>INDIVIDUAL</td>\n",
       "      <td>1.000000</td>\n",
       "      <td>0.0</td>\n",
       "      <td>1</td>\n",
       "      <td>2006</td>\n",
       "      <td>05113</td>\n",
       "    </tr>\n",
       "    <tr>\n",
       "      <th>396027</th>\n",
       "      <td>5000.0</td>\n",
       "      <td>36</td>\n",
       "      <td>9.99</td>\n",
       "      <td>B1</td>\n",
       "      <td>RENT</td>\n",
       "      <td>56500.0</td>\n",
       "      <td>Verified</td>\n",
       "      <td>debt_consolidation</td>\n",
       "      <td>17.56</td>\n",
       "      <td>15.0</td>\n",
       "      <td>...</td>\n",
       "      <td>32704.0</td>\n",
       "      <td>66.9</td>\n",
       "      <td>23.0</td>\n",
       "      <td>f</td>\n",
       "      <td>INDIVIDUAL</td>\n",
       "      <td>0.000000</td>\n",
       "      <td>0.0</td>\n",
       "      <td>1</td>\n",
       "      <td>1997</td>\n",
       "      <td>70466</td>\n",
       "    </tr>\n",
       "    <tr>\n",
       "      <th>396028</th>\n",
       "      <td>21000.0</td>\n",
       "      <td>60</td>\n",
       "      <td>15.31</td>\n",
       "      <td>C2</td>\n",
       "      <td>MORTGAGE</td>\n",
       "      <td>64000.0</td>\n",
       "      <td>Verified</td>\n",
       "      <td>debt_consolidation</td>\n",
       "      <td>15.88</td>\n",
       "      <td>9.0</td>\n",
       "      <td>...</td>\n",
       "      <td>15704.0</td>\n",
       "      <td>53.8</td>\n",
       "      <td>20.0</td>\n",
       "      <td>f</td>\n",
       "      <td>INDIVIDUAL</td>\n",
       "      <td>5.000000</td>\n",
       "      <td>0.0</td>\n",
       "      <td>1</td>\n",
       "      <td>1990</td>\n",
       "      <td>29597</td>\n",
       "    </tr>\n",
       "    <tr>\n",
       "      <th>396029</th>\n",
       "      <td>2000.0</td>\n",
       "      <td>36</td>\n",
       "      <td>13.61</td>\n",
       "      <td>C2</td>\n",
       "      <td>RENT</td>\n",
       "      <td>42996.0</td>\n",
       "      <td>Verified</td>\n",
       "      <td>debt_consolidation</td>\n",
       "      <td>8.32</td>\n",
       "      <td>3.0</td>\n",
       "      <td>...</td>\n",
       "      <td>4292.0</td>\n",
       "      <td>91.3</td>\n",
       "      <td>19.0</td>\n",
       "      <td>f</td>\n",
       "      <td>INDIVIDUAL</td>\n",
       "      <td>1.358013</td>\n",
       "      <td>0.0</td>\n",
       "      <td>1</td>\n",
       "      <td>1998</td>\n",
       "      <td>48052</td>\n",
       "    </tr>\n",
       "  </tbody>\n",
       "</table>\n",
       "<p>396030 rows × 21 columns</p>\n",
       "</div>"
      ],
      "text/plain": [
       "        loan_amnt  term  int_rate sub_grade home_ownership  annual_inc  \\\n",
       "0         10000.0    36     11.44        B4           RENT    117000.0   \n",
       "1          8000.0    36     11.99        B5       MORTGAGE     65000.0   \n",
       "2         15600.0    36     10.49        B3           RENT     43057.0   \n",
       "3          7200.0    36      6.49        A2           RENT     54000.0   \n",
       "4         24375.0    60     17.27        C5       MORTGAGE     55000.0   \n",
       "...           ...   ...       ...       ...            ...         ...   \n",
       "396025    10000.0    60     10.99        B4           RENT     40000.0   \n",
       "396026    21000.0    36     12.29        C1       MORTGAGE    110000.0   \n",
       "396027     5000.0    36      9.99        B1           RENT     56500.0   \n",
       "396028    21000.0    60     15.31        C2       MORTGAGE     64000.0   \n",
       "396029     2000.0    36     13.61        C2           RENT     42996.0   \n",
       "\n",
       "       verification_status             purpose    dti  open_acc  ...  \\\n",
       "0             Not Verified            vacation  26.24      16.0  ...   \n",
       "1             Not Verified  debt_consolidation  22.05      17.0  ...   \n",
       "2          Source Verified         credit_card  12.79      13.0  ...   \n",
       "3             Not Verified         credit_card   2.60       6.0  ...   \n",
       "4                 Verified         credit_card  33.95      13.0  ...   \n",
       "...                    ...                 ...    ...       ...  ...   \n",
       "396025     Source Verified  debt_consolidation  15.63       6.0  ...   \n",
       "396026     Source Verified  debt_consolidation  21.45       6.0  ...   \n",
       "396027            Verified  debt_consolidation  17.56      15.0  ...   \n",
       "396028            Verified  debt_consolidation  15.88       9.0  ...   \n",
       "396029            Verified  debt_consolidation   8.32       3.0  ...   \n",
       "\n",
       "        revol_bal  revol_util  total_acc  initial_list_status  \\\n",
       "0         36369.0        41.8       25.0                    w   \n",
       "1         20131.0        53.3       27.0                    f   \n",
       "2         11987.0        92.2       26.0                    f   \n",
       "3          5472.0        21.5       13.0                    f   \n",
       "4         24584.0        69.8       43.0                    f   \n",
       "...           ...         ...        ...                  ...   \n",
       "396025     1990.0        34.3       23.0                    w   \n",
       "396026    43263.0        95.7        8.0                    f   \n",
       "396027    32704.0        66.9       23.0                    f   \n",
       "396028    15704.0        53.8       20.0                    f   \n",
       "396029     4292.0        91.3       19.0                    f   \n",
       "\n",
       "       application_type  mort_acc  pub_rec_bankruptcies  loan_repaid  \\\n",
       "0            INDIVIDUAL  0.000000                   0.0            1   \n",
       "1            INDIVIDUAL  3.000000                   0.0            1   \n",
       "2            INDIVIDUAL  0.000000                   0.0            1   \n",
       "3            INDIVIDUAL  0.000000                   0.0            1   \n",
       "4            INDIVIDUAL  1.000000                   0.0            0   \n",
       "...                 ...       ...                   ...          ...   \n",
       "396025       INDIVIDUAL  0.000000                   0.0            1   \n",
       "396026       INDIVIDUAL  1.000000                   0.0            1   \n",
       "396027       INDIVIDUAL  0.000000                   0.0            1   \n",
       "396028       INDIVIDUAL  5.000000                   0.0            1   \n",
       "396029       INDIVIDUAL  1.358013                   0.0            1   \n",
       "\n",
       "        earliest_cr_year  zip_code  \n",
       "0                   1990     22690  \n",
       "1                   2004     05113  \n",
       "2                   2007     05113  \n",
       "3                   2006     00813  \n",
       "4                   1999     11650  \n",
       "...                  ...       ...  \n",
       "396025              2004     30723  \n",
       "396026              2006     05113  \n",
       "396027              1997     70466  \n",
       "396028              1990     29597  \n",
       "396029              1998     48052  \n",
       "\n",
       "[396030 rows x 21 columns]"
      ]
     },
     "execution_count": 80,
     "metadata": {},
     "output_type": "execute_result"
    }
   ],
   "source": [
    "df2"
   ]
  },
  {
   "cell_type": "code",
   "execution_count": 81,
   "metadata": {
    "execution": {
     "iopub.execute_input": "2020-08-24T10:54:52.416547Z",
     "iopub.status.busy": "2020-08-24T10:54:52.415314Z",
     "iopub.status.idle": "2020-08-24T10:54:52.419423Z",
     "shell.execute_reply": "2020-08-24T10:54:52.420308Z"
    },
    "id": "0TnbH5VbbQbn",
    "outputId": "9e44e0ab-6d50-4b06-9c13-fd82ce127d18",
    "papermill": {
     "duration": 0.107666,
     "end_time": "2020-08-24T10:54:52.420505",
     "exception": false,
     "start_time": "2020-08-24T10:54:52.312839",
     "status": "completed"
    },
    "tags": []
   },
   "outputs": [
    {
     "name": "stdout",
     "output_type": "stream",
     "text": [
      "['sub_grade' 'home_ownership' 'verification_status' 'purpose'\n",
      " 'initial_list_status' 'application_type' 'zip_code']\n"
     ]
    }
   ],
   "source": [
    "# Take all categorical column of df2 in cat_cols2\n",
    "cat_cols2 = df2.select_dtypes(exclude=[np.number]).columns.values\n",
    "print(cat_cols2)"
   ]
  },
  {
   "cell_type": "code",
   "execution_count": 82,
   "metadata": {
    "execution": {
     "iopub.execute_input": "2020-08-24T10:54:52.538062Z",
     "iopub.status.busy": "2020-08-24T10:54:52.536203Z",
     "iopub.status.idle": "2020-08-24T10:54:53.024381Z",
     "shell.execute_reply": "2020-08-24T10:54:53.023542Z"
    },
    "id": "G6oCKUjGbau3",
    "papermill": {
     "duration": 0.550243,
     "end_time": "2020-08-24T10:54:53.024531",
     "exception": false,
     "start_time": "2020-08-24T10:54:52.474288",
     "status": "completed"
    },
    "tags": []
   },
   "outputs": [],
   "source": [
    "# Get dummies for categorical columns\n",
    "dummies = pd.get_dummies(df1[cat_cols2], drop_first=True)\n",
    "\n",
    "# Drop actual categorical columns\n",
    "df2 = df2.drop(cat_cols2,axis=1)\n",
    "\n",
    "# Concatenate dummy columns with df2\n",
    "df2 = pd.concat([df2,dummies],axis=1)"
   ]
  },
  {
   "cell_type": "code",
   "execution_count": 83,
   "metadata": {
    "execution": {
     "iopub.execute_input": "2020-08-24T10:54:53.163042Z",
     "iopub.status.busy": "2020-08-24T10:54:53.148028Z",
     "iopub.status.idle": "2020-08-24T10:54:53.168940Z",
     "shell.execute_reply": "2020-08-24T10:54:53.168135Z"
    },
    "id": "GLdAxDuUc--a",
    "outputId": "6cda1b08-985f-4668-fcbf-a06b4470428f",
    "papermill": {
     "duration": 0.090416,
     "end_time": "2020-08-24T10:54:53.169072",
     "exception": false,
     "start_time": "2020-08-24T10:54:53.078656",
     "status": "completed"
    },
    "tags": []
   },
   "outputs": [
    {
     "data": {
      "text/html": [
       "<div>\n",
       "<style scoped>\n",
       "    .dataframe tbody tr th:only-of-type {\n",
       "        vertical-align: middle;\n",
       "    }\n",
       "\n",
       "    .dataframe tbody tr th {\n",
       "        vertical-align: top;\n",
       "    }\n",
       "\n",
       "    .dataframe thead th {\n",
       "        text-align: right;\n",
       "    }\n",
       "</style>\n",
       "<table border=\"1\" class=\"dataframe\">\n",
       "  <thead>\n",
       "    <tr style=\"text-align: right;\">\n",
       "      <th></th>\n",
       "      <th>loan_amnt</th>\n",
       "      <th>term</th>\n",
       "      <th>int_rate</th>\n",
       "      <th>annual_inc</th>\n",
       "      <th>dti</th>\n",
       "      <th>open_acc</th>\n",
       "      <th>pub_rec</th>\n",
       "      <th>revol_bal</th>\n",
       "      <th>revol_util</th>\n",
       "      <th>total_acc</th>\n",
       "      <th>...</th>\n",
       "      <th>application_type_JOINT</th>\n",
       "      <th>zip_code_05113</th>\n",
       "      <th>zip_code_11650</th>\n",
       "      <th>zip_code_22690</th>\n",
       "      <th>zip_code_29597</th>\n",
       "      <th>zip_code_30723</th>\n",
       "      <th>zip_code_48052</th>\n",
       "      <th>zip_code_70466</th>\n",
       "      <th>zip_code_86630</th>\n",
       "      <th>zip_code_93700</th>\n",
       "    </tr>\n",
       "  </thead>\n",
       "  <tbody>\n",
       "    <tr>\n",
       "      <th>0</th>\n",
       "      <td>10000.0</td>\n",
       "      <td>36</td>\n",
       "      <td>11.44</td>\n",
       "      <td>117000.0</td>\n",
       "      <td>26.24</td>\n",
       "      <td>16.0</td>\n",
       "      <td>0.0</td>\n",
       "      <td>36369.0</td>\n",
       "      <td>41.8</td>\n",
       "      <td>25.0</td>\n",
       "      <td>...</td>\n",
       "      <td>0</td>\n",
       "      <td>0</td>\n",
       "      <td>0</td>\n",
       "      <td>1</td>\n",
       "      <td>0</td>\n",
       "      <td>0</td>\n",
       "      <td>0</td>\n",
       "      <td>0</td>\n",
       "      <td>0</td>\n",
       "      <td>0</td>\n",
       "    </tr>\n",
       "    <tr>\n",
       "      <th>1</th>\n",
       "      <td>8000.0</td>\n",
       "      <td>36</td>\n",
       "      <td>11.99</td>\n",
       "      <td>65000.0</td>\n",
       "      <td>22.05</td>\n",
       "      <td>17.0</td>\n",
       "      <td>0.0</td>\n",
       "      <td>20131.0</td>\n",
       "      <td>53.3</td>\n",
       "      <td>27.0</td>\n",
       "      <td>...</td>\n",
       "      <td>0</td>\n",
       "      <td>1</td>\n",
       "      <td>0</td>\n",
       "      <td>0</td>\n",
       "      <td>0</td>\n",
       "      <td>0</td>\n",
       "      <td>0</td>\n",
       "      <td>0</td>\n",
       "      <td>0</td>\n",
       "      <td>0</td>\n",
       "    </tr>\n",
       "    <tr>\n",
       "      <th>2</th>\n",
       "      <td>15600.0</td>\n",
       "      <td>36</td>\n",
       "      <td>10.49</td>\n",
       "      <td>43057.0</td>\n",
       "      <td>12.79</td>\n",
       "      <td>13.0</td>\n",
       "      <td>0.0</td>\n",
       "      <td>11987.0</td>\n",
       "      <td>92.2</td>\n",
       "      <td>26.0</td>\n",
       "      <td>...</td>\n",
       "      <td>0</td>\n",
       "      <td>1</td>\n",
       "      <td>0</td>\n",
       "      <td>0</td>\n",
       "      <td>0</td>\n",
       "      <td>0</td>\n",
       "      <td>0</td>\n",
       "      <td>0</td>\n",
       "      <td>0</td>\n",
       "      <td>0</td>\n",
       "    </tr>\n",
       "    <tr>\n",
       "      <th>3</th>\n",
       "      <td>7200.0</td>\n",
       "      <td>36</td>\n",
       "      <td>6.49</td>\n",
       "      <td>54000.0</td>\n",
       "      <td>2.60</td>\n",
       "      <td>6.0</td>\n",
       "      <td>0.0</td>\n",
       "      <td>5472.0</td>\n",
       "      <td>21.5</td>\n",
       "      <td>13.0</td>\n",
       "      <td>...</td>\n",
       "      <td>0</td>\n",
       "      <td>0</td>\n",
       "      <td>0</td>\n",
       "      <td>0</td>\n",
       "      <td>0</td>\n",
       "      <td>0</td>\n",
       "      <td>0</td>\n",
       "      <td>0</td>\n",
       "      <td>0</td>\n",
       "      <td>0</td>\n",
       "    </tr>\n",
       "    <tr>\n",
       "      <th>4</th>\n",
       "      <td>24375.0</td>\n",
       "      <td>60</td>\n",
       "      <td>17.27</td>\n",
       "      <td>55000.0</td>\n",
       "      <td>33.95</td>\n",
       "      <td>13.0</td>\n",
       "      <td>0.0</td>\n",
       "      <td>24584.0</td>\n",
       "      <td>69.8</td>\n",
       "      <td>43.0</td>\n",
       "      <td>...</td>\n",
       "      <td>0</td>\n",
       "      <td>0</td>\n",
       "      <td>1</td>\n",
       "      <td>0</td>\n",
       "      <td>0</td>\n",
       "      <td>0</td>\n",
       "      <td>0</td>\n",
       "      <td>0</td>\n",
       "      <td>0</td>\n",
       "      <td>0</td>\n",
       "    </tr>\n",
       "  </tbody>\n",
       "</table>\n",
       "<p>5 rows × 78 columns</p>\n",
       "</div>"
      ],
      "text/plain": [
       "   loan_amnt  term  int_rate  annual_inc    dti  open_acc  pub_rec  revol_bal  \\\n",
       "0    10000.0    36     11.44    117000.0  26.24      16.0      0.0    36369.0   \n",
       "1     8000.0    36     11.99     65000.0  22.05      17.0      0.0    20131.0   \n",
       "2    15600.0    36     10.49     43057.0  12.79      13.0      0.0    11987.0   \n",
       "3     7200.0    36      6.49     54000.0   2.60       6.0      0.0     5472.0   \n",
       "4    24375.0    60     17.27     55000.0  33.95      13.0      0.0    24584.0   \n",
       "\n",
       "   revol_util  total_acc  ...  application_type_JOINT  zip_code_05113  \\\n",
       "0        41.8       25.0  ...                       0               0   \n",
       "1        53.3       27.0  ...                       0               1   \n",
       "2        92.2       26.0  ...                       0               1   \n",
       "3        21.5       13.0  ...                       0               0   \n",
       "4        69.8       43.0  ...                       0               0   \n",
       "\n",
       "   zip_code_11650  zip_code_22690  zip_code_29597  zip_code_30723  \\\n",
       "0               0               1               0               0   \n",
       "1               0               0               0               0   \n",
       "2               0               0               0               0   \n",
       "3               0               0               0               0   \n",
       "4               1               0               0               0   \n",
       "\n",
       "   zip_code_48052  zip_code_70466  zip_code_86630  zip_code_93700  \n",
       "0               0               0               0               0  \n",
       "1               0               0               0               0  \n",
       "2               0               0               0               0  \n",
       "3               0               0               0               0  \n",
       "4               0               0               0               0  \n",
       "\n",
       "[5 rows x 78 columns]"
      ]
     },
     "execution_count": 83,
     "metadata": {},
     "output_type": "execute_result"
    }
   ],
   "source": [
    "df2.head()"
   ]
  },
  {
   "cell_type": "code",
   "execution_count": 84,
   "metadata": {
    "execution": {
     "iopub.execute_input": "2020-08-24T10:54:53.285388Z",
     "iopub.status.busy": "2020-08-24T10:54:53.284184Z",
     "iopub.status.idle": "2020-08-24T10:54:53.288274Z",
     "shell.execute_reply": "2020-08-24T10:54:53.289161Z"
    },
    "id": "eTkOwcYJduDq",
    "outputId": "bebd42eb-bd98-4020-d87a-0ad99f5e2aff",
    "papermill": {
     "duration": 0.066804,
     "end_time": "2020-08-24T10:54:53.289426",
     "exception": false,
     "start_time": "2020-08-24T10:54:53.222622",
     "status": "completed"
    },
    "tags": []
   },
   "outputs": [
    {
     "name": "stdout",
     "output_type": "stream",
     "text": [
      "Total rows :  396030\n",
      "Total columns :  78\n",
      "columns : \n",
      " ['loan_amnt' 'term' 'int_rate' 'annual_inc' 'dti' 'open_acc' 'pub_rec'\n",
      " 'revol_bal' 'revol_util' 'total_acc' 'mort_acc' 'pub_rec_bankruptcies'\n",
      " 'loan_repaid' 'earliest_cr_year' 'sub_grade_A2' 'sub_grade_A3'\n",
      " 'sub_grade_A4' 'sub_grade_A5' 'sub_grade_B1' 'sub_grade_B2'\n",
      " 'sub_grade_B3' 'sub_grade_B4' 'sub_grade_B5' 'sub_grade_C1'\n",
      " 'sub_grade_C2' 'sub_grade_C3' 'sub_grade_C4' 'sub_grade_C5'\n",
      " 'sub_grade_D1' 'sub_grade_D2' 'sub_grade_D3' 'sub_grade_D4'\n",
      " 'sub_grade_D5' 'sub_grade_E1' 'sub_grade_E2' 'sub_grade_E3'\n",
      " 'sub_grade_E4' 'sub_grade_E5' 'sub_grade_F1' 'sub_grade_F2'\n",
      " 'sub_grade_F3' 'sub_grade_F4' 'sub_grade_F5' 'sub_grade_G1'\n",
      " 'sub_grade_G2' 'sub_grade_G3' 'sub_grade_G4' 'sub_grade_G5'\n",
      " 'home_ownership_OTHER' 'home_ownership_OWN' 'home_ownership_RENT'\n",
      " 'verification_status_Source Verified' 'verification_status_Verified'\n",
      " 'purpose_credit_card' 'purpose_debt_consolidation' 'purpose_educational'\n",
      " 'purpose_home_improvement' 'purpose_house' 'purpose_major_purchase'\n",
      " 'purpose_medical' 'purpose_moving' 'purpose_other'\n",
      " 'purpose_renewable_energy' 'purpose_small_business' 'purpose_vacation'\n",
      " 'purpose_wedding' 'initial_list_status_w' 'application_type_INDIVIDUAL'\n",
      " 'application_type_JOINT' 'zip_code_05113' 'zip_code_11650'\n",
      " 'zip_code_22690' 'zip_code_29597' 'zip_code_30723' 'zip_code_48052'\n",
      " 'zip_code_70466' 'zip_code_86630' 'zip_code_93700']\n"
     ]
    }
   ],
   "source": [
    "print('Total rows : ', len(df2)) \n",
    "print('Total columns : ', len(df2.columns)) \n",
    "print('columns : \\n', df2.columns.values) "
   ]
  },
  {
   "cell_type": "markdown",
   "execution_count": null,
   "metadata": {
    "id": "mtPAqw36eJZU",
    "papermill": {
     "duration": 0.054753,
     "end_time": "2020-08-24T10:54:53.401957",
     "exception": false,
     "start_time": "2020-08-24T10:54:53.347204",
     "status": "completed"
    },
    "tags": []
   },
   "source": [
    "### Data Tranformation\n",
    "\n",
    "- Train Test Split\n",
    "- Normalization\n"
   ]
  },
  {
   "cell_type": "markdown",
   "execution_count": null,
   "metadata": {
    "id": "BTRgGqnOgXJO",
    "papermill": {
     "duration": 0.055666,
     "end_time": "2020-08-24T10:54:53.512974",
     "exception": false,
     "start_time": "2020-08-24T10:54:53.457308",
     "status": "completed"
    },
    "tags": []
   },
   "source": [
    "#### Train Test Split"
   ]
  },
  {
   "cell_type": "code",
   "execution_count": 85,
   "metadata": {
    "execution": {
     "iopub.execute_input": "2020-08-24T10:54:53.633390Z",
     "iopub.status.busy": "2020-08-24T10:54:53.631069Z",
     "iopub.status.idle": "2020-08-24T10:54:53.785121Z",
     "shell.execute_reply": "2020-08-24T10:54:53.784489Z"
    },
    "id": "0W0VflECehzS",
    "papermill": {
     "duration": 0.217932,
     "end_time": "2020-08-24T10:54:53.785288",
     "exception": false,
     "start_time": "2020-08-24T10:54:53.567356",
     "status": "completed"
    },
    "tags": []
   },
   "outputs": [],
   "source": [
    "# last row of df2 as new customer\n",
    "new_cust = df2.iloc[-1]\n",
    "\n",
    "# All rows excluding last data point\n",
    "X = df2.iloc[:-1].drop('loan_repaid', axis=1).values\n",
    "y = df2.iloc[:-1]['loan_repaid'].values"
   ]
  },
  {
   "cell_type": "code",
   "execution_count": 86,
   "metadata": {
    "execution": {
     "iopub.execute_input": "2020-08-24T10:54:53.901735Z",
     "iopub.status.busy": "2020-08-24T10:54:53.900916Z",
     "iopub.status.idle": "2020-08-24T10:54:54.389909Z",
     "shell.execute_reply": "2020-08-24T10:54:54.389172Z"
    },
    "id": "oki3EfEcgazg",
    "papermill": {
     "duration": 0.550038,
     "end_time": "2020-08-24T10:54:54.390049",
     "exception": false,
     "start_time": "2020-08-24T10:54:53.840011",
     "status": "completed"
    },
    "tags": []
   },
   "outputs": [],
   "source": [
    "X_train, X_test, y_train, y_test = train_test_split(X, y, test_size=0.25,random_state=22)"
   ]
  },
  {
   "cell_type": "code",
   "execution_count": 87,
   "metadata": {
    "execution": {
     "iopub.execute_input": "2020-08-24T10:54:54.578840Z",
     "iopub.status.busy": "2020-08-24T10:54:54.577859Z",
     "iopub.status.idle": "2020-08-24T10:54:54.582576Z",
     "shell.execute_reply": "2020-08-24T10:54:54.581471Z"
    },
    "id": "vSSDnz7jhihX",
    "outputId": "e4745a86-5c58-4e94-a4d3-ca7172dd9093",
    "papermill": {
     "duration": 0.137196,
     "end_time": "2020-08-24T10:54:54.582763",
     "exception": false,
     "start_time": "2020-08-24T10:54:54.445567",
     "status": "completed"
    },
    "tags": []
   },
   "outputs": [
    {
     "name": "stdout",
     "output_type": "stream",
     "text": [
      "X_train : (297021, 77) \n",
      "y_train : (297021,)\n"
     ]
    }
   ],
   "source": [
    "print('X_train : {} \\ny_train : {}'.format(X_train.shape,y_train.shape))"
   ]
  },
  {
   "cell_type": "code",
   "execution_count": 88,
   "metadata": {
    "execution": {
     "iopub.execute_input": "2020-08-24T10:54:54.697863Z",
     "iopub.status.busy": "2020-08-24T10:54:54.697096Z",
     "iopub.status.idle": "2020-08-24T10:54:54.701506Z",
     "shell.execute_reply": "2020-08-24T10:54:54.700689Z"
    },
    "id": "4cXACbGJh_TJ",
    "outputId": "088696b7-13df-4f1a-ab03-2087b60b22b6",
    "papermill": {
     "duration": 0.064047,
     "end_time": "2020-08-24T10:54:54.701681",
     "exception": false,
     "start_time": "2020-08-24T10:54:54.637634",
     "status": "completed"
    },
    "tags": []
   },
   "outputs": [
    {
     "name": "stdout",
     "output_type": "stream",
     "text": [
      "X_test : (99008, 77) \n",
      "y_test : (99008,)\n"
     ]
    }
   ],
   "source": [
    "print('X_test : {} \\ny_test : {}'.format(X_test.shape,y_test.shape))"
   ]
  },
  {
   "cell_type": "markdown",
   "execution_count": null,
   "metadata": {
    "id": "mnzQaLjcM3Ea",
    "papermill": {
     "duration": 0.054905,
     "end_time": "2020-08-24T10:54:54.811217",
     "exception": false,
     "start_time": "2020-08-24T10:54:54.756312",
     "status": "completed"
    },
    "tags": []
   },
   "source": [
    "#### Normalization"
   ]
  },
  {
   "cell_type": "code",
   "execution_count": 89,
   "metadata": {
    "execution": {
     "iopub.execute_input": "2020-08-24T10:54:54.926787Z",
     "iopub.status.busy": "2020-08-24T10:54:54.925967Z",
     "iopub.status.idle": "2020-08-24T10:54:54.929733Z",
     "shell.execute_reply": "2020-08-24T10:54:54.928947Z"
    },
    "id": "rs0M7Qqas6H4",
    "papermill": {
     "duration": 0.063873,
     "end_time": "2020-08-24T10:54:54.929882",
     "exception": false,
     "start_time": "2020-08-24T10:54:54.866009",
     "status": "completed"
    },
    "tags": []
   },
   "outputs": [],
   "source": [
    "# Using MinMaxScaler to convert values between min:0 and max:1\n",
    "scaler = MinMaxScaler()"
   ]
  },
  {
   "cell_type": "code",
   "execution_count": 90,
   "metadata": {
    "execution": {
     "iopub.execute_input": "2020-08-24T10:54:55.061646Z",
     "iopub.status.busy": "2020-08-24T10:54:55.060194Z",
     "iopub.status.idle": "2020-08-24T10:54:55.459128Z",
     "shell.execute_reply": "2020-08-24T10:54:55.458313Z"
    },
    "id": "pRPku-Ors6H6",
    "papermill": {
     "duration": 0.470439,
     "end_time": "2020-08-24T10:54:55.459283",
     "exception": false,
     "start_time": "2020-08-24T10:54:54.988844",
     "status": "completed"
    },
    "tags": []
   },
   "outputs": [],
   "source": [
    "X_train_sca = scaler.fit_transform(X_train)\n",
    "X_test_sca = scaler.transform(X_test)"
   ]
  },
  {
   "cell_type": "markdown",
   "execution_count": null,
   "metadata": {
    "id": "JyYgzr_MS7zC",
    "papermill": {
     "duration": 0.062592,
     "end_time": "2020-08-24T10:54:55.579578",
     "exception": false,
     "start_time": "2020-08-24T10:54:55.516986",
     "status": "completed"
    },
    "tags": []
   },
   "source": [
    "# **Modeling**\n",
    "---\n"
   ]
  },
  {
   "cell_type": "code",
   "execution_count": 91,
   "metadata": {
    "execution": {
     "iopub.execute_input": "2020-08-24T10:54:55.704201Z",
     "iopub.status.busy": "2020-08-24T10:54:55.703355Z",
     "iopub.status.idle": "2020-08-24T10:54:55.787354Z",
     "shell.execute_reply": "2020-08-24T10:54:55.787929Z"
    },
    "id": "7u-5REhrTarV",
    "papermill": {
     "duration": 0.152087,
     "end_time": "2020-08-24T10:54:55.788113",
     "exception": false,
     "start_time": "2020-08-24T10:54:55.636026",
     "status": "completed"
    },
    "tags": []
   },
   "outputs": [],
   "source": [
    "# Creating Model\n",
    "\n",
    "model = Sequential()\n",
    "# Input layer\n",
    "model.add(Dense(77, activation='relu', kernel_constraint=max_norm(3)))\n",
    "model.add(Dropout(0.3)) # Drop 30% of neurons randomly\n",
    "# Hidden layers\n",
    "model.add(Dense(38, activation='relu', kernel_constraint=max_norm(3)))\n",
    "model.add(Dropout(0.3))\n",
    "model.add(Dense(19, activation='relu', kernel_constraint=max_norm(3)))\n",
    "model.add(Dropout(0.3))\n",
    "# Output layer\n",
    "model.add(Dense(1, activation='sigmoid'))"
   ]
  },
  {
   "cell_type": "code",
   "execution_count": 92,
   "metadata": {
    "execution": {
     "iopub.execute_input": "2020-08-24T10:54:55.919234Z",
     "iopub.status.busy": "2020-08-24T10:54:55.918292Z",
     "iopub.status.idle": "2020-08-24T10:56:46.055348Z",
     "shell.execute_reply": "2020-08-24T10:56:46.054497Z"
    },
    "id": "dPUwm9hSUSVI",
    "outputId": "1a776fdd-455b-433f-d4df-a20df98e333d",
    "papermill": {
     "duration": 110.211364,
     "end_time": "2020-08-24T10:56:46.055498",
     "exception": false,
     "start_time": "2020-08-24T10:54:55.844134",
     "status": "completed"
    },
    "tags": []
   },
   "outputs": [
    {
     "name": "stdout",
     "output_type": "stream",
     "text": [
      "Epoch 1/100\n",
      "1161/1161 [==============================] - 4s 3ms/step - loss: 0.3117 - accuracy: 0.8744 - val_loss: 0.2629 - val_accuracy: 0.8890\n",
      "Epoch 2/100\n",
      "1161/1161 [==============================] - 4s 3ms/step - loss: 0.2695 - accuracy: 0.8878 - val_loss: 0.2608 - val_accuracy: 0.8890\n",
      "Epoch 3/100\n",
      "1161/1161 [==============================] - 4s 3ms/step - loss: 0.2657 - accuracy: 0.8879 - val_loss: 0.2598 - val_accuracy: 0.8891\n",
      "Epoch 4/100\n",
      "1161/1161 [==============================] - 4s 3ms/step - loss: 0.2637 - accuracy: 0.8879 - val_loss: 0.2596 - val_accuracy: 0.8890\n",
      "Epoch 5/100\n",
      "1161/1161 [==============================] - 4s 3ms/step - loss: 0.2628 - accuracy: 0.8880 - val_loss: 0.2595 - val_accuracy: 0.8890\n",
      "Epoch 6/100\n",
      "1161/1161 [==============================] - 4s 3ms/step - loss: 0.2622 - accuracy: 0.8877 - val_loss: 0.2593 - val_accuracy: 0.8890\n",
      "Epoch 7/100\n",
      "1161/1161 [==============================] - 4s 3ms/step - loss: 0.2618 - accuracy: 0.8878 - val_loss: 0.2598 - val_accuracy: 0.8890\n",
      "Epoch 8/100\n",
      "1161/1161 [==============================] - 4s 3ms/step - loss: 0.2612 - accuracy: 0.8878 - val_loss: 0.2593 - val_accuracy: 0.8890\n",
      "Epoch 9/100\n",
      "1161/1161 [==============================] - 4s 3ms/step - loss: 0.2610 - accuracy: 0.8877 - val_loss: 0.2604 - val_accuracy: 0.8890\n",
      "Epoch 10/100\n",
      "1161/1161 [==============================] - 4s 3ms/step - loss: 0.2608 - accuracy: 0.8878 - val_loss: 0.2590 - val_accuracy: 0.8890\n",
      "Epoch 11/100\n",
      "1161/1161 [==============================] - 4s 3ms/step - loss: 0.2607 - accuracy: 0.8878 - val_loss: 0.2596 - val_accuracy: 0.8890\n",
      "Epoch 12/100\n",
      "1161/1161 [==============================] - 4s 3ms/step - loss: 0.2604 - accuracy: 0.8880 - val_loss: 0.2597 - val_accuracy: 0.8890\n",
      "Epoch 13/100\n",
      "1161/1161 [==============================] - 4s 3ms/step - loss: 0.2604 - accuracy: 0.8881 - val_loss: 0.2590 - val_accuracy: 0.8889\n",
      "Epoch 14/100\n",
      "1161/1161 [==============================] - 4s 3ms/step - loss: 0.2601 - accuracy: 0.8878 - val_loss: 0.2588 - val_accuracy: 0.8890\n",
      "Epoch 15/100\n",
      "1161/1161 [==============================] - 4s 3ms/step - loss: 0.2598 - accuracy: 0.8881 - val_loss: 0.2593 - val_accuracy: 0.8889\n",
      "Epoch 16/100\n",
      "1161/1161 [==============================] - 4s 3ms/step - loss: 0.2600 - accuracy: 0.8880 - val_loss: 0.2589 - val_accuracy: 0.8890\n",
      "Epoch 17/100\n",
      "1161/1161 [==============================] - 4s 3ms/step - loss: 0.2598 - accuracy: 0.8880 - val_loss: 0.2589 - val_accuracy: 0.8890\n",
      "Epoch 18/100\n",
      "1161/1161 [==============================] - 4s 3ms/step - loss: 0.2593 - accuracy: 0.8880 - val_loss: 0.2587 - val_accuracy: 0.8890\n",
      "Epoch 19/100\n",
      "1161/1161 [==============================] - 4s 3ms/step - loss: 0.2597 - accuracy: 0.8878 - val_loss: 0.2587 - val_accuracy: 0.8889\n",
      "Epoch 20/100\n",
      "1161/1161 [==============================] - 4s 3ms/step - loss: 0.2594 - accuracy: 0.8883 - val_loss: 0.2586 - val_accuracy: 0.8890\n",
      "Epoch 21/100\n",
      "1161/1161 [==============================] - 4s 3ms/step - loss: 0.2594 - accuracy: 0.8881 - val_loss: 0.2591 - val_accuracy: 0.8890\n",
      "Epoch 22/100\n",
      "1161/1161 [==============================] - 4s 3ms/step - loss: 0.2593 - accuracy: 0.8881 - val_loss: 0.2591 - val_accuracy: 0.8890\n",
      "Epoch 23/100\n",
      "1161/1161 [==============================] - 3s 3ms/step - loss: 0.2594 - accuracy: 0.8878 - val_loss: 0.2593 - val_accuracy: 0.8890\n",
      "Epoch 24/100\n",
      "1161/1161 [==============================] - 3s 3ms/step - loss: 0.2590 - accuracy: 0.8882 - val_loss: 0.2592 - val_accuracy: 0.8890\n",
      "Epoch 25/100\n",
      "1161/1161 [==============================] - 4s 3ms/step - loss: 0.2590 - accuracy: 0.8882 - val_loss: 0.2589 - val_accuracy: 0.8889\n",
      "Epoch 26/100\n",
      "1161/1161 [==============================] - 4s 3ms/step - loss: 0.2590 - accuracy: 0.8884 - val_loss: 0.2586 - val_accuracy: 0.8895\n",
      "Epoch 27/100\n",
      "1161/1161 [==============================] - 4s 3ms/step - loss: 0.2590 - accuracy: 0.8880 - val_loss: 0.2589 - val_accuracy: 0.8890\n",
      "Epoch 28/100\n",
      "1161/1161 [==============================] - 4s 3ms/step - loss: 0.2588 - accuracy: 0.8881 - val_loss: 0.2590 - val_accuracy: 0.8890\n",
      "Epoch 29/100\n",
      "1161/1161 [==============================] - 4s 3ms/step - loss: 0.2591 - accuracy: 0.8882 - val_loss: 0.2590 - val_accuracy: 0.8889\n",
      "Epoch 30/100\n",
      "1161/1161 [==============================] - 4s 3ms/step - loss: 0.2591 - accuracy: 0.8881 - val_loss: 0.2588 - val_accuracy: 0.8890\n",
      "Epoch 00030: early stopping\n"
     ]
    },
    {
     "data": {
      "text/plain": [
       "<tensorflow.python.keras.callbacks.History at 0x7f93b9667d90>"
      ]
     },
     "execution_count": 92,
     "metadata": {},
     "output_type": "execute_result"
    }
   ],
   "source": [
    "# Compile the created model\n",
    "model.compile(optimizer='adam',\n",
    "              loss='binary_crossentropy',\n",
    "              metrics=['accuracy'])\n",
    "\n",
    "# Monitor the \"validation_loss\" and \n",
    "# when \"min\" value is reached during training, wait for \"10\" epochs and stop training\n",
    "early_stop = EarlyStopping(monitor='val_loss',\n",
    "                    verbose=1,\n",
    "                    mode='min',\n",
    "                    patience=10)\n",
    "\n",
    "# Tensor Board\n",
    "logdir = os.path.join(\"logs\", datetime.now().strftime(\"%Y%m%d-%H%M%S\"))\n",
    "tfboard = TensorBoard(logdir,\n",
    "                      histogram_freq=1,\n",
    "                      update_freq = 'epoch')\n",
    "\n",
    "# Fit the model\n",
    "model.fit(X_train_sca,\n",
    "        y_train,\n",
    "        batch_size=256,\n",
    "        epochs=100,\n",
    "        validation_data=(X_test_sca, y_test),\n",
    "        callbacks=[early_stop, tfboard])"
   ]
  },
  {
   "cell_type": "markdown",
   "execution_count": null,
   "metadata": {
    "id": "j8L0O6Ri2nVK",
    "papermill": {
     "duration": 0.180961,
     "end_time": "2020-08-24T10:56:46.419250",
     "exception": false,
     "start_time": "2020-08-24T10:56:46.238289",
     "status": "completed"
    },
    "tags": []
   },
   "source": [
    "Summary"
   ]
  },
  {
   "cell_type": "code",
   "execution_count": 93,
   "metadata": {
    "execution": {
     "iopub.execute_input": "2020-08-24T10:56:46.786170Z",
     "iopub.status.busy": "2020-08-24T10:56:46.785140Z",
     "iopub.status.idle": "2020-08-24T10:56:46.790197Z",
     "shell.execute_reply": "2020-08-24T10:56:46.791029Z"
    },
    "id": "swfmNmtW2lfH",
    "outputId": "6ebc3fea-d630-4caf-e6d0-234cdbdbb4b3",
    "papermill": {
     "duration": 0.193415,
     "end_time": "2020-08-24T10:56:46.791274",
     "exception": false,
     "start_time": "2020-08-24T10:56:46.597859",
     "status": "completed"
    },
    "tags": []
   },
   "outputs": [
    {
     "name": "stdout",
     "output_type": "stream",
     "text": [
      "Model: \"sequential\"\n",
      "_________________________________________________________________\n",
      "Layer (type)                 Output Shape              Param #   \n",
      "=================================================================\n",
      "dense (Dense)                (None, 77)                6006      \n",
      "_________________________________________________________________\n",
      "dropout (Dropout)            (None, 77)                0         \n",
      "_________________________________________________________________\n",
      "dense_1 (Dense)              (None, 38)                2964      \n",
      "_________________________________________________________________\n",
      "dropout_1 (Dropout)          (None, 38)                0         \n",
      "_________________________________________________________________\n",
      "dense_2 (Dense)              (None, 19)                741       \n",
      "_________________________________________________________________\n",
      "dropout_2 (Dropout)          (None, 19)                0         \n",
      "_________________________________________________________________\n",
      "dense_3 (Dense)              (None, 1)                 20        \n",
      "=================================================================\n",
      "Total params: 9,731\n",
      "Trainable params: 9,731\n",
      "Non-trainable params: 0\n",
      "_________________________________________________________________\n"
     ]
    }
   ],
   "source": [
    "model.summary()"
   ]
  },
  {
   "cell_type": "markdown",
   "execution_count": null,
   "metadata": {
    "id": "H8aZd27i1Fck",
    "papermill": {
     "duration": 0.178151,
     "end_time": "2020-08-24T10:56:47.149472",
     "exception": false,
     "start_time": "2020-08-24T10:56:46.971321",
     "status": "completed"
    },
    "tags": []
   },
   "source": [
    "# **Evaluation**\n",
    "---\n",
    "\n",
    "- Predictions and Losses\n",
    "- Tensor Board\n",
    "- New Customer Loan Repayment Prediction"
   ]
  },
  {
   "cell_type": "markdown",
   "execution_count": null,
   "metadata": {
    "id": "bUuaIUWrjBZu",
    "papermill": {
     "duration": 0.178515,
     "end_time": "2020-08-24T10:56:47.507153",
     "exception": false,
     "start_time": "2020-08-24T10:56:47.328638",
     "status": "completed"
    },
    "tags": []
   },
   "source": [
    "## Predictions and Losses"
   ]
  },
  {
   "cell_type": "code",
   "execution_count": 94,
   "metadata": {
    "execution": {
     "iopub.execute_input": "2020-08-24T10:56:47.921931Z",
     "iopub.status.busy": "2020-08-24T10:56:47.920907Z",
     "iopub.status.idle": "2020-08-24T10:56:47.926224Z",
     "shell.execute_reply": "2020-08-24T10:56:47.925621Z"
    },
    "id": "NoTaU2sc1H3V",
    "outputId": "9e6927cb-d9f5-45e4-81a4-77922ab9d798",
    "papermill": {
     "duration": 0.210852,
     "end_time": "2020-08-24T10:56:47.926383",
     "exception": false,
     "start_time": "2020-08-24T10:56:47.715531",
     "status": "completed"
    },
    "tags": []
   },
   "outputs": [
    {
     "data": {
      "text/html": [
       "<div>\n",
       "<style scoped>\n",
       "    .dataframe tbody tr th:only-of-type {\n",
       "        vertical-align: middle;\n",
       "    }\n",
       "\n",
       "    .dataframe tbody tr th {\n",
       "        vertical-align: top;\n",
       "    }\n",
       "\n",
       "    .dataframe thead th {\n",
       "        text-align: right;\n",
       "    }\n",
       "</style>\n",
       "<table border=\"1\" class=\"dataframe\">\n",
       "  <thead>\n",
       "    <tr style=\"text-align: right;\">\n",
       "      <th></th>\n",
       "      <th>loss</th>\n",
       "      <th>accuracy</th>\n",
       "      <th>val_loss</th>\n",
       "      <th>val_accuracy</th>\n",
       "    </tr>\n",
       "  </thead>\n",
       "  <tbody>\n",
       "    <tr>\n",
       "      <th>0</th>\n",
       "      <td>0.311721</td>\n",
       "      <td>0.874373</td>\n",
       "      <td>0.262902</td>\n",
       "      <td>0.888989</td>\n",
       "    </tr>\n",
       "    <tr>\n",
       "      <th>1</th>\n",
       "      <td>0.269504</td>\n",
       "      <td>0.887823</td>\n",
       "      <td>0.260784</td>\n",
       "      <td>0.888989</td>\n",
       "    </tr>\n",
       "    <tr>\n",
       "      <th>2</th>\n",
       "      <td>0.265747</td>\n",
       "      <td>0.887907</td>\n",
       "      <td>0.259810</td>\n",
       "      <td>0.889059</td>\n",
       "    </tr>\n",
       "    <tr>\n",
       "      <th>3</th>\n",
       "      <td>0.263733</td>\n",
       "      <td>0.887897</td>\n",
       "      <td>0.259616</td>\n",
       "      <td>0.888999</td>\n",
       "    </tr>\n",
       "    <tr>\n",
       "      <th>4</th>\n",
       "      <td>0.262795</td>\n",
       "      <td>0.887981</td>\n",
       "      <td>0.259474</td>\n",
       "      <td>0.889029</td>\n",
       "    </tr>\n",
       "    <tr>\n",
       "      <th>5</th>\n",
       "      <td>0.262233</td>\n",
       "      <td>0.887749</td>\n",
       "      <td>0.259302</td>\n",
       "      <td>0.889039</td>\n",
       "    </tr>\n",
       "    <tr>\n",
       "      <th>6</th>\n",
       "      <td>0.261795</td>\n",
       "      <td>0.887846</td>\n",
       "      <td>0.259807</td>\n",
       "      <td>0.888999</td>\n",
       "    </tr>\n",
       "    <tr>\n",
       "      <th>7</th>\n",
       "      <td>0.261245</td>\n",
       "      <td>0.887762</td>\n",
       "      <td>0.259319</td>\n",
       "      <td>0.888989</td>\n",
       "    </tr>\n",
       "    <tr>\n",
       "      <th>8</th>\n",
       "      <td>0.261036</td>\n",
       "      <td>0.887728</td>\n",
       "      <td>0.260362</td>\n",
       "      <td>0.889019</td>\n",
       "    </tr>\n",
       "    <tr>\n",
       "      <th>9</th>\n",
       "      <td>0.260760</td>\n",
       "      <td>0.887782</td>\n",
       "      <td>0.259000</td>\n",
       "      <td>0.889019</td>\n",
       "    </tr>\n",
       "    <tr>\n",
       "      <th>10</th>\n",
       "      <td>0.260650</td>\n",
       "      <td>0.887779</td>\n",
       "      <td>0.259644</td>\n",
       "      <td>0.888979</td>\n",
       "    </tr>\n",
       "    <tr>\n",
       "      <th>11</th>\n",
       "      <td>0.260394</td>\n",
       "      <td>0.887998</td>\n",
       "      <td>0.259679</td>\n",
       "      <td>0.889029</td>\n",
       "    </tr>\n",
       "    <tr>\n",
       "      <th>12</th>\n",
       "      <td>0.260365</td>\n",
       "      <td>0.888052</td>\n",
       "      <td>0.258996</td>\n",
       "      <td>0.888948</td>\n",
       "    </tr>\n",
       "    <tr>\n",
       "      <th>13</th>\n",
       "      <td>0.260113</td>\n",
       "      <td>0.887823</td>\n",
       "      <td>0.258776</td>\n",
       "      <td>0.888989</td>\n",
       "    </tr>\n",
       "    <tr>\n",
       "      <th>14</th>\n",
       "      <td>0.259815</td>\n",
       "      <td>0.888099</td>\n",
       "      <td>0.259317</td>\n",
       "      <td>0.888938</td>\n",
       "    </tr>\n",
       "    <tr>\n",
       "      <th>15</th>\n",
       "      <td>0.259983</td>\n",
       "      <td>0.887961</td>\n",
       "      <td>0.258878</td>\n",
       "      <td>0.888989</td>\n",
       "    </tr>\n",
       "    <tr>\n",
       "      <th>16</th>\n",
       "      <td>0.259818</td>\n",
       "      <td>0.887981</td>\n",
       "      <td>0.258937</td>\n",
       "      <td>0.888958</td>\n",
       "    </tr>\n",
       "    <tr>\n",
       "      <th>17</th>\n",
       "      <td>0.259341</td>\n",
       "      <td>0.888025</td>\n",
       "      <td>0.258705</td>\n",
       "      <td>0.888958</td>\n",
       "    </tr>\n",
       "    <tr>\n",
       "      <th>18</th>\n",
       "      <td>0.259654</td>\n",
       "      <td>0.887779</td>\n",
       "      <td>0.258681</td>\n",
       "      <td>0.888938</td>\n",
       "    </tr>\n",
       "    <tr>\n",
       "      <th>19</th>\n",
       "      <td>0.259395</td>\n",
       "      <td>0.888291</td>\n",
       "      <td>0.258614</td>\n",
       "      <td>0.888979</td>\n",
       "    </tr>\n",
       "    <tr>\n",
       "      <th>20</th>\n",
       "      <td>0.259392</td>\n",
       "      <td>0.888068</td>\n",
       "      <td>0.259137</td>\n",
       "      <td>0.889009</td>\n",
       "    </tr>\n",
       "    <tr>\n",
       "      <th>21</th>\n",
       "      <td>0.259314</td>\n",
       "      <td>0.888082</td>\n",
       "      <td>0.259077</td>\n",
       "      <td>0.888989</td>\n",
       "    </tr>\n",
       "    <tr>\n",
       "      <th>22</th>\n",
       "      <td>0.259357</td>\n",
       "      <td>0.887759</td>\n",
       "      <td>0.259341</td>\n",
       "      <td>0.888979</td>\n",
       "    </tr>\n",
       "    <tr>\n",
       "      <th>23</th>\n",
       "      <td>0.258957</td>\n",
       "      <td>0.888237</td>\n",
       "      <td>0.259208</td>\n",
       "      <td>0.889029</td>\n",
       "    </tr>\n",
       "    <tr>\n",
       "      <th>24</th>\n",
       "      <td>0.258988</td>\n",
       "      <td>0.888244</td>\n",
       "      <td>0.258938</td>\n",
       "      <td>0.888948</td>\n",
       "    </tr>\n",
       "    <tr>\n",
       "      <th>25</th>\n",
       "      <td>0.258986</td>\n",
       "      <td>0.888435</td>\n",
       "      <td>0.258641</td>\n",
       "      <td>0.889463</td>\n",
       "    </tr>\n",
       "    <tr>\n",
       "      <th>26</th>\n",
       "      <td>0.259014</td>\n",
       "      <td>0.888028</td>\n",
       "      <td>0.258922</td>\n",
       "      <td>0.888999</td>\n",
       "    </tr>\n",
       "    <tr>\n",
       "      <th>27</th>\n",
       "      <td>0.258803</td>\n",
       "      <td>0.888122</td>\n",
       "      <td>0.258972</td>\n",
       "      <td>0.889029</td>\n",
       "    </tr>\n",
       "    <tr>\n",
       "      <th>28</th>\n",
       "      <td>0.259107</td>\n",
       "      <td>0.888190</td>\n",
       "      <td>0.259041</td>\n",
       "      <td>0.888857</td>\n",
       "    </tr>\n",
       "    <tr>\n",
       "      <th>29</th>\n",
       "      <td>0.259096</td>\n",
       "      <td>0.888139</td>\n",
       "      <td>0.258764</td>\n",
       "      <td>0.889029</td>\n",
       "    </tr>\n",
       "  </tbody>\n",
       "</table>\n",
       "</div>"
      ],
      "text/plain": [
       "        loss  accuracy  val_loss  val_accuracy\n",
       "0   0.311721  0.874373  0.262902      0.888989\n",
       "1   0.269504  0.887823  0.260784      0.888989\n",
       "2   0.265747  0.887907  0.259810      0.889059\n",
       "3   0.263733  0.887897  0.259616      0.888999\n",
       "4   0.262795  0.887981  0.259474      0.889029\n",
       "5   0.262233  0.887749  0.259302      0.889039\n",
       "6   0.261795  0.887846  0.259807      0.888999\n",
       "7   0.261245  0.887762  0.259319      0.888989\n",
       "8   0.261036  0.887728  0.260362      0.889019\n",
       "9   0.260760  0.887782  0.259000      0.889019\n",
       "10  0.260650  0.887779  0.259644      0.888979\n",
       "11  0.260394  0.887998  0.259679      0.889029\n",
       "12  0.260365  0.888052  0.258996      0.888948\n",
       "13  0.260113  0.887823  0.258776      0.888989\n",
       "14  0.259815  0.888099  0.259317      0.888938\n",
       "15  0.259983  0.887961  0.258878      0.888989\n",
       "16  0.259818  0.887981  0.258937      0.888958\n",
       "17  0.259341  0.888025  0.258705      0.888958\n",
       "18  0.259654  0.887779  0.258681      0.888938\n",
       "19  0.259395  0.888291  0.258614      0.888979\n",
       "20  0.259392  0.888068  0.259137      0.889009\n",
       "21  0.259314  0.888082  0.259077      0.888989\n",
       "22  0.259357  0.887759  0.259341      0.888979\n",
       "23  0.258957  0.888237  0.259208      0.889029\n",
       "24  0.258988  0.888244  0.258938      0.888948\n",
       "25  0.258986  0.888435  0.258641      0.889463\n",
       "26  0.259014  0.888028  0.258922      0.888999\n",
       "27  0.258803  0.888122  0.258972      0.889029\n",
       "28  0.259107  0.888190  0.259041      0.888857\n",
       "29  0.259096  0.888139  0.258764      0.889029"
      ]
     },
     "execution_count": 94,
     "metadata": {},
     "output_type": "execute_result"
    }
   ],
   "source": [
    "# New dataframe \"losses\" with model.history.history data\n",
    "losses = pd.DataFrame(model.history.history)\n",
    "losses"
   ]
  },
  {
   "cell_type": "code",
   "execution_count": 95,
   "metadata": {
    "execution": {
     "iopub.execute_input": "2020-08-24T10:56:48.361863Z",
     "iopub.status.busy": "2020-08-24T10:56:48.360873Z",
     "iopub.status.idle": "2020-08-24T10:56:48.716072Z",
     "shell.execute_reply": "2020-08-24T10:56:48.715431Z"
    },
    "id": "DK9G6fk63Ec7",
    "outputId": "43cbb9ef-2e72-4fe0-af12-4307b5528d73",
    "papermill": {
     "duration": 0.560269,
     "end_time": "2020-08-24T10:56:48.716203",
     "exception": false,
     "start_time": "2020-08-24T10:56:48.155934",
     "status": "completed"
    },
    "tags": []
   },
   "outputs": [
    {
     "data": {
      "text/plain": [
       "<matplotlib.axes._subplots.AxesSubplot at 0x7f93c008cb90>"
      ]
     },
     "execution_count": 95,
     "metadata": {},
     "output_type": "execute_result"
    },
    {
     "data": {
      "image/png": "[encoded data removed]",
      "text/plain": [
       "<Figure size 864x576 with 1 Axes>"
      ]
     },
     "metadata": {},
     "output_type": "display_data"
    }
   ],
   "source": [
    "# Plot training loss v/s validation loss\n",
    "losses[['loss','val_loss']].plot()"
   ]
  },
  {
   "cell_type": "code",
   "execution_count": 96,
   "metadata": {
    "execution": {
     "iopub.execute_input": "2020-08-24T10:56:49.093982Z",
     "iopub.status.busy": "2020-08-24T10:56:49.092810Z",
     "iopub.status.idle": "2020-08-24T10:56:49.468354Z",
     "shell.execute_reply": "2020-08-24T10:56:49.467701Z"
    },
    "id": "fdg9g97n3JSn",
    "outputId": "dd0b22e4-4651-4b41-c80d-58735bbae921",
    "papermill": {
     "duration": 0.571115,
     "end_time": "2020-08-24T10:56:49.468501",
     "exception": false,
     "start_time": "2020-08-24T10:56:48.897386",
     "status": "completed"
    },
    "tags": []
   },
   "outputs": [
    {
     "data": {
      "text/plain": [
       "<matplotlib.axes._subplots.AxesSubplot at 0x7f93b84f0290>"
      ]
     },
     "execution_count": 96,
     "metadata": {},
     "output_type": "execute_result"
    },
    {
     "data": {
      "image/png": "[encoded data removed]",
      "text/plain": [
       "<Figure size 864x576 with 1 Axes>"
      ]
     },
     "metadata": {},
     "output_type": "display_data"
    }
   ],
   "source": [
    "# Plot training accuracy v/s validation accuracy\n",
    "losses[['accuracy','val_accuracy']].plot()"
   ]
  },
  {
   "cell_type": "code",
   "execution_count": 97,
   "metadata": {
    "execution": {
     "iopub.execute_input": "2020-08-24T10:56:49.836478Z",
     "iopub.status.busy": "2020-08-24T10:56:49.835629Z",
     "iopub.status.idle": "2020-08-24T10:56:57.540973Z",
     "shell.execute_reply": "2020-08-24T10:56:57.540319Z"
    },
    "id": "KNY-rj69X0F5",
    "outputId": "9168dd05-d535-4ef1-a9d8-01cdd71e7359",
    "papermill": {
     "duration": 7.892399,
     "end_time": "2020-08-24T10:56:57.541116",
     "exception": false,
     "start_time": "2020-08-24T10:56:49.648717",
     "status": "completed"
    },
    "tags": []
   },
   "outputs": [
    {
     "name": "stdout",
     "output_type": "stream",
     "text": [
      "loss: 0.25876396894454956\n",
      "accuracy: 0.8890291452407837\n"
     ]
    }
   ],
   "source": [
    "# Print the final loss and accuracy on test set.\n",
    "print(f'loss: {model.evaluate(X_test_sca, y_test, verbose=0)[0]}\\naccuracy: {model.evaluate(X_test_sca, y_test, verbose=0)[1]}')\n",
    "\n",
    "\n",
    "# Accuracy of 89% is considering an imbalanced data (80% of data points are Fully Paid and 20% charged off)"
   ]
  },
  {
   "cell_type": "code",
   "execution_count": 98,
   "metadata": {
    "execution": {
     "iopub.execute_input": "2020-08-24T10:56:57.909523Z",
     "iopub.status.busy": "2020-08-24T10:56:57.908648Z",
     "iopub.status.idle": "2020-08-24T10:57:00.022644Z",
     "shell.execute_reply": "2020-08-24T10:57:00.021976Z"
    },
    "id": "5PrLrjjts6IX",
    "outputId": "4d8f31c5-b7ce-47d9-ac6b-fc3334dc3f84",
    "papermill": {
     "duration": 2.299669,
     "end_time": "2020-08-24T10:57:00.022796",
     "exception": false,
     "start_time": "2020-08-24T10:56:57.723127",
     "status": "completed"
    },
    "tags": []
   },
   "outputs": [
    {
     "name": "stdout",
     "output_type": "stream",
     "text": [
      "[[0]\n",
      " [1]\n",
      " [1]\n",
      " ...\n",
      " [1]\n",
      " [1]\n",
      " [1]]\n"
     ]
    }
   ],
   "source": [
    "# Predictions on test set\n",
    "y_pred = model.predict_classes(X_test_sca)\n",
    "print(y_pred)"
   ]
  },
  {
   "cell_type": "code",
   "execution_count": 99,
   "metadata": {
    "execution": {
     "iopub.execute_input": "2020-08-24T10:57:00.465178Z",
     "iopub.status.busy": "2020-08-24T10:57:00.464383Z",
     "iopub.status.idle": "2020-08-24T10:57:00.620226Z",
     "shell.execute_reply": "2020-08-24T10:57:00.619087Z"
    },
    "id": "N5gEtxIHs6IZ",
    "outputId": "08ff1207-1823-486f-83f0-4696491e9392",
    "papermill": {
     "duration": 0.393497,
     "end_time": "2020-08-24T10:57:00.620450",
     "exception": false,
     "start_time": "2020-08-24T10:57:00.226953",
     "status": "completed"
    },
    "tags": []
   },
   "outputs": [
    {
     "name": "stdout",
     "output_type": "stream",
     "text": [
      "              precision    recall  f1-score   support\n",
      "\n",
      "           0       0.99      0.44      0.61     19379\n",
      "           1       0.88      1.00      0.94     79629\n",
      "\n",
      "    accuracy                           0.89     99008\n",
      "   macro avg       0.93      0.72      0.77     99008\n",
      "weighted avg       0.90      0.89      0.87     99008\n",
      "\n"
     ]
    }
   ],
   "source": [
    "# classification report\n",
    "print(classification_report(y_test,y_pred))"
   ]
  },
  {
   "cell_type": "code",
   "execution_count": 100,
   "metadata": {
    "execution": {
     "iopub.execute_input": "2020-08-24T10:57:00.996798Z",
     "iopub.status.busy": "2020-08-24T10:57:00.995959Z",
     "iopub.status.idle": "2020-08-24T10:57:01.170586Z",
     "shell.execute_reply": "2020-08-24T10:57:01.169588Z"
    },
    "id": "GfA2Wt8Cs6Ia",
    "outputId": "d52ccc91-9c5f-4ca9-89b7-a731d4a303be",
    "papermill": {
     "duration": 0.361845,
     "end_time": "2020-08-24T10:57:01.170941",
     "exception": false,
     "start_time": "2020-08-24T10:57:00.809096",
     "status": "completed"
    },
    "tags": []
   },
   "outputs": [
    {
     "name": "stdout",
     "output_type": "stream",
     "text": [
      "[[ 8487 10892]\n",
      " [   95 79534]]\n"
     ]
    }
   ],
   "source": [
    "# confusion matrix\n",
    "print(confusion_matrix(y_test,y_pred))"
   ]
  },
  {
   "cell_type": "markdown",
   "execution_count": null,
   "metadata": {
    "id": "0J8iQoC641LM",
    "papermill": {
     "duration": 0.179892,
     "end_time": "2020-08-24T10:57:01.585589",
     "exception": false,
     "start_time": "2020-08-24T10:57:01.405697",
     "status": "completed"
    },
    "tags": []
   },
   "source": [
    "## Tensor Board"
   ]
  },
  {
   "cell_type": "raw",
   "execution_count": null,
   "metadata": {
    "papermill": {
     "duration": 0.1784,
     "end_time": "2020-08-24T10:57:01.948062",
     "exception": false,
     "start_time": "2020-08-24T10:57:01.769662",
     "status": "completed"
    },
    "tags": []
   },
   "source": [
    "For Google colab"
   ]
  },
  {
   "cell_type": "code",
   "execution_count": 101,
   "metadata": {
    "execution": {
     "iopub.execute_input": "2020-08-24T10:57:02.314567Z",
     "iopub.status.busy": "2020-08-24T10:57:02.313794Z",
     "iopub.status.idle": "2020-08-24T10:57:02.324023Z",
     "shell.execute_reply": "2020-08-24T10:57:02.323184Z"
    },
    "id": "WctLUOi8XoFZ",
    "papermill": {
     "duration": 0.195729,
     "end_time": "2020-08-24T10:57:02.324158",
     "exception": false,
     "start_time": "2020-08-24T10:57:02.128429",
     "status": "completed"
    },
    "tags": []
   },
   "outputs": [],
   "source": [
    "# Load tenserboard\n",
    "%load_ext tensorboard"
   ]
  },
  {
   "cell_type": "code",
   "execution_count": 102,
   "metadata": {
    "execution": {
     "iopub.execute_input": "2020-08-24T10:57:02.694955Z",
     "iopub.status.busy": "2020-08-24T10:57:02.693741Z",
     "iopub.status.idle": "2020-08-24T10:57:08.253056Z",
     "shell.execute_reply": "2020-08-24T10:57:08.252321Z"
    },
    "id": "c-1rHyHsj-UL",
    "outputId": "081e30c3-7833-49a9-980d-2b6dda832747",
    "papermill": {
     "duration": 5.747424,
     "end_time": "2020-08-24T10:57:08.253186",
     "exception": false,
     "start_time": "2020-08-24T10:57:02.505762",
     "status": "completed"
    },
    "tags": []
   },
   "outputs": [
    {
     "data": {
      "text/html": [
       "\n",
       "      <iframe id=\"tensorboard-frame-e88efb079ba9a7ca\" width=\"100%\" height=\"800\" frameborder=\"0\">\n",
       "      </iframe>\n",
       "      <script>\n",
       "        (function() {\n",
       "          const frame = document.getElementById(\"tensorboard-frame-e88efb079ba9a7ca\");\n",
       "          const url = new URL(\"/\", window.location);\n",
       "          const port = 6006;\n",
       "          if (port) {\n",
       "            url.port = port;\n",
       "          }\n",
       "          frame.src = url;\n",
       "        })();\n",
       "      </script>\n",
       "    "
      ],
      "text/plain": [
       "<IPython.core.display.HTML object>"
      ]
     },
     "metadata": {},
     "output_type": "display_data"
    }
   ],
   "source": [
    "%tensorboard --logdir logs"
   ]
  },
  {
   "cell_type": "markdown",
   "execution_count": null,
   "metadata": {
    "id": "YUzO0DOA431b",
    "papermill": {
     "duration": 0.179738,
     "end_time": "2020-08-24T10:57:08.646024",
     "exception": false,
     "start_time": "2020-08-24T10:57:08.466286",
     "status": "completed"
    },
    "tags": []
   },
   "source": [
    "## New Customer Loan Repayment Prediction"
   ]
  },
  {
   "cell_type": "code",
   "execution_count": 103,
   "metadata": {
    "execution": {
     "iopub.execute_input": "2020-08-24T10:57:09.025993Z",
     "iopub.status.busy": "2020-08-24T10:57:09.024612Z",
     "iopub.status.idle": "2020-08-24T10:59:15.044603Z",
     "shell.execute_reply": "2020-08-24T10:59:15.043723Z"
    },
    "id": "ro6ztANwXvuz",
    "outputId": "56670861-65a4-4c73-8b31-96825b0f445a",
    "papermill": {
     "duration": 126.216474,
     "end_time": "2020-08-24T10:59:15.044763",
     "exception": false,
     "start_time": "2020-08-24T10:57:08.828289",
     "status": "completed"
    },
    "tags": []
   },
   "outputs": [
    {
     "name": "stdout",
     "output_type": "stream",
     "text": [
      "Epoch 1/30\n",
      "1547/1547 [==============================] - 4s 3ms/step - loss: 0.3038 - accuracy: 0.8760\n",
      "Epoch 2/30\n",
      "1547/1547 [==============================] - 4s 3ms/step - loss: 0.2665 - accuracy: 0.8879\n",
      "Epoch 3/30\n",
      "1547/1547 [==============================] - 4s 3ms/step - loss: 0.2642 - accuracy: 0.8881\n",
      "Epoch 4/30\n",
      "1547/1547 [==============================] - 4s 3ms/step - loss: 0.2631 - accuracy: 0.8879\n",
      "Epoch 5/30\n",
      "1547/1547 [==============================] - 4s 3ms/step - loss: 0.2621 - accuracy: 0.8881\n",
      "Epoch 6/30\n",
      "1547/1547 [==============================] - 4s 3ms/step - loss: 0.2617 - accuracy: 0.8879\n",
      "Epoch 7/30\n",
      "1547/1547 [==============================] - 4s 3ms/step - loss: 0.2613 - accuracy: 0.8880\n",
      "Epoch 8/30\n",
      "1547/1547 [==============================] - 4s 3ms/step - loss: 0.2611 - accuracy: 0.8879\n",
      "Epoch 9/30\n",
      "1547/1547 [==============================] - 4s 3ms/step - loss: 0.2611 - accuracy: 0.8882\n",
      "Epoch 10/30\n",
      "1547/1547 [==============================] - 4s 3ms/step - loss: 0.2607 - accuracy: 0.8882\n",
      "Epoch 11/30\n",
      "1547/1547 [==============================] - 4s 3ms/step - loss: 0.2605 - accuracy: 0.8881\n",
      "Epoch 12/30\n",
      "1547/1547 [==============================] - 4s 3ms/step - loss: 0.2605 - accuracy: 0.8881\n",
      "Epoch 13/30\n",
      "1547/1547 [==============================] - 4s 3ms/step - loss: 0.2602 - accuracy: 0.8880\n",
      "Epoch 14/30\n",
      "1547/1547 [==============================] - 4s 3ms/step - loss: 0.2600 - accuracy: 0.8881\n",
      "Epoch 15/30\n",
      "1547/1547 [==============================] - 4s 3ms/step - loss: 0.2601 - accuracy: 0.8882\n",
      "Epoch 16/30\n",
      "1547/1547 [==============================] - 4s 3ms/step - loss: 0.2599 - accuracy: 0.8880\n",
      "Epoch 17/30\n",
      "1547/1547 [==============================] - 4s 3ms/step - loss: 0.2597 - accuracy: 0.8884\n",
      "Epoch 18/30\n",
      "1547/1547 [==============================] - 4s 3ms/step - loss: 0.2597 - accuracy: 0.8882\n",
      "Epoch 19/30\n",
      "1547/1547 [==============================] - 4s 3ms/step - loss: 0.2598 - accuracy: 0.8883\n",
      "Epoch 20/30\n",
      "1547/1547 [==============================] - 4s 3ms/step - loss: 0.2596 - accuracy: 0.8882\n",
      "Epoch 21/30\n",
      "1547/1547 [==============================] - 4s 3ms/step - loss: 0.2594 - accuracy: 0.8881\n",
      "Epoch 22/30\n",
      "1547/1547 [==============================] - 4s 3ms/step - loss: 0.2595 - accuracy: 0.8883\n",
      "Epoch 23/30\n",
      "1547/1547 [==============================] - 4s 3ms/step - loss: 0.2596 - accuracy: 0.8884\n",
      "Epoch 24/30\n",
      "1547/1547 [==============================] - 4s 3ms/step - loss: 0.2593 - accuracy: 0.8883\n",
      "Epoch 25/30\n",
      "1547/1547 [==============================] - 5s 3ms/step - loss: 0.2593 - accuracy: 0.8881\n",
      "Epoch 26/30\n",
      "1547/1547 [==============================] - 5s 3ms/step - loss: 0.2593 - accuracy: 0.8885\n",
      "Epoch 27/30\n",
      "1547/1547 [==============================] - 4s 3ms/step - loss: 0.2593 - accuracy: 0.8883\n",
      "Epoch 28/30\n",
      "1547/1547 [==============================] - 4s 3ms/step - loss: 0.2593 - accuracy: 0.8883\n",
      "Epoch 29/30\n",
      "1547/1547 [==============================] - 4s 3ms/step - loss: 0.2593 - accuracy: 0.8884\n",
      "Epoch 30/30\n",
      "1547/1547 [==============================] - 4s 3ms/step - loss: 0.2590 - accuracy: 0.8883\n"
     ]
    },
    {
     "data": {
      "text/plain": [
       "<tensorflow.python.keras.callbacks.History at 0x7f93b841d9d0>"
      ]
     },
     "execution_count": 103,
     "metadata": {},
     "output_type": "execute_result"
    }
   ],
   "source": [
    "# As satisfied with obtained accuracy,\n",
    "# Before predicting for new customer, training on whole dataset (X and y) without splitting.\n",
    "\n",
    "X_sca = scaler.fit_transform(X)\n",
    "\n",
    "# Creating final model\n",
    "final_model = Sequential()\n",
    "# Input layer\n",
    "final_model.add(Dense(77, activation='relu', kernel_constraint=max_norm(3)))\n",
    "final_model.add(Dropout(0.3)) # Drop 30% of neurons randomly\n",
    "# Hidden layers\n",
    "final_model.add(Dense(38, activation='relu', kernel_constraint=max_norm(3)))\n",
    "final_model.add(Dropout(0.3))\n",
    "final_model.add(Dense(19, activation='relu', kernel_constraint=max_norm(3)))\n",
    "final_model.add(Dropout(0.3))\n",
    "# Output layer\n",
    "final_model.add(Dense(1, activation='sigmoid'))\n",
    "\n",
    "\n",
    "# Compile the created model\n",
    "final_model.compile(optimizer='adam',\n",
    "              loss='binary_crossentropy',\n",
    "              metrics=['accuracy'])\n",
    "\n",
    "\n",
    "# Fit the model\n",
    "final_model.fit(X_sca, y,\n",
    "        batch_size=256,\n",
    "        epochs=30)"
   ]
  },
  {
   "cell_type": "markdown",
   "execution_count": null,
   "metadata": {
    "id": "tjXjMgPk1ALJ",
    "papermill": {
     "duration": 0.405519,
     "end_time": "2020-08-24T10:59:15.805313",
     "exception": false,
     "start_time": "2020-08-24T10:59:15.399794",
     "status": "completed"
    },
    "tags": []
   },
   "source": [
    "Saving the Trained Model"
   ]
  },
  {
   "cell_type": "code",
   "execution_count": 104,
   "metadata": {
    "execution": {
     "iopub.execute_input": "2020-08-24T10:59:16.502755Z",
     "iopub.status.busy": "2020-08-24T10:59:16.501773Z",
     "iopub.status.idle": "2020-08-24T10:59:16.505478Z",
     "shell.execute_reply": "2020-08-24T10:59:16.504822Z"
    },
    "id": "sYFBJ8Vr0WTz",
    "papermill": {
     "duration": 0.353331,
     "end_time": "2020-08-24T10:59:16.505626",
     "exception": false,
     "start_time": "2020-08-24T10:59:16.152295",
     "status": "completed"
    },
    "tags": []
   },
   "outputs": [],
   "source": [
    "# final_model.save('loan_approval.h5')  "
   ]
  },
  {
   "cell_type": "code",
   "execution_count": 105,
   "metadata": {
    "execution": {
     "iopub.execute_input": "2020-08-24T10:59:17.209811Z",
     "iopub.status.busy": "2020-08-24T10:59:17.208626Z",
     "iopub.status.idle": "2020-08-24T10:59:17.214381Z",
     "shell.execute_reply": "2020-08-24T10:59:17.213583Z"
    },
    "id": "SWvuSqFhOcNR",
    "outputId": "86ef27e4-8fb1-4fb2-b3e9-3485fa966705",
    "papermill": {
     "duration": 0.364985,
     "end_time": "2020-08-24T10:59:17.214522",
     "exception": false,
     "start_time": "2020-08-24T10:59:16.849537",
     "status": "completed"
    },
    "tags": []
   },
   "outputs": [
    {
     "data": {
      "text/plain": [
       "loan_amnt          2000.00\n",
       "term                 36.00\n",
       "int_rate             13.61\n",
       "annual_inc        42996.00\n",
       "dti                   8.32\n",
       "                    ...   \n",
       "zip_code_30723        0.00\n",
       "zip_code_48052        1.00\n",
       "zip_code_70466        0.00\n",
       "zip_code_86630        0.00\n",
       "zip_code_93700        0.00\n",
       "Name: 396029, Length: 78, dtype: float64"
      ]
     },
     "execution_count": 105,
     "metadata": {},
     "output_type": "execute_result"
    }
   ],
   "source": [
    "# New customer \"new_cust\"\n",
    "new_cust"
   ]
  },
  {
   "cell_type": "code",
   "execution_count": 106,
   "metadata": {
    "execution": {
     "iopub.execute_input": "2020-08-24T10:59:17.968865Z",
     "iopub.status.busy": "2020-08-24T10:59:17.967731Z",
     "iopub.status.idle": "2020-08-24T10:59:17.971300Z",
     "shell.execute_reply": "2020-08-24T10:59:17.970547Z"
    },
    "id": "7CdWXbW745ci",
    "papermill": {
     "duration": 0.356898,
     "end_time": "2020-08-24T10:59:17.971462",
     "exception": false,
     "start_time": "2020-08-24T10:59:17.614564",
     "status": "completed"
    },
    "tags": []
   },
   "outputs": [],
   "source": [
    "# Function \"assess_customer\"\n",
    "def assess_customer(cust):\n",
    "\n",
    "  '''\n",
    "  Take new customer and reshape the values to shape that model was trained on. (1,77)\n",
    "  Transform the new customer attributes using same MinMaxScaler object\n",
    "  return the output based on predicted class.\n",
    "  '''\n",
    "\n",
    "  cust = cust.values.reshape(1,77)\n",
    "  cust_sca = scaler.transform(cust)\n",
    "\n",
    "  if final_model.predict_classes(cust_sca)==1:\n",
    "    print (\"Customer is likely to pay back the loan \\nLoan can be approved\")\n",
    "  else:\n",
    "    print (\"Customer is not likely to pay back the loan \\nLoan can't be approved\")"
   ]
  },
  {
   "cell_type": "code",
   "execution_count": 107,
   "metadata": {
    "execution": {
     "iopub.execute_input": "2020-08-24T10:59:18.675085Z",
     "iopub.status.busy": "2020-08-24T10:59:18.673974Z",
     "iopub.status.idle": "2020-08-24T10:59:18.763845Z",
     "shell.execute_reply": "2020-08-24T10:59:18.763114Z"
    },
    "id": "6kbZBRTN6BOv",
    "outputId": "80962e2d-203f-4b34-c32f-3054f0c84913",
    "papermill": {
     "duration": 0.446283,
     "end_time": "2020-08-24T10:59:18.763996",
     "exception": false,
     "start_time": "2020-08-24T10:59:18.317713",
     "status": "completed"
    },
    "tags": []
   },
   "outputs": [
    {
     "name": "stdout",
     "output_type": "stream",
     "text": [
      "Customer is likely to pay back the loan \n",
      "Loan can be approved\n"
     ]
    }
   ],
   "source": [
    "# Model predicted\n",
    "assess_customer(new_cust.drop('loan_repaid'))"
   ]
  },
  {
   "cell_type": "code",
   "execution_count": 108,
   "metadata": {
    "execution": {
     "iopub.execute_input": "2020-08-24T10:59:19.523816Z",
     "iopub.status.busy": "2020-08-24T10:59:19.522709Z",
     "iopub.status.idle": "2020-08-24T10:59:19.528122Z",
     "shell.execute_reply": "2020-08-24T10:59:19.527469Z"
    },
    "id": "EXf5u1IFFISC",
    "outputId": "6b829159-dc2e-4791-c782-aa78cdc8bc8f",
    "papermill": {
     "duration": 0.364298,
     "end_time": "2020-08-24T10:59:19.528257",
     "exception": false,
     "start_time": "2020-08-24T10:59:19.163959",
     "status": "completed"
    },
    "tags": []
   },
   "outputs": [
    {
     "data": {
      "text/plain": [
       "1.0"
      ]
     },
     "execution_count": 108,
     "metadata": {},
     "output_type": "execute_result"
    }
   ],
   "source": [
    "# Actual\n",
    "new_cust['loan_repaid']"
   ]
  },
  {
   "cell_type": "markdown",
   "execution_count": null,
   "metadata": {
    "id": "0pmsw7P1_bjp",
    "papermill": {
     "duration": 0.34875,
     "end_time": "2020-08-24T10:59:20.223781",
     "exception": false,
     "start_time": "2020-08-24T10:59:19.875031",
     "status": "completed"
    },
    "tags": []
   },
   "source": [
    "# **Reference(s):**\n",
    "\n",
    "This notebook is created by learning from a course **Python for Data Science and Machine Learning Bootcamp** created by **Jose Portilla**."
   ]
  }
 ],
 "metadata": {
  "kernelspec": {
   "display_name": "Python 3",
   "language": "python",
   "name": "python3"
  },
  "language_info": {
   "codemirror_mode": {
    "name": "ipython",
    "version": 3
   },
   "file_extension": ".py",
   "mimetype": "text/x-python",
   "name": "python",
   "nbconvert_exporter": "python",
   "pygments_lexer": "ipython3",
   "version": "3.7.6"
  },
  "papermill": {
   "duration": 338.4889,
   "end_time": "2020-08-24T10:59:20.684317",
   "environment_variables": {},
   "exception": null,
   "input_path": "__notebook__.ipynb",
   "output_path": "__notebook__.ipynb",
   "parameters": {},
   "start_time": "2020-08-24T10:53:42.195417",
   "version": "2.1.0"
  }
 },
 "nbformat": 4,
 "nbformat_minor": 4
}
