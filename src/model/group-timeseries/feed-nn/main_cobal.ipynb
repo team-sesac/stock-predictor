{
 "cells": [
  {
   "cell_type": "code",
   "execution_count": null,
   "metadata": {},
   "outputs": [],
   "source": [
    "from google.colab import drive\n",
    "import subprocess\n",
    "import os\n",
    "drive.mount('/content/drive')\n",
    "\n",
    "path = \"/content/drive/MyDrive/04. project/ai/kaggle/optiver-stock-2023/src/model/group-timeseries/feed-nn/\" # drive path\n",
    "os.chdir(path)\n",
    "\n",
    "script_path = \"main.py\"\n",
    "\n",
    "try:\n",
    "    subprocess.run([\"python\", script_path], check=True, capture_output=True, text=True)\n",
    "except subprocess.CalledProcessError as e:\n",
    "    print(f\"표준 에러 출력:\\n{e.stderr}\")"
   ]
  }
 ],
 "metadata": {
  "kernelspec": {
   "display_name": "ai2",
   "language": "python",
   "name": "python3"
  },
  "language_info": {
   "name": "python",
   "version": "3.11.4"
  }
 },
 "nbformat": 4,
 "nbformat_minor": 2
}
